{
 "cells": [
  {
   "cell_type": "code",
   "id": "initial_id",
   "metadata": {
    "collapsed": true,
    "ExecuteTime": {
     "end_time": "2025-03-27T12:26:19.028194Z",
     "start_time": "2025-03-27T12:26:18.424904Z"
    }
   },
   "source": [
    "import pandas as pd\n",
    "\n",
    "from config import RATINGS_FILE, RECOMMENDATIONS_FILE\n",
    "\n",
    "df = pd.read_csv(\"../\"+RECOMMENDATIONS_FILE+\"bpr.csv\")"
   ],
   "outputs": [],
   "execution_count": 2
  },
  {
   "metadata": {
    "ExecuteTime": {
     "end_time": "2025-03-27T12:26:19.137597Z",
     "start_time": "2025-03-27T12:26:19.113734Z"
    }
   },
   "cell_type": "code",
   "source": "df.head()",
   "id": "4caa1d5d6dcc01c",
   "outputs": [
    {
     "data": {
      "text/plain": [
       "                                   uuid  item_id  \\\n",
       "0  b7dd8e7e-a388-4a55-a918-1c7383f91585    28148   \n",
       "1  b7dd8e7e-a388-4a55-a918-1c7383f91585    68955   \n",
       "2  b7dd8e7e-a388-4a55-a918-1c7383f91585    54257   \n",
       "3  b7dd8e7e-a388-4a55-a918-1c7383f91585    39087   \n",
       "4  b7dd8e7e-a388-4a55-a918-1c7383f91585    27208   \n",
       "\n",
       "                                item_title  \\\n",
       "0          oven fried chicken chimichangas   \n",
       "1                   japanese mum s chicken   \n",
       "2  yes  virginia there is a great meatloaf   \n",
       "3               creamy cajun chicken pasta   \n",
       "4               to die for crock pot roast   \n",
       "\n",
       "                                    item_ingredients  \n",
       "0  ['picante sauce', 'ground cumin', 'dried orega...  \n",
       "1  ['chicken drumsticks', 'water', 'balsamic vine...  \n",
       "2  ['ground beef', 'bread', 'egg', 'vidalia onion...  \n",
       "3  ['boneless skinless chicken breast halves', 'l...  \n",
       "4  ['beef roast', 'brown gravy mix', 'dried itali...  "
      ],
      "text/html": [
       "<div>\n",
       "<style scoped>\n",
       "    .dataframe tbody tr th:only-of-type {\n",
       "        vertical-align: middle;\n",
       "    }\n",
       "\n",
       "    .dataframe tbody tr th {\n",
       "        vertical-align: top;\n",
       "    }\n",
       "\n",
       "    .dataframe thead th {\n",
       "        text-align: right;\n",
       "    }\n",
       "</style>\n",
       "<table border=\"1\" class=\"dataframe\">\n",
       "  <thead>\n",
       "    <tr style=\"text-align: right;\">\n",
       "      <th></th>\n",
       "      <th>uuid</th>\n",
       "      <th>item_id</th>\n",
       "      <th>item_title</th>\n",
       "      <th>item_ingredients</th>\n",
       "    </tr>\n",
       "  </thead>\n",
       "  <tbody>\n",
       "    <tr>\n",
       "      <th>0</th>\n",
       "      <td>b7dd8e7e-a388-4a55-a918-1c7383f91585</td>\n",
       "      <td>28148</td>\n",
       "      <td>oven fried chicken chimichangas</td>\n",
       "      <td>['picante sauce', 'ground cumin', 'dried orega...</td>\n",
       "    </tr>\n",
       "    <tr>\n",
       "      <th>1</th>\n",
       "      <td>b7dd8e7e-a388-4a55-a918-1c7383f91585</td>\n",
       "      <td>68955</td>\n",
       "      <td>japanese mum s chicken</td>\n",
       "      <td>['chicken drumsticks', 'water', 'balsamic vine...</td>\n",
       "    </tr>\n",
       "    <tr>\n",
       "      <th>2</th>\n",
       "      <td>b7dd8e7e-a388-4a55-a918-1c7383f91585</td>\n",
       "      <td>54257</td>\n",
       "      <td>yes  virginia there is a great meatloaf</td>\n",
       "      <td>['ground beef', 'bread', 'egg', 'vidalia onion...</td>\n",
       "    </tr>\n",
       "    <tr>\n",
       "      <th>3</th>\n",
       "      <td>b7dd8e7e-a388-4a55-a918-1c7383f91585</td>\n",
       "      <td>39087</td>\n",
       "      <td>creamy cajun chicken pasta</td>\n",
       "      <td>['boneless skinless chicken breast halves', 'l...</td>\n",
       "    </tr>\n",
       "    <tr>\n",
       "      <th>4</th>\n",
       "      <td>b7dd8e7e-a388-4a55-a918-1c7383f91585</td>\n",
       "      <td>27208</td>\n",
       "      <td>to die for crock pot roast</td>\n",
       "      <td>['beef roast', 'brown gravy mix', 'dried itali...</td>\n",
       "    </tr>\n",
       "  </tbody>\n",
       "</table>\n",
       "</div>"
      ]
     },
     "execution_count": 3,
     "metadata": {},
     "output_type": "execute_result"
    }
   ],
   "execution_count": 3
  },
  {
   "metadata": {
    "ExecuteTime": {
     "end_time": "2025-03-27T12:26:19.281225Z",
     "start_time": "2025-03-27T12:26:19.270917Z"
    }
   },
   "cell_type": "code",
   "source": [
    "df[\"uuid_trunc\"] = df[\"uuid\"].apply(lambda x: x[:5])\n",
    "df[\"item_title\"] = df[\"item_title\"].apply(lambda x: x[:10])"
   ],
   "id": "aadf418e17991f8c",
   "outputs": [],
   "execution_count": 4
  },
  {
   "metadata": {
    "ExecuteTime": {
     "end_time": "2025-03-27T12:26:52.065913Z",
     "start_time": "2025-03-27T12:26:52.056331Z"
    }
   },
   "cell_type": "code",
   "source": [
    "# plot nr. of unique items vs nr. of unique users and nr. of recommendations per user\n",
    "n_unique_recommendations = df[\"item_title\"].nunique()\n",
    "n_possible_unique_recommendations = df[\"uuid\"].nunique() * int(df.groupby(\"uuid\")[\"item_title\"].count().mean())\n",
    "n_unique_percent = (n_unique_recommendations / n_possible_unique_recommendations)*100\n",
    "\n",
    "print(f\"Made {n_unique_recommendations} of {n_possible_unique_recommendations} possible unique recommendations ({n_unique_percent}%)\")"
   ],
   "id": "61030d05177d56dc",
   "outputs": [
    {
     "name": "stdout",
     "output_type": "stream",
     "text": [
      "Made 34 of 200 possible unique recommendations (17.0%)\n"
     ]
    }
   ],
   "execution_count": 6
  },
  {
   "metadata": {
    "ExecuteTime": {
     "end_time": "2025-03-27T12:26:19.566055Z",
     "start_time": "2025-03-27T12:26:19.562012Z"
    }
   },
   "cell_type": "code",
   "source": "",
   "id": "809ac273c3603b62",
   "outputs": [],
   "execution_count": null
  }
 ],
 "metadata": {
  "kernelspec": {
   "display_name": "Python 3",
   "language": "python",
   "name": "python3"
  },
  "language_info": {
   "codemirror_mode": {
    "name": "ipython",
    "version": 2
   },
   "file_extension": ".py",
   "mimetype": "text/x-python",
   "name": "python",
   "nbconvert_exporter": "python",
   "pygments_lexer": "ipython2",
   "version": "2.7.6"
  }
 },
 "nbformat": 4,
 "nbformat_minor": 5
}
