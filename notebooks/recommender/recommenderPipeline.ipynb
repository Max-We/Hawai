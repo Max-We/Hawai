{
  "cells": [
    {
      "cell_type": "code",
      "execution_count": null,
      "metadata": {},
      "outputs": [],
      "source": [
        "#%pip install tensorflow==2.15 keras==2.15"
      ]
    },
    {
      "cell_type": "code",
      "execution_count": 3,
      "metadata": {},
      "outputs": [
        {
          "name": "stdout",
          "output_type": "stream",
          "text": [
            "-------- Started training: SVDpp --------\n",
            "Finale Daten: 131535 Interaktionen \n",
            "n_users: 2486, n_items: 4501, data density: 0.9404 %\n",
            "Training start time: \u001b[35m2025-04-02 15:09:02\u001b[0m\n"
          ]
        },
        {
          "name": "stderr",
          "output_type": "stream",
          "text": [
            "train: 100%|██████████| 4576/4576 [00:26<00:00, 172.82it/s]\n"
          ]
        },
        {
          "name": "stdout",
          "output_type": "stream",
          "text": [
            "Epoch 1 elapsed: 26.480s\n",
            "\t \u001b[32mtrain_loss: 0.3866\u001b[0m\n"
          ]
        },
        {
          "name": "stderr",
          "output_type": "stream",
          "text": [
            "eval_pointwise: 100%|██████████| 18/18 [00:00<00:00, 622.85it/s]\n",
            "eval_listwise: 100%|██████████| 2380/2380 [00:00<00:00, 4004.92it/s]\n"
          ]
        },
        {
          "name": "stdout",
          "output_type": "stream",
          "text": [
            "\t eval log_loss: 0.2880\n",
            "\t eval roc_auc: 0.6663\n",
            "\t eval precision@10: 0.0174\n",
            "\t eval recall@10: 0.0402\n",
            "\t eval ndcg@10: 0.0813\n",
            "==============================\n"
          ]
        },
        {
          "name": "stderr",
          "output_type": "stream",
          "text": [
            "train: 100%|██████████| 4576/4576 [00:26<00:00, 174.09it/s]\n"
          ]
        },
        {
          "name": "stdout",
          "output_type": "stream",
          "text": [
            "Epoch 2 elapsed: 26.286s\n",
            "\t \u001b[32mtrain_loss: 0.2865\u001b[0m\n"
          ]
        },
        {
          "name": "stderr",
          "output_type": "stream",
          "text": [
            "eval_pointwise: 100%|██████████| 18/18 [00:00<00:00, 599.66it/s]\n",
            "eval_listwise: 100%|██████████| 2380/2380 [00:00<00:00, 4424.93it/s]\n"
          ]
        },
        {
          "name": "stdout",
          "output_type": "stream",
          "text": [
            "\t eval log_loss: 0.2864\n",
            "\t eval roc_auc: 0.6701\n",
            "\t eval precision@10: 0.0183\n",
            "\t eval recall@10: 0.0416\n",
            "\t eval ndcg@10: 0.0798\n",
            "==============================\n"
          ]
        },
        {
          "name": "stderr",
          "output_type": "stream",
          "text": [
            "train: 100%|██████████| 4576/4576 [00:26<00:00, 169.82it/s]\n"
          ]
        },
        {
          "name": "stdout",
          "output_type": "stream",
          "text": [
            "Epoch 3 elapsed: 26.947s\n",
            "\t \u001b[32mtrain_loss: 0.2854\u001b[0m\n"
          ]
        },
        {
          "name": "stderr",
          "output_type": "stream",
          "text": [
            "eval_pointwise: 100%|██████████| 18/18 [00:00<00:00, 632.72it/s]\n",
            "eval_listwise: 100%|██████████| 2380/2380 [00:00<00:00, 4614.00it/s]\n"
          ]
        },
        {
          "name": "stdout",
          "output_type": "stream",
          "text": [
            "\t eval log_loss: 0.2855\n",
            "\t eval roc_auc: 0.6734\n",
            "\t eval precision@10: 0.0179\n",
            "\t eval recall@10: 0.0414\n",
            "\t eval ndcg@10: 0.0822\n",
            "==============================\n"
          ]
        },
        {
          "name": "stderr",
          "output_type": "stream",
          "text": [
            "train: 100%|██████████| 4576/4576 [00:26<00:00, 174.21it/s]\n"
          ]
        },
        {
          "name": "stdout",
          "output_type": "stream",
          "text": [
            "Epoch 4 elapsed: 26.269s\n",
            "\t \u001b[32mtrain_loss: 0.2846\u001b[0m\n"
          ]
        },
        {
          "name": "stderr",
          "output_type": "stream",
          "text": [
            "eval_pointwise: 100%|██████████| 18/18 [00:00<00:00, 672.52it/s]\n",
            "eval_listwise: 100%|██████████| 2380/2380 [00:00<00:00, 5621.03it/s]\n"
          ]
        },
        {
          "name": "stdout",
          "output_type": "stream",
          "text": [
            "\t eval log_loss: 0.2848\n",
            "\t eval roc_auc: 0.6755\n",
            "\t eval precision@10: 0.0185\n",
            "\t eval recall@10: 0.0416\n",
            "\t eval ndcg@10: 0.0815\n",
            "==============================\n"
          ]
        },
        {
          "name": "stderr",
          "output_type": "stream",
          "text": [
            "train: 100%|██████████| 4576/4576 [00:25<00:00, 177.17it/s]\n"
          ]
        },
        {
          "name": "stdout",
          "output_type": "stream",
          "text": [
            "Epoch 5 elapsed: 25.831s\n",
            "\t \u001b[32mtrain_loss: 0.2835\u001b[0m\n"
          ]
        },
        {
          "name": "stderr",
          "output_type": "stream",
          "text": [
            "eval_pointwise: 100%|██████████| 18/18 [00:00<00:00, 693.51it/s]\n",
            "eval_listwise: 100%|██████████| 2380/2380 [00:00<00:00, 5456.24it/s]\n"
          ]
        },
        {
          "name": "stdout",
          "output_type": "stream",
          "text": [
            "\t eval log_loss: 0.2839\n",
            "\t eval roc_auc: 0.6802\n",
            "\t eval precision@10: 0.0182\n",
            "\t eval recall@10: 0.0408\n",
            "\t eval ndcg@10: 0.0823\n",
            "==============================\n"
          ]
        },
        {
          "name": "stderr",
          "output_type": "stream",
          "text": [
            "train: 100%|██████████| 4576/4576 [00:26<00:00, 174.70it/s]\n"
          ]
        },
        {
          "name": "stdout",
          "output_type": "stream",
          "text": [
            "Epoch 6 elapsed: 26.196s\n",
            "\t \u001b[32mtrain_loss: 0.2824\u001b[0m\n"
          ]
        },
        {
          "name": "stderr",
          "output_type": "stream",
          "text": [
            "eval_pointwise: 100%|██████████| 18/18 [00:00<00:00, 650.31it/s]\n",
            "eval_listwise: 100%|██████████| 2380/2380 [00:00<00:00, 5058.05it/s]\n"
          ]
        },
        {
          "name": "stdout",
          "output_type": "stream",
          "text": [
            "\t eval log_loss: 0.2830\n",
            "\t eval roc_auc: 0.6843\n",
            "\t eval precision@10: 0.0174\n",
            "\t eval recall@10: 0.0382\n",
            "\t eval ndcg@10: 0.0792\n",
            "==============================\n"
          ]
        },
        {
          "name": "stderr",
          "output_type": "stream",
          "text": [
            "train: 100%|██████████| 4576/4576 [00:27<00:00, 163.43it/s]\n"
          ]
        },
        {
          "name": "stdout",
          "output_type": "stream",
          "text": [
            "Epoch 7 elapsed: 28.001s\n",
            "\t \u001b[32mtrain_loss: 0.2813\u001b[0m\n"
          ]
        },
        {
          "name": "stderr",
          "output_type": "stream",
          "text": [
            "eval_pointwise: 100%|██████████| 18/18 [00:00<00:00, 428.66it/s]\n",
            "eval_listwise: 100%|██████████| 2380/2380 [00:00<00:00, 3283.41it/s]\n"
          ]
        },
        {
          "name": "stdout",
          "output_type": "stream",
          "text": [
            "\t eval log_loss: 0.2823\n",
            "\t eval roc_auc: 0.6882\n",
            "\t eval precision@10: 0.0172\n",
            "\t eval recall@10: 0.0379\n",
            "\t eval ndcg@10: 0.0798\n",
            "==============================\n"
          ]
        },
        {
          "name": "stderr",
          "output_type": "stream",
          "text": [
            "train: 100%|██████████| 4576/4576 [00:41<00:00, 110.76it/s]\n"
          ]
        },
        {
          "name": "stdout",
          "output_type": "stream",
          "text": [
            "Epoch 8 elapsed: 41.316s\n",
            "\t \u001b[32mtrain_loss: 0.2807\u001b[0m\n"
          ]
        },
        {
          "name": "stderr",
          "output_type": "stream",
          "text": [
            "eval_pointwise: 100%|██████████| 18/18 [00:00<00:00, 381.83it/s]\n",
            "eval_listwise: 100%|██████████| 2380/2380 [00:00<00:00, 3279.70it/s]\n"
          ]
        },
        {
          "name": "stdout",
          "output_type": "stream",
          "text": [
            "\t eval log_loss: 0.2814\n",
            "\t eval roc_auc: 0.6920\n",
            "\t eval precision@10: 0.0176\n",
            "\t eval recall@10: 0.0390\n",
            "\t eval ndcg@10: 0.0797\n",
            "==============================\n"
          ]
        },
        {
          "name": "stderr",
          "output_type": "stream",
          "text": [
            "train: 100%|██████████| 4576/4576 [00:29<00:00, 152.72it/s]\n"
          ]
        },
        {
          "name": "stdout",
          "output_type": "stream",
          "text": [
            "Epoch 9 elapsed: 29.966s\n",
            "\t \u001b[32mtrain_loss: 0.2798\u001b[0m\n"
          ]
        },
        {
          "name": "stderr",
          "output_type": "stream",
          "text": [
            "eval_pointwise: 100%|██████████| 18/18 [00:00<00:00, 421.77it/s]\n",
            "eval_listwise: 100%|██████████| 2380/2380 [00:00<00:00, 3577.59it/s]\n"
          ]
        },
        {
          "name": "stdout",
          "output_type": "stream",
          "text": [
            "\t eval log_loss: 0.2812\n",
            "\t eval roc_auc: 0.6939\n",
            "\t eval precision@10: 0.0174\n",
            "\t eval recall@10: 0.0382\n",
            "\t eval ndcg@10: 0.0814\n",
            "==============================\n"
          ]
        },
        {
          "name": "stderr",
          "output_type": "stream",
          "text": [
            "train: 100%|██████████| 4576/4576 [00:32<00:00, 141.82it/s]\n"
          ]
        },
        {
          "name": "stdout",
          "output_type": "stream",
          "text": [
            "Epoch 10 elapsed: 32.267s\n",
            "\t \u001b[32mtrain_loss: 0.2795\u001b[0m\n"
          ]
        },
        {
          "name": "stderr",
          "output_type": "stream",
          "text": [
            "eval_pointwise: 100%|██████████| 18/18 [00:00<00:00, 643.09it/s]\n",
            "eval_listwise: 100%|██████████| 2380/2380 [00:00<00:00, 3216.75it/s]\n"
          ]
        },
        {
          "name": "stdout",
          "output_type": "stream",
          "text": [
            "\t eval log_loss: 0.2810\n",
            "\t eval roc_auc: 0.6951\n",
            "\t eval precision@10: 0.0185\n",
            "\t eval recall@10: 0.0415\n",
            "\t eval ndcg@10: 0.0813\n",
            "==============================\n"
          ]
        },
        {
          "name": "stderr",
          "output_type": "stream",
          "text": [
            "eval_pointwise: 100%|██████████| 18/18 [00:00<00:00, 400.54it/s]\n",
            "eval_listwise: 100%|██████████| 2392/2392 [00:00<00:00, 3616.76it/s]\n"
          ]
        }
      ],
      "source": [
        "from recipeRecommender import RecipeRecommender\n",
        "import os\n",
        "os.chdir(\"/Users/florianzierer/Documents/GitHub/Hawai/\")\n",
        "from config import RATINGS_FILE,RECOMMENDATIONS_FILE\n",
        "\n",
        "algorithms = [\"SVDpp\"] #, \"ItemCF\", \"BPR\", \"SVD\", \"SVDpp\", \"ALS\", \"UserCF\"\n",
        "\n",
        "for algorithm in algorithms:\n",
        "    print(\"-------- \"+\"Started training: \" + algorithm+\" --------\")\n",
        "    recommender = RecipeRecommender()\n",
        "    recommender.load_and_preprocess(min_interactions=20)\n",
        "    #recommender.import_ratings_csv(\"./\"+RATINGS_FILE)\n",
        "    recommender.set_model(algorithm) # \"SVD\", \"SVDpp\", \"ALS\", \"BPR\", \"UserCF\", \"ItemCF\"\n",
        "    recommender.train()\n",
        "    recommender.evaluate()\n",
        "    #recommendations = recommender.save_recommendations_as_csv(20,RECOMMENDATIONS_FILE+algorithm.lower()+\".csv\")"
      ]
    },
    {
      "cell_type": "code",
      "execution_count": null,
      "metadata": {},
      "outputs": [],
      "source": [
        "from recommendationHelper import RHelper\n",
        "helper = RHelper(recommender)\n"
      ]
    },
    {
      "cell_type": "code",
      "execution_count": null,
      "metadata": {},
      "outputs": [
        {
          "data": {
            "text/html": [
              "<div>\n",
              "<style scoped>\n",
              "    .dataframe tbody tr th:only-of-type {\n",
              "        vertical-align: middle;\n",
              "    }\n",
              "\n",
              "    .dataframe tbody tr th {\n",
              "        vertical-align: top;\n",
              "    }\n",
              "\n",
              "    .dataframe thead th {\n",
              "        text-align: right;\n",
              "    }\n",
              "</style>\n",
              "<table border=\"1\" class=\"dataframe\">\n",
              "  <thead>\n",
              "    <tr style=\"text-align: right;\">\n",
              "      <th></th>\n",
              "      <th>recipe_id</th>\n",
              "      <th>rating</th>\n",
              "      <th>recipe_name</th>\n",
              "    </tr>\n",
              "  </thead>\n",
              "  <tbody>\n",
              "    <tr>\n",
              "      <th>0</th>\n",
              "      <td>415374</td>\n",
              "      <td>0</td>\n",
              "      <td>garlic loaf</td>\n",
              "    </tr>\n",
              "    <tr>\n",
              "      <th>1</th>\n",
              "      <td>352281</td>\n",
              "      <td>0</td>\n",
              "      <td>chicken coconut curry soup   a k a  easy mulli...</td>\n",
              "    </tr>\n",
              "    <tr>\n",
              "      <th>2</th>\n",
              "      <td>198802</td>\n",
              "      <td>0</td>\n",
              "      <td>cherry almond butter cookies</td>\n",
              "    </tr>\n",
              "    <tr>\n",
              "      <th>3</th>\n",
              "      <td>38852</td>\n",
              "      <td>0</td>\n",
              "      <td>second only to my meatloaf  meatballs</td>\n",
              "    </tr>\n",
              "    <tr>\n",
              "      <th>4</th>\n",
              "      <td>51836</td>\n",
              "      <td>0</td>\n",
              "      <td>easy pasta lasagna</td>\n",
              "    </tr>\n",
              "    <tr>\n",
              "      <th>5</th>\n",
              "      <td>248074</td>\n",
              "      <td>0</td>\n",
              "      <td>garlic fries  light</td>\n",
              "    </tr>\n",
              "    <tr>\n",
              "      <th>6</th>\n",
              "      <td>86607</td>\n",
              "      <td>0</td>\n",
              "      <td>breakfast  pizza   somersize</td>\n",
              "    </tr>\n",
              "    <tr>\n",
              "      <th>7</th>\n",
              "      <td>220440</td>\n",
              "      <td>0</td>\n",
              "      <td>easter deviled eggs</td>\n",
              "    </tr>\n",
              "    <tr>\n",
              "      <th>8</th>\n",
              "      <td>336852</td>\n",
              "      <td>0</td>\n",
              "      <td>baked corn  like a corn casserole  but no chee...</td>\n",
              "    </tr>\n",
              "    <tr>\n",
              "      <th>9</th>\n",
              "      <td>418161</td>\n",
              "      <td>0</td>\n",
              "      <td>chicken oreganata with lime</td>\n",
              "    </tr>\n",
              "    <tr>\n",
              "      <th>10</th>\n",
              "      <td>134451</td>\n",
              "      <td>0</td>\n",
              "      <td>hazelnut chip scones</td>\n",
              "    </tr>\n",
              "    <tr>\n",
              "      <th>11</th>\n",
              "      <td>163427</td>\n",
              "      <td>0</td>\n",
              "      <td>baked tofu with mushroom gravy</td>\n",
              "    </tr>\n",
              "    <tr>\n",
              "      <th>12</th>\n",
              "      <td>8054</td>\n",
              "      <td>0</td>\n",
              "      <td>barbecue hamburger patties</td>\n",
              "    </tr>\n",
              "    <tr>\n",
              "      <th>13</th>\n",
              "      <td>384508</td>\n",
              "      <td>0</td>\n",
              "      <td>gravy peas</td>\n",
              "    </tr>\n",
              "    <tr>\n",
              "      <th>14</th>\n",
              "      <td>466724</td>\n",
              "      <td>0</td>\n",
              "      <td>creamy chicken  spinach and tortellini soup</td>\n",
              "    </tr>\n",
              "    <tr>\n",
              "      <th>15</th>\n",
              "      <td>148527</td>\n",
              "      <td>0</td>\n",
              "      <td>breaded steak  bistec empanizado</td>\n",
              "    </tr>\n",
              "    <tr>\n",
              "      <th>16</th>\n",
              "      <td>193998</td>\n",
              "      <td>0</td>\n",
              "      <td>abraham lincoln s   best cake i ever tasted   ...</td>\n",
              "    </tr>\n",
              "    <tr>\n",
              "      <th>17</th>\n",
              "      <td>116529</td>\n",
              "      <td>0</td>\n",
              "      <td>fudge filled chocolate chip thumbprints</td>\n",
              "    </tr>\n",
              "    <tr>\n",
              "      <th>18</th>\n",
              "      <td>172212</td>\n",
              "      <td>0</td>\n",
              "      <td>creamy mocha drink</td>\n",
              "    </tr>\n",
              "    <tr>\n",
              "      <th>19</th>\n",
              "      <td>149162</td>\n",
              "      <td>0</td>\n",
              "      <td>chewy gingerbread molasses cookies</td>\n",
              "    </tr>\n",
              "  </tbody>\n",
              "</table>\n",
              "</div>"
            ],
            "text/plain": [
              "    recipe_id  rating                                        recipe_name\n",
              "0      415374       0                                        garlic loaf\n",
              "1      352281       0  chicken coconut curry soup   a k a  easy mulli...\n",
              "2      198802       0                       cherry almond butter cookies\n",
              "3       38852       0              second only to my meatloaf  meatballs\n",
              "4       51836       0                                 easy pasta lasagna\n",
              "5      248074       0                                garlic fries  light\n",
              "6       86607       0                       breakfast  pizza   somersize\n",
              "7      220440       0                                easter deviled eggs\n",
              "8      336852       0  baked corn  like a corn casserole  but no chee...\n",
              "9      418161       0                        chicken oreganata with lime\n",
              "10     134451       0                               hazelnut chip scones\n",
              "11     163427       0                     baked tofu with mushroom gravy\n",
              "12       8054       0                         barbecue hamburger patties\n",
              "13     384508       0                                         gravy peas\n",
              "14     466724       0        creamy chicken  spinach and tortellini soup\n",
              "15     148527       0                   breaded steak  bistec empanizado\n",
              "16     193998       0  abraham lincoln s   best cake i ever tasted   ...\n",
              "17     116529       0            fudge filled chocolate chip thumbprints\n",
              "18     172212       0                                 creamy mocha drink\n",
              "19     149162       0                 chewy gingerbread molasses cookies"
            ]
          },
          "execution_count": 6,
          "metadata": {},
          "output_type": "execute_result"
        }
      ],
      "source": [
        "helper.get_user_interactions(\"8ba9549e-2542-49a6-8517-586e3926f939\")"
      ]
    },
    {
      "cell_type": "code",
      "execution_count": null,
      "metadata": {},
      "outputs": [
        {
          "data": {
            "text/html": [
              "<div>\n",
              "<style scoped>\n",
              "    .dataframe tbody tr th:only-of-type {\n",
              "        vertical-align: middle;\n",
              "    }\n",
              "\n",
              "    .dataframe tbody tr th {\n",
              "        vertical-align: top;\n",
              "    }\n",
              "\n",
              "    .dataframe thead th {\n",
              "        text-align: right;\n",
              "    }\n",
              "</style>\n",
              "<table border=\"1\" class=\"dataframe\">\n",
              "  <thead>\n",
              "    <tr style=\"text-align: right;\">\n",
              "      <th></th>\n",
              "      <th>recipe_id</th>\n",
              "      <th>recipe_name</th>\n",
              "    </tr>\n",
              "  </thead>\n",
              "  <tbody>\n",
              "    <tr>\n",
              "      <th>0</th>\n",
              "      <td>384508</td>\n",
              "      <td>gravy peas</td>\n",
              "    </tr>\n",
              "    <tr>\n",
              "      <th>1</th>\n",
              "      <td>466724</td>\n",
              "      <td>creamy chicken  spinach and tortellini soup</td>\n",
              "    </tr>\n",
              "    <tr>\n",
              "      <th>2</th>\n",
              "      <td>81413</td>\n",
              "      <td>grandmas country soup 1965</td>\n",
              "    </tr>\n",
              "    <tr>\n",
              "      <th>3</th>\n",
              "      <td>164062</td>\n",
              "      <td>good old diner meatloaf</td>\n",
              "    </tr>\n",
              "    <tr>\n",
              "      <th>4</th>\n",
              "      <td>96581</td>\n",
              "      <td>diana s egyptian lentils   rice</td>\n",
              "    </tr>\n",
              "    <tr>\n",
              "      <th>5</th>\n",
              "      <td>318050</td>\n",
              "      <td>diet soda pop brownies</td>\n",
              "    </tr>\n",
              "    <tr>\n",
              "      <th>6</th>\n",
              "      <td>149162</td>\n",
              "      <td>chewy gingerbread molasses cookies</td>\n",
              "    </tr>\n",
              "    <tr>\n",
              "      <th>7</th>\n",
              "      <td>50064</td>\n",
              "      <td>tofu  alfredo  sauce</td>\n",
              "    </tr>\n",
              "    <tr>\n",
              "      <th>8</th>\n",
              "      <td>161324</td>\n",
              "      <td>wonderful curried sweet potato soup</td>\n",
              "    </tr>\n",
              "    <tr>\n",
              "      <th>9</th>\n",
              "      <td>51885</td>\n",
              "      <td>honey glazed carrots and parsnips</td>\n",
              "    </tr>\n",
              "    <tr>\n",
              "      <th>10</th>\n",
              "      <td>341648</td>\n",
              "      <td>honey roasted carrots   variations</td>\n",
              "    </tr>\n",
              "    <tr>\n",
              "      <th>11</th>\n",
              "      <td>167760</td>\n",
              "      <td>chilean salad</td>\n",
              "    </tr>\n",
              "    <tr>\n",
              "      <th>12</th>\n",
              "      <td>7722</td>\n",
              "      <td>cucumber in sour cream salad</td>\n",
              "    </tr>\n",
              "    <tr>\n",
              "      <th>13</th>\n",
              "      <td>139212</td>\n",
              "      <td>caf de olla  sweet cinnamon coffee</td>\n",
              "    </tr>\n",
              "    <tr>\n",
              "      <th>14</th>\n",
              "      <td>144926</td>\n",
              "      <td>jamaican carrots</td>\n",
              "    </tr>\n",
              "    <tr>\n",
              "      <th>15</th>\n",
              "      <td>400137</td>\n",
              "      <td>fried eggs with dill</td>\n",
              "    </tr>\n",
              "    <tr>\n",
              "      <th>16</th>\n",
              "      <td>415193</td>\n",
              "      <td>tasty tandoori  sweet potatoes</td>\n",
              "    </tr>\n",
              "    <tr>\n",
              "      <th>17</th>\n",
              "      <td>98849</td>\n",
              "      <td>julia child s herb biscuits</td>\n",
              "    </tr>\n",
              "    <tr>\n",
              "      <th>18</th>\n",
              "      <td>193864</td>\n",
              "      <td>lemon  garlic and basil shrimp skewers</td>\n",
              "    </tr>\n",
              "    <tr>\n",
              "      <th>19</th>\n",
              "      <td>248350</td>\n",
              "      <td>one dish chicken and bows</td>\n",
              "    </tr>\n",
              "  </tbody>\n",
              "</table>\n",
              "</div>"
            ],
            "text/plain": [
              "    recipe_id                                  recipe_name\n",
              "0      384508                                   gravy peas\n",
              "1      466724  creamy chicken  spinach and tortellini soup\n",
              "2       81413                   grandmas country soup 1965\n",
              "3      164062                      good old diner meatloaf\n",
              "4       96581              diana s egyptian lentils   rice\n",
              "5      318050                       diet soda pop brownies\n",
              "6      149162           chewy gingerbread molasses cookies\n",
              "7       50064                         tofu  alfredo  sauce\n",
              "8      161324          wonderful curried sweet potato soup\n",
              "9       51885            honey glazed carrots and parsnips\n",
              "10     341648           honey roasted carrots   variations\n",
              "11     167760                                chilean salad\n",
              "12       7722                 cucumber in sour cream salad\n",
              "13     139212           caf de olla  sweet cinnamon coffee\n",
              "14     144926                             jamaican carrots\n",
              "15     400137                         fried eggs with dill\n",
              "16     415193               tasty tandoori  sweet potatoes\n",
              "17      98849                  julia child s herb biscuits\n",
              "18     193864       lemon  garlic and basil shrimp skewers\n",
              "19     248350                    one dish chicken and bows"
            ]
          },
          "execution_count": 7,
          "metadata": {},
          "output_type": "execute_result"
        }
      ],
      "source": [
        "helper.get_formatted_recommendations(\"8ba9549e-2542-49a6-8517-586e3926f939\",20)"
      ]
    }
  ],
  "metadata": {
    "colab": {
      "provenance": []
    },
    "kernelspec": {
      "display_name": "default",
      "language": "python",
      "name": "python3"
    },
    "language_info": {
      "codemirror_mode": {
        "name": "ipython",
        "version": 3
      },
      "file_extension": ".py",
      "mimetype": "text/x-python",
      "name": "python",
      "nbconvert_exporter": "python",
      "pygments_lexer": "ipython3",
      "version": "3.11.11"
    }
  },
  "nbformat": 4,
  "nbformat_minor": 0
}
