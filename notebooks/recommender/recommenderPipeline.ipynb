{
  "cells": [
    {
      "cell_type": "code",
      "execution_count": 7,
      "metadata": {},
      "outputs": [],
      "source": [
        "#%pip install tensorflow==2.15 keras==2.15"
      ]
    },
    {
      "cell_type": "code",
      "execution_count": 3,
      "metadata": {},
      "outputs": [
        {
          "name": "stdout",
          "output_type": "stream",
          "text": [
            "-------- Started training: ItemCF --------\n",
            "Finale Daten: 131535 Interaktionen \n",
            "CSV erfolgreich geladen:\n",
            "                                   user  label    item\n",
            "0  8ba9549e-2542-49a6-8517-586e3926f939    1.0  415374\n",
            "1  8ba9549e-2542-49a6-8517-586e3926f939    1.0  352281\n",
            "2  8ba9549e-2542-49a6-8517-586e3926f939    1.0  198802\n",
            "3  8ba9549e-2542-49a6-8517-586e3926f939    1.0   38852\n",
            "4  8ba9549e-2542-49a6-8517-586e3926f939    1.0   51836\n",
            "500 neue Bewertungen hinzugefügt.\n",
            "n_users: 2511, n_items: 4525, data density: 0.9296 %\n",
            "Training start time: \u001b[35m2025-04-02 15:59:32\u001b[0m\n",
            "Final block size and num: (4525, 1)\n",
            "sim_matrix elapsed: 0.044s\n",
            "sim_matrix, shape: (4525, 4525), num_elements: 139742, density: 0.6825 %\n"
          ]
        },
        {
          "name": "stderr",
          "output_type": "stream",
          "text": [
            "top_k: 100%|██████████| 4525/4525 [00:00<00:00, 215413.54it/s]\n",
            "eval_pointwise:   0%|          | 0/4 [00:00<?, ?it/s]"
          ]
        },
        {
          "name": "stdout",
          "output_type": "stream",
          "text": [
            "\u001b[31mNo common interaction or similar neighbor for user 662 and item 2933, proceed with default prediction\u001b[0m\n",
            "\u001b[31mNo common interaction or similar neighbor for user 662 and item 2893, proceed with default prediction\u001b[0m\n",
            "\u001b[31mNo common interaction or similar neighbor for user 1718 and item 113, proceed with default prediction\u001b[0m\n",
            "\u001b[31mNo common interaction or similar neighbor for user 1110 and item 1244, proceed with default prediction\u001b[0m\n",
            "\u001b[31mNo common interaction or similar neighbor for user 1057 and item 2417, proceed with default prediction\u001b[0m\n",
            "\u001b[31mNo common interaction or similar neighbor for user 1195 and item 4037, proceed with default prediction\u001b[0m\n"
          ]
        },
        {
          "name": "stderr",
          "output_type": "stream",
          "text": [
            "eval_pointwise: 100%|██████████| 4/4 [00:00<00:00, 12.54it/s]\n",
            "eval_listwise: 100%|██████████| 2401/2401 [00:03<00:00, 628.68it/s]\n"
          ]
        },
        {
          "name": "stdout",
          "output_type": "stream",
          "text": [
            "\t eval log_loss: 8.2921\n",
            "\t eval roc_auc: 0.6386\n",
            "\t eval precision@10: 0.0168\n",
            "\t eval recall@10: 0.0346\n",
            "\t eval ndcg@10: 0.0757\n",
            "==============================\n"
          ]
        },
        {
          "name": "stderr",
          "output_type": "stream",
          "text": [
            "eval_pointwise: 100%|██████████| 4/4 [00:00<00:00, 12.73it/s]\n",
            "eval_listwise: 100%|██████████| 2379/2379 [00:03<00:00, 670.91it/s] \n"
          ]
        },
        {
          "name": "stdout",
          "output_type": "stream",
          "text": [
            "-------- Started training: BPR --------\n",
            "Finale Daten: 131535 Interaktionen \n",
            "CSV erfolgreich geladen:\n",
            "                                   user  label    item\n",
            "0  8ba9549e-2542-49a6-8517-586e3926f939    1.0  415374\n",
            "1  8ba9549e-2542-49a6-8517-586e3926f939    1.0  352281\n",
            "2  8ba9549e-2542-49a6-8517-586e3926f939    1.0  198802\n",
            "3  8ba9549e-2542-49a6-8517-586e3926f939    1.0   38852\n",
            "4  8ba9549e-2542-49a6-8517-586e3926f939    1.0   51836\n",
            "500 neue Bewertungen hinzugefügt.\n",
            "n_users: 2511, n_items: 4525, data density: 0.9296 %\n",
            "Training start time: \u001b[35m2025-04-02 15:59:44\u001b[0m\n"
          ]
        },
        {
          "name": "stderr",
          "output_type": "stream",
          "text": [
            "2025-04-02 15:59:45.096798: I tensorflow/compiler/mlir/mlir_graph_optimization_pass.cc:388] MLIR V1 optimization pass is not enabled\n"
          ]
        },
        {
          "name": "stdout",
          "output_type": "stream",
          "text": [
            "With lr_decay, epoch 1 learning rate: 0.0003000000142492354\n"
          ]
        },
        {
          "name": "stderr",
          "output_type": "stream",
          "text": [
            "train: 100%|██████████| 4226/4226 [00:04<00:00, 966.24it/s] \n"
          ]
        },
        {
          "name": "stdout",
          "output_type": "stream",
          "text": [
            "Epoch 1 elapsed: 4.375s\n",
            "\t \u001b[32mtrain_loss: 0.6804\u001b[0m\n"
          ]
        },
        {
          "name": "stderr",
          "output_type": "stream",
          "text": [
            "eval_pointwise: 100%|██████████| 18/18 [00:00<00:00, 518.27it/s]\n",
            "eval_listwise: 100%|██████████| 2401/2401 [00:00<00:00, 4803.07it/s]\n"
          ]
        },
        {
          "name": "stdout",
          "output_type": "stream",
          "text": [
            "\t eval log_loss: 0.6768\n",
            "\t eval roc_auc: 0.6670\n",
            "\t eval precision@10: 0.0165\n",
            "\t eval recall@10: 0.0356\n",
            "\t eval ndcg@10: 0.0749\n",
            "==============================\n",
            "With lr_decay, epoch 2 learning rate: 0.0002880000101868063\n"
          ]
        },
        {
          "name": "stderr",
          "output_type": "stream",
          "text": [
            "train: 100%|██████████| 4226/4226 [00:03<00:00, 1104.85it/s]\n"
          ]
        },
        {
          "name": "stdout",
          "output_type": "stream",
          "text": [
            "Epoch 2 elapsed: 3.828s\n",
            "\t \u001b[32mtrain_loss: 0.6491\u001b[0m\n"
          ]
        },
        {
          "name": "stderr",
          "output_type": "stream",
          "text": [
            "eval_pointwise: 100%|██████████| 18/18 [00:00<00:00, 622.47it/s]\n",
            "eval_listwise: 100%|██████████| 2401/2401 [00:00<00:00, 4386.29it/s]\n"
          ]
        },
        {
          "name": "stdout",
          "output_type": "stream",
          "text": [
            "\t eval log_loss: 0.6585\n",
            "\t eval roc_auc: 0.6804\n",
            "\t eval precision@10: 0.0165\n",
            "\t eval recall@10: 0.0357\n",
            "\t eval ndcg@10: 0.0749\n",
            "==============================\n",
            "With lr_decay, epoch 3 learning rate: 0.00027648001560010016\n"
          ]
        },
        {
          "name": "stderr",
          "output_type": "stream",
          "text": [
            "train: 100%|██████████| 4226/4226 [00:03<00:00, 1089.80it/s]\n"
          ]
        },
        {
          "name": "stdout",
          "output_type": "stream",
          "text": [
            "Epoch 3 elapsed: 3.880s\n",
            "\t \u001b[32mtrain_loss: 0.6033\u001b[0m\n"
          ]
        },
        {
          "name": "stderr",
          "output_type": "stream",
          "text": [
            "eval_pointwise: 100%|██████████| 18/18 [00:00<00:00, 621.10it/s]\n",
            "eval_listwise: 100%|██████████| 2401/2401 [00:00<00:00, 5734.98it/s]\n"
          ]
        },
        {
          "name": "stdout",
          "output_type": "stream",
          "text": [
            "\t eval log_loss: 0.6397\n",
            "\t eval roc_auc: 0.6894\n",
            "\t eval precision@10: 0.0172\n",
            "\t eval recall@10: 0.0371\n",
            "\t eval ndcg@10: 0.0766\n",
            "==============================\n",
            "With lr_decay, epoch 4 learning rate: 0.000265420792857185\n"
          ]
        },
        {
          "name": "stderr",
          "output_type": "stream",
          "text": [
            "train: 100%|██████████| 4226/4226 [00:03<00:00, 1133.70it/s]\n"
          ]
        },
        {
          "name": "stdout",
          "output_type": "stream",
          "text": [
            "Epoch 4 elapsed: 3.730s\n",
            "\t \u001b[32mtrain_loss: 0.5694\u001b[0m\n"
          ]
        },
        {
          "name": "stderr",
          "output_type": "stream",
          "text": [
            "eval_pointwise: 100%|██████████| 18/18 [00:00<00:00, 587.31it/s]\n",
            "eval_listwise: 100%|██████████| 2401/2401 [00:00<00:00, 5328.40it/s]\n"
          ]
        },
        {
          "name": "stdout",
          "output_type": "stream",
          "text": [
            "\t eval log_loss: 0.6307\n",
            "\t eval roc_auc: 0.6966\n",
            "\t eval precision@10: 0.0180\n",
            "\t eval recall@10: 0.0379\n",
            "\t eval ndcg@10: 0.0794\n",
            "==============================\n",
            "With lr_decay, epoch 5 learning rate: 0.0002548039483372122\n"
          ]
        },
        {
          "name": "stderr",
          "output_type": "stream",
          "text": [
            "train: 100%|██████████| 4226/4226 [00:03<00:00, 1093.67it/s]\n"
          ]
        },
        {
          "name": "stdout",
          "output_type": "stream",
          "text": [
            "Epoch 5 elapsed: 3.866s\n",
            "\t \u001b[32mtrain_loss: 0.5491\u001b[0m\n"
          ]
        },
        {
          "name": "stderr",
          "output_type": "stream",
          "text": [
            "eval_pointwise: 100%|██████████| 18/18 [00:00<00:00, 612.52it/s]\n",
            "eval_listwise: 100%|██████████| 2401/2401 [00:00<00:00, 5624.94it/s]\n"
          ]
        },
        {
          "name": "stdout",
          "output_type": "stream",
          "text": [
            "\t eval log_loss: 0.6258\n",
            "\t eval roc_auc: 0.7027\n",
            "\t eval precision@10: 0.0175\n",
            "\t eval recall@10: 0.0370\n",
            "\t eval ndcg@10: 0.0784\n",
            "==============================\n",
            "With lr_decay, epoch 6 learning rate: 0.00024461178691126406\n"
          ]
        },
        {
          "name": "stderr",
          "output_type": "stream",
          "text": [
            "train: 100%|██████████| 4226/4226 [00:03<00:00, 1067.47it/s]\n"
          ]
        },
        {
          "name": "stdout",
          "output_type": "stream",
          "text": [
            "Epoch 6 elapsed: 3.962s\n",
            "\t \u001b[32mtrain_loss: 0.535\u001b[0m\n"
          ]
        },
        {
          "name": "stderr",
          "output_type": "stream",
          "text": [
            "eval_pointwise: 100%|██████████| 18/18 [00:00<00:00, 630.03it/s]\n",
            "eval_listwise: 100%|██████████| 2401/2401 [00:00<00:00, 5139.78it/s]\n"
          ]
        },
        {
          "name": "stdout",
          "output_type": "stream",
          "text": [
            "\t eval log_loss: 0.6225\n",
            "\t eval roc_auc: 0.7078\n",
            "\t eval precision@10: 0.0178\n",
            "\t eval recall@10: 0.0377\n",
            "\t eval ndcg@10: 0.0818\n",
            "==============================\n",
            "With lr_decay, epoch 7 learning rate: 0.00023482732649426907\n"
          ]
        },
        {
          "name": "stderr",
          "output_type": "stream",
          "text": [
            "train: 100%|██████████| 4226/4226 [00:03<00:00, 1118.82it/s]\n"
          ]
        },
        {
          "name": "stdout",
          "output_type": "stream",
          "text": [
            "Epoch 7 elapsed: 3.778s\n",
            "\t \u001b[32mtrain_loss: 0.5233\u001b[0m\n"
          ]
        },
        {
          "name": "stderr",
          "output_type": "stream",
          "text": [
            "eval_pointwise: 100%|██████████| 18/18 [00:00<00:00, 615.93it/s]\n",
            "eval_listwise: 100%|██████████| 2401/2401 [00:00<00:00, 5519.11it/s]\n"
          ]
        },
        {
          "name": "stdout",
          "output_type": "stream",
          "text": [
            "\t eval log_loss: 0.6203\n",
            "\t eval roc_auc: 0.7112\n",
            "\t eval precision@10: 0.0185\n",
            "\t eval recall@10: 0.0388\n",
            "\t eval ndcg@10: 0.0824\n",
            "==============================\n",
            "With lr_decay, epoch 8 learning rate: 0.00022543422528542578\n"
          ]
        },
        {
          "name": "stderr",
          "output_type": "stream",
          "text": [
            "train: 100%|██████████| 4226/4226 [00:03<00:00, 1097.09it/s]\n"
          ]
        },
        {
          "name": "stdout",
          "output_type": "stream",
          "text": [
            "Epoch 8 elapsed: 3.855s\n",
            "\t \u001b[32mtrain_loss: 0.5136\u001b[0m\n"
          ]
        },
        {
          "name": "stderr",
          "output_type": "stream",
          "text": [
            "eval_pointwise: 100%|██████████| 18/18 [00:00<00:00, 667.71it/s]\n",
            "eval_listwise: 100%|██████████| 2401/2401 [00:00<00:00, 4798.33it/s]\n"
          ]
        },
        {
          "name": "stdout",
          "output_type": "stream",
          "text": [
            "\t eval log_loss: 0.6185\n",
            "\t eval roc_auc: 0.7142\n",
            "\t eval precision@10: 0.0181\n",
            "\t eval recall@10: 0.0380\n",
            "\t eval ndcg@10: 0.0813\n",
            "==============================\n",
            "With lr_decay, epoch 9 learning rate: 0.00021641685452777892\n"
          ]
        },
        {
          "name": "stderr",
          "output_type": "stream",
          "text": [
            "train: 100%|██████████| 4226/4226 [00:03<00:00, 1086.61it/s]\n"
          ]
        },
        {
          "name": "stdout",
          "output_type": "stream",
          "text": [
            "Epoch 9 elapsed: 3.892s\n",
            "\t \u001b[32mtrain_loss: 0.504\u001b[0m\n"
          ]
        },
        {
          "name": "stderr",
          "output_type": "stream",
          "text": [
            "eval_pointwise: 100%|██████████| 18/18 [00:00<00:00, 670.61it/s]\n",
            "eval_listwise: 100%|██████████| 2401/2401 [00:00<00:00, 6517.90it/s]\n"
          ]
        },
        {
          "name": "stdout",
          "output_type": "stream",
          "text": [
            "\t eval log_loss: 0.6171\n",
            "\t eval roc_auc: 0.7167\n",
            "\t eval precision@10: 0.0184\n",
            "\t eval recall@10: 0.0384\n",
            "\t eval ndcg@10: 0.0839\n",
            "==============================\n",
            "With lr_decay, epoch 10 learning rate: 0.00020776016754098237\n"
          ]
        },
        {
          "name": "stderr",
          "output_type": "stream",
          "text": [
            "train: 100%|██████████| 4226/4226 [00:03<00:00, 1065.18it/s]\n"
          ]
        },
        {
          "name": "stdout",
          "output_type": "stream",
          "text": [
            "Epoch 10 elapsed: 3.969s\n",
            "\t \u001b[32mtrain_loss: 0.4958\u001b[0m\n"
          ]
        },
        {
          "name": "stderr",
          "output_type": "stream",
          "text": [
            "eval_pointwise: 100%|██████████| 18/18 [00:00<00:00, 621.89it/s]\n",
            "eval_listwise: 100%|██████████| 2401/2401 [00:00<00:00, 5060.10it/s]\n"
          ]
        },
        {
          "name": "stdout",
          "output_type": "stream",
          "text": [
            "\t eval log_loss: 0.6160\n",
            "\t eval roc_auc: 0.7191\n",
            "\t eval precision@10: 0.0185\n",
            "\t eval recall@10: 0.0387\n",
            "\t eval ndcg@10: 0.0839\n",
            "==============================\n",
            "With lr_decay, epoch 11 learning rate: 0.00019944975792896003\n"
          ]
        },
        {
          "name": "stderr",
          "output_type": "stream",
          "text": [
            "train: 100%|██████████| 4226/4226 [00:03<00:00, 1151.21it/s]\n"
          ]
        },
        {
          "name": "stdout",
          "output_type": "stream",
          "text": [
            "Epoch 11 elapsed: 3.673s\n",
            "\t \u001b[32mtrain_loss: 0.4875\u001b[0m\n"
          ]
        },
        {
          "name": "stderr",
          "output_type": "stream",
          "text": [
            "eval_pointwise: 100%|██████████| 18/18 [00:00<00:00, 665.29it/s]\n",
            "eval_listwise: 100%|██████████| 2401/2401 [00:00<00:00, 4118.20it/s]\n"
          ]
        },
        {
          "name": "stdout",
          "output_type": "stream",
          "text": [
            "\t eval log_loss: 0.6152\n",
            "\t eval roc_auc: 0.7211\n",
            "\t eval precision@10: 0.0186\n",
            "\t eval recall@10: 0.0389\n",
            "\t eval ndcg@10: 0.0849\n",
            "==============================\n",
            "With lr_decay, epoch 12 learning rate: 0.00019147175771649927\n"
          ]
        },
        {
          "name": "stderr",
          "output_type": "stream",
          "text": [
            "train: 100%|██████████| 4226/4226 [00:03<00:00, 1079.57it/s]\n"
          ]
        },
        {
          "name": "stdout",
          "output_type": "stream",
          "text": [
            "Epoch 12 elapsed: 3.916s\n",
            "\t \u001b[32mtrain_loss: 0.4794\u001b[0m\n"
          ]
        },
        {
          "name": "stderr",
          "output_type": "stream",
          "text": [
            "eval_pointwise: 100%|██████████| 18/18 [00:00<00:00, 643.39it/s]\n",
            "eval_listwise: 100%|██████████| 2401/2401 [00:00<00:00, 4969.68it/s]\n"
          ]
        },
        {
          "name": "stdout",
          "output_type": "stream",
          "text": [
            "\t eval log_loss: 0.6145\n",
            "\t eval roc_auc: 0.7229\n",
            "\t eval precision@10: 0.0188\n",
            "\t eval recall@10: 0.0393\n",
            "\t eval ndcg@10: 0.0863\n",
            "==============================\n",
            "With lr_decay, epoch 13 learning rate: 0.0001838128810049966\n"
          ]
        },
        {
          "name": "stderr",
          "output_type": "stream",
          "text": [
            "train: 100%|██████████| 4226/4226 [00:03<00:00, 1122.54it/s]\n"
          ]
        },
        {
          "name": "stdout",
          "output_type": "stream",
          "text": [
            "Epoch 13 elapsed: 3.766s\n",
            "\t \u001b[32mtrain_loss: 0.4716\u001b[0m\n"
          ]
        },
        {
          "name": "stderr",
          "output_type": "stream",
          "text": [
            "eval_pointwise: 100%|██████████| 18/18 [00:00<00:00, 640.59it/s]\n",
            "eval_listwise: 100%|██████████| 2401/2401 [00:00<00:00, 5095.81it/s]\n"
          ]
        },
        {
          "name": "stdout",
          "output_type": "stream",
          "text": [
            "\t eval log_loss: 0.6141\n",
            "\t eval roc_auc: 0.7246\n",
            "\t eval precision@10: 0.0191\n",
            "\t eval recall@10: 0.0399\n",
            "\t eval ndcg@10: 0.0869\n",
            "==============================\n",
            "With lr_decay, epoch 14 learning rate: 0.00017646038031671196\n"
          ]
        },
        {
          "name": "stderr",
          "output_type": "stream",
          "text": [
            "train: 100%|██████████| 4226/4226 [00:03<00:00, 1079.64it/s]\n"
          ]
        },
        {
          "name": "stdout",
          "output_type": "stream",
          "text": [
            "Epoch 14 elapsed: 3.916s\n",
            "\t \u001b[32mtrain_loss: 0.4645\u001b[0m\n"
          ]
        },
        {
          "name": "stderr",
          "output_type": "stream",
          "text": [
            "eval_pointwise: 100%|██████████| 18/18 [00:00<00:00, 610.27it/s]\n",
            "eval_listwise: 100%|██████████| 2401/2401 [00:00<00:00, 4602.53it/s]\n"
          ]
        },
        {
          "name": "stdout",
          "output_type": "stream",
          "text": [
            "\t eval log_loss: 0.6138\n",
            "\t eval roc_auc: 0.7261\n",
            "\t eval precision@10: 0.0188\n",
            "\t eval recall@10: 0.0399\n",
            "\t eval ndcg@10: 0.0860\n",
            "==============================\n",
            "With lr_decay, epoch 15 learning rate: 0.00016940194473136216\n"
          ]
        },
        {
          "name": "stderr",
          "output_type": "stream",
          "text": [
            "train: 100%|██████████| 4226/4226 [00:03<00:00, 1086.68it/s]\n"
          ]
        },
        {
          "name": "stdout",
          "output_type": "stream",
          "text": [
            "Epoch 15 elapsed: 3.890s\n",
            "\t \u001b[32mtrain_loss: 0.4574\u001b[0m\n"
          ]
        },
        {
          "name": "stderr",
          "output_type": "stream",
          "text": [
            "eval_pointwise: 100%|██████████| 18/18 [00:00<00:00, 682.81it/s]\n",
            "eval_listwise: 100%|██████████| 2401/2401 [00:00<00:00, 5106.38it/s]\n"
          ]
        },
        {
          "name": "stdout",
          "output_type": "stream",
          "text": [
            "\t eval log_loss: 0.6137\n",
            "\t eval roc_auc: 0.7274\n",
            "\t eval precision@10: 0.0187\n",
            "\t eval recall@10: 0.0399\n",
            "\t eval ndcg@10: 0.0866\n",
            "==============================\n"
          ]
        },
        {
          "name": "stderr",
          "output_type": "stream",
          "text": [
            "eval_pointwise: 100%|██████████| 18/18 [00:00<00:00, 369.44it/s]\n",
            "eval_listwise: 100%|██████████| 2379/2379 [00:00<00:00, 5503.70it/s]\n"
          ]
        },
        {
          "name": "stdout",
          "output_type": "stream",
          "text": [
            "-------- Started training: SVD --------\n",
            "Finale Daten: 131535 Interaktionen \n",
            "CSV erfolgreich geladen:\n",
            "                                   user  label    item\n",
            "0  8ba9549e-2542-49a6-8517-586e3926f939    1.0  415374\n",
            "1  8ba9549e-2542-49a6-8517-586e3926f939    1.0  352281\n",
            "2  8ba9549e-2542-49a6-8517-586e3926f939    1.0  198802\n",
            "3  8ba9549e-2542-49a6-8517-586e3926f939    1.0   38852\n",
            "4  8ba9549e-2542-49a6-8517-586e3926f939    1.0   51836\n",
            "500 neue Bewertungen hinzugefügt.\n",
            "n_users: 2511, n_items: 4525, data density: 0.9296 %\n",
            "Training start time: \u001b[35m2025-04-02 16:00:58\u001b[0m\n",
            "With lr_decay, epoch 1 learning rate: 0.0010000000474974513\n"
          ]
        },
        {
          "name": "stderr",
          "output_type": "stream",
          "text": [
            "train: 100%|██████████| 2515/2515 [00:04<00:00, 551.58it/s]\n"
          ]
        },
        {
          "name": "stdout",
          "output_type": "stream",
          "text": [
            "Epoch 1 elapsed: 4.561s\n",
            "\t \u001b[32mtrain_loss: 0.5202\u001b[0m\n"
          ]
        },
        {
          "name": "stderr",
          "output_type": "stream",
          "text": [
            "eval_pointwise: 100%|██████████| 10/10 [00:00<00:00, 380.85it/s]\n",
            "eval_listwise: 100%|██████████| 2401/2401 [00:00<00:00, 5031.13it/s]\n"
          ]
        },
        {
          "name": "stdout",
          "output_type": "stream",
          "text": [
            "\t eval log_loss: 0.4385\n",
            "\t eval roc_auc: 0.6405\n",
            "\t eval precision@10: 0.0161\n",
            "\t eval recall@10: 0.0327\n",
            "\t eval ndcg@10: 0.0690\n",
            "==============================\n",
            "With lr_decay, epoch 2 learning rate: 0.0009600000339560211\n"
          ]
        },
        {
          "name": "stderr",
          "output_type": "stream",
          "text": [
            "train: 100%|██████████| 2515/2515 [00:03<00:00, 666.10it/s]\n"
          ]
        },
        {
          "name": "stdout",
          "output_type": "stream",
          "text": [
            "Epoch 2 elapsed: 3.779s\n",
            "\t \u001b[32mtrain_loss: 0.4334\u001b[0m\n"
          ]
        },
        {
          "name": "stderr",
          "output_type": "stream",
          "text": [
            "eval_pointwise: 100%|██████████| 10/10 [00:00<00:00, 207.80it/s]\n",
            "eval_listwise: 100%|██████████| 2401/2401 [00:00<00:00, 4506.47it/s]\n"
          ]
        },
        {
          "name": "stdout",
          "output_type": "stream",
          "text": [
            "\t eval log_loss: 0.4299\n",
            "\t eval roc_auc: 0.6564\n",
            "\t eval precision@10: 0.0162\n",
            "\t eval recall@10: 0.0340\n",
            "\t eval ndcg@10: 0.0743\n",
            "==============================\n",
            "With lr_decay, epoch 3 learning rate: 0.0009216000325977802\n"
          ]
        },
        {
          "name": "stderr",
          "output_type": "stream",
          "text": [
            "train: 100%|██████████| 2515/2515 [00:04<00:00, 578.38it/s]\n"
          ]
        },
        {
          "name": "stdout",
          "output_type": "stream",
          "text": [
            "Epoch 3 elapsed: 4.350s\n",
            "\t \u001b[32mtrain_loss: 0.4245\u001b[0m\n"
          ]
        },
        {
          "name": "stderr",
          "output_type": "stream",
          "text": [
            "eval_pointwise: 100%|██████████| 10/10 [00:00<00:00, 314.34it/s]\n",
            "eval_listwise: 100%|██████████| 2401/2401 [00:03<00:00, 668.34it/s]\n"
          ]
        },
        {
          "name": "stdout",
          "output_type": "stream",
          "text": [
            "\t eval log_loss: 0.4241\n",
            "\t eval roc_auc: 0.6712\n",
            "\t eval precision@10: 0.0168\n",
            "\t eval recall@10: 0.0342\n",
            "\t eval ndcg@10: 0.0711\n",
            "==============================\n",
            "With lr_decay, epoch 4 learning rate: 0.000884735956788063\n"
          ]
        },
        {
          "name": "stderr",
          "output_type": "stream",
          "text": [
            "train: 100%|██████████| 2515/2515 [00:04<00:00, 616.51it/s]\n"
          ]
        },
        {
          "name": "stdout",
          "output_type": "stream",
          "text": [
            "Epoch 4 elapsed: 4.081s\n",
            "\t \u001b[32mtrain_loss: 0.4186\u001b[0m\n"
          ]
        },
        {
          "name": "stderr",
          "output_type": "stream",
          "text": [
            "eval_pointwise: 100%|██████████| 10/10 [00:00<00:00, 339.18it/s]\n",
            "eval_listwise: 100%|██████████| 2401/2401 [00:00<00:00, 4527.36it/s]\n"
          ]
        },
        {
          "name": "stdout",
          "output_type": "stream",
          "text": [
            "\t eval log_loss: 0.4201\n",
            "\t eval roc_auc: 0.6831\n",
            "\t eval precision@10: 0.0171\n",
            "\t eval recall@10: 0.0359\n",
            "\t eval ndcg@10: 0.0772\n",
            "==============================\n",
            "With lr_decay, epoch 5 learning rate: 0.0008493465138599277\n"
          ]
        },
        {
          "name": "stderr",
          "output_type": "stream",
          "text": [
            "train: 100%|██████████| 2515/2515 [00:03<00:00, 630.20it/s]\n"
          ]
        },
        {
          "name": "stdout",
          "output_type": "stream",
          "text": [
            "Epoch 5 elapsed: 3.993s\n",
            "\t \u001b[32mtrain_loss: 0.4149\u001b[0m\n"
          ]
        },
        {
          "name": "stderr",
          "output_type": "stream",
          "text": [
            "eval_pointwise: 100%|██████████| 10/10 [00:00<00:00, 408.01it/s]\n",
            "eval_listwise: 100%|██████████| 2401/2401 [00:00<00:00, 4481.69it/s]\n"
          ]
        },
        {
          "name": "stdout",
          "output_type": "stream",
          "text": [
            "\t eval log_loss: 0.4174\n",
            "\t eval roc_auc: 0.6922\n",
            "\t eval precision@10: 0.0168\n",
            "\t eval recall@10: 0.0357\n",
            "\t eval ndcg@10: 0.0755\n",
            "==============================\n",
            "With lr_decay, epoch 6 learning rate: 0.0008153726230375469\n"
          ]
        },
        {
          "name": "stderr",
          "output_type": "stream",
          "text": [
            "train: 100%|██████████| 2515/2515 [00:03<00:00, 633.60it/s]\n"
          ]
        },
        {
          "name": "stdout",
          "output_type": "stream",
          "text": [
            "Epoch 6 elapsed: 3.971s\n",
            "\t \u001b[32mtrain_loss: 0.4124\u001b[0m\n"
          ]
        },
        {
          "name": "stderr",
          "output_type": "stream",
          "text": [
            "eval_pointwise: 100%|██████████| 10/10 [00:00<00:00, 386.71it/s]\n",
            "eval_listwise: 100%|██████████| 2401/2401 [00:00<00:00, 2976.95it/s]\n"
          ]
        },
        {
          "name": "stdout",
          "output_type": "stream",
          "text": [
            "\t eval log_loss: 0.4157\n",
            "\t eval roc_auc: 0.6968\n",
            "\t eval precision@10: 0.0174\n",
            "\t eval recall@10: 0.0356\n",
            "\t eval ndcg@10: 0.0794\n",
            "==============================\n",
            "With lr_decay, epoch 7 learning rate: 0.0007827577646821737\n"
          ]
        },
        {
          "name": "stderr",
          "output_type": "stream",
          "text": [
            "train: 100%|██████████| 2515/2515 [00:04<00:00, 628.17it/s]\n"
          ]
        },
        {
          "name": "stdout",
          "output_type": "stream",
          "text": [
            "Epoch 7 elapsed: 4.007s\n",
            "\t \u001b[32mtrain_loss: 0.4108\u001b[0m\n"
          ]
        },
        {
          "name": "stderr",
          "output_type": "stream",
          "text": [
            "eval_pointwise: 100%|██████████| 10/10 [00:00<00:00, 464.41it/s]\n",
            "eval_listwise: 100%|██████████| 2401/2401 [00:00<00:00, 4590.71it/s]\n"
          ]
        },
        {
          "name": "stdout",
          "output_type": "stream",
          "text": [
            "\t eval log_loss: 0.4149\n",
            "\t eval roc_auc: 0.7003\n",
            "\t eval precision@10: 0.0180\n",
            "\t eval recall@10: 0.0369\n",
            "\t eval ndcg@10: 0.0805\n",
            "==============================\n",
            "With lr_decay, epoch 8 learning rate: 0.0007514473982155323\n"
          ]
        },
        {
          "name": "stderr",
          "output_type": "stream",
          "text": [
            "train: 100%|██████████| 2515/2515 [00:03<00:00, 653.14it/s]\n"
          ]
        },
        {
          "name": "stdout",
          "output_type": "stream",
          "text": [
            "Epoch 8 elapsed: 3.852s\n",
            "\t \u001b[32mtrain_loss: 0.4094\u001b[0m\n"
          ]
        },
        {
          "name": "stderr",
          "output_type": "stream",
          "text": [
            "eval_pointwise: 100%|██████████| 10/10 [00:00<00:00, 377.20it/s]\n",
            "eval_listwise: 100%|██████████| 2401/2401 [00:00<00:00, 5243.65it/s]\n"
          ]
        },
        {
          "name": "stdout",
          "output_type": "stream",
          "text": [
            "\t eval log_loss: 0.4140\n",
            "\t eval roc_auc: 0.7028\n",
            "\t eval precision@10: 0.0175\n",
            "\t eval recall@10: 0.0368\n",
            "\t eval ndcg@10: 0.0786\n",
            "==============================\n",
            "With lr_decay, epoch 9 learning rate: 0.000721389485988766\n"
          ]
        },
        {
          "name": "stderr",
          "output_type": "stream",
          "text": [
            "train: 100%|██████████| 2515/2515 [00:03<00:00, 659.50it/s]\n"
          ]
        },
        {
          "name": "stdout",
          "output_type": "stream",
          "text": [
            "Epoch 9 elapsed: 3.815s\n",
            "\t \u001b[32mtrain_loss: 0.4083\u001b[0m\n"
          ]
        },
        {
          "name": "stderr",
          "output_type": "stream",
          "text": [
            "eval_pointwise: 100%|██████████| 10/10 [00:00<00:00, 380.13it/s]\n",
            "eval_listwise: 100%|██████████| 2401/2401 [00:00<00:00, 4659.17it/s]\n"
          ]
        },
        {
          "name": "stdout",
          "output_type": "stream",
          "text": [
            "\t eval log_loss: 0.4135\n",
            "\t eval roc_auc: 0.7039\n",
            "\t eval precision@10: 0.0182\n",
            "\t eval recall@10: 0.0368\n",
            "\t eval ndcg@10: 0.0817\n",
            "==============================\n",
            "With lr_decay, epoch 10 learning rate: 0.0006925339112058282\n"
          ]
        },
        {
          "name": "stderr",
          "output_type": "stream",
          "text": [
            "train: 100%|██████████| 2515/2515 [00:03<00:00, 629.01it/s]\n"
          ]
        },
        {
          "name": "stdout",
          "output_type": "stream",
          "text": [
            "Epoch 10 elapsed: 4.001s\n",
            "\t \u001b[32mtrain_loss: 0.4071\u001b[0m\n"
          ]
        },
        {
          "name": "stderr",
          "output_type": "stream",
          "text": [
            "eval_pointwise: 100%|██████████| 10/10 [00:00<00:00, 319.92it/s]\n",
            "eval_listwise: 100%|██████████| 2401/2401 [00:00<00:00, 5195.89it/s]\n"
          ]
        },
        {
          "name": "stdout",
          "output_type": "stream",
          "text": [
            "\t eval log_loss: 0.4127\n",
            "\t eval roc_auc: 0.7064\n",
            "\t eval precision@10: 0.0178\n",
            "\t eval recall@10: 0.0370\n",
            "\t eval ndcg@10: 0.0791\n",
            "==============================\n"
          ]
        },
        {
          "name": "stderr",
          "output_type": "stream",
          "text": [
            "eval_pointwise: 100%|██████████| 10/10 [00:00<00:00, 170.69it/s]\n",
            "eval_listwise: 100%|██████████| 2379/2379 [00:00<00:00, 5512.03it/s]\n"
          ]
        },
        {
          "name": "stdout",
          "output_type": "stream",
          "text": [
            "-------- Started training: SVDpp --------\n",
            "Finale Daten: 131535 Interaktionen \n",
            "CSV erfolgreich geladen:\n",
            "                                   user  label    item\n",
            "0  8ba9549e-2542-49a6-8517-586e3926f939    1.0  415374\n",
            "1  8ba9549e-2542-49a6-8517-586e3926f939    1.0  352281\n",
            "2  8ba9549e-2542-49a6-8517-586e3926f939    1.0  198802\n",
            "3  8ba9549e-2542-49a6-8517-586e3926f939    1.0   38852\n",
            "4  8ba9549e-2542-49a6-8517-586e3926f939    1.0   51836\n",
            "500 neue Bewertungen hinzugefügt.\n",
            "n_users: 2511, n_items: 4525, data density: 0.9296 %\n",
            "Training start time: \u001b[35m2025-04-02 16:01:53\u001b[0m\n"
          ]
        },
        {
          "name": "stderr",
          "output_type": "stream",
          "text": [
            "train: 100%|██████████| 4593/4593 [00:26<00:00, 170.72it/s]\n"
          ]
        },
        {
          "name": "stdout",
          "output_type": "stream",
          "text": [
            "Epoch 1 elapsed: 26.904s\n",
            "\t \u001b[32mtrain_loss: 0.3874\u001b[0m\n"
          ]
        },
        {
          "name": "stderr",
          "output_type": "stream",
          "text": [
            "eval_pointwise: 100%|██████████| 18/18 [00:00<00:00, 670.34it/s]\n",
            "eval_listwise: 100%|██████████| 2401/2401 [00:00<00:00, 4996.40it/s]\n"
          ]
        },
        {
          "name": "stdout",
          "output_type": "stream",
          "text": [
            "\t eval log_loss: 0.2890\n",
            "\t eval roc_auc: 0.6624\n",
            "\t eval precision@10: 0.0153\n",
            "\t eval recall@10: 0.0327\n",
            "\t eval ndcg@10: 0.0678\n",
            "==============================\n"
          ]
        },
        {
          "name": "stderr",
          "output_type": "stream",
          "text": [
            "train: 100%|██████████| 4593/4593 [00:26<00:00, 172.24it/s]\n"
          ]
        },
        {
          "name": "stdout",
          "output_type": "stream",
          "text": [
            "Epoch 2 elapsed: 26.667s\n",
            "\t \u001b[32mtrain_loss: 0.2862\u001b[0m\n"
          ]
        },
        {
          "name": "stderr",
          "output_type": "stream",
          "text": [
            "eval_pointwise: 100%|██████████| 18/18 [00:00<00:00, 654.77it/s]\n",
            "eval_listwise: 100%|██████████| 2401/2401 [00:01<00:00, 2364.91it/s]\n"
          ]
        },
        {
          "name": "stdout",
          "output_type": "stream",
          "text": [
            "\t eval log_loss: 0.2872\n",
            "\t eval roc_auc: 0.6685\n",
            "\t eval precision@10: 0.0157\n",
            "\t eval recall@10: 0.0335\n",
            "\t eval ndcg@10: 0.0719\n",
            "==============================\n"
          ]
        },
        {
          "name": "stderr",
          "output_type": "stream",
          "text": [
            "train: 100%|██████████| 4593/4593 [00:26<00:00, 171.92it/s]\n"
          ]
        },
        {
          "name": "stdout",
          "output_type": "stream",
          "text": [
            "Epoch 3 elapsed: 26.717s\n",
            "\t \u001b[32mtrain_loss: 0.2849\u001b[0m\n"
          ]
        },
        {
          "name": "stderr",
          "output_type": "stream",
          "text": [
            "eval_pointwise: 100%|██████████| 18/18 [00:00<00:00, 568.65it/s]\n",
            "eval_listwise: 100%|██████████| 2401/2401 [00:00<00:00, 5584.24it/s]\n"
          ]
        },
        {
          "name": "stdout",
          "output_type": "stream",
          "text": [
            "\t eval log_loss: 0.2862\n",
            "\t eval roc_auc: 0.6708\n",
            "\t eval precision@10: 0.0157\n",
            "\t eval recall@10: 0.0349\n",
            "\t eval ndcg@10: 0.0729\n",
            "==============================\n"
          ]
        },
        {
          "name": "stderr",
          "output_type": "stream",
          "text": [
            "train: 100%|██████████| 4593/4593 [00:26<00:00, 171.74it/s]\n"
          ]
        },
        {
          "name": "stdout",
          "output_type": "stream",
          "text": [
            "Epoch 4 elapsed: 26.745s\n",
            "\t \u001b[32mtrain_loss: 0.2838\u001b[0m\n"
          ]
        },
        {
          "name": "stderr",
          "output_type": "stream",
          "text": [
            "eval_pointwise: 100%|██████████| 18/18 [00:00<00:00, 671.52it/s]\n",
            "eval_listwise: 100%|██████████| 2401/2401 [00:00<00:00, 5070.53it/s]\n"
          ]
        },
        {
          "name": "stdout",
          "output_type": "stream",
          "text": [
            "\t eval log_loss: 0.2852\n",
            "\t eval roc_auc: 0.6745\n",
            "\t eval precision@10: 0.0165\n",
            "\t eval recall@10: 0.0356\n",
            "\t eval ndcg@10: 0.0709\n",
            "==============================\n"
          ]
        },
        {
          "name": "stderr",
          "output_type": "stream",
          "text": [
            "train: 100%|██████████| 4593/4593 [00:26<00:00, 171.71it/s]\n"
          ]
        },
        {
          "name": "stdout",
          "output_type": "stream",
          "text": [
            "Epoch 5 elapsed: 26.750s\n",
            "\t \u001b[32mtrain_loss: 0.2826\u001b[0m\n"
          ]
        },
        {
          "name": "stderr",
          "output_type": "stream",
          "text": [
            "eval_pointwise: 100%|██████████| 18/18 [00:00<00:00, 647.37it/s]\n",
            "eval_listwise: 100%|██████████| 2401/2401 [00:00<00:00, 2734.73it/s]\n"
          ]
        },
        {
          "name": "stdout",
          "output_type": "stream",
          "text": [
            "\t eval log_loss: 0.2842\n",
            "\t eval roc_auc: 0.6794\n",
            "\t eval precision@10: 0.0164\n",
            "\t eval recall@10: 0.0346\n",
            "\t eval ndcg@10: 0.0722\n",
            "==============================\n"
          ]
        },
        {
          "name": "stderr",
          "output_type": "stream",
          "text": [
            "train: 100%|██████████| 4593/4593 [00:26<00:00, 171.74it/s]\n"
          ]
        },
        {
          "name": "stdout",
          "output_type": "stream",
          "text": [
            "Epoch 6 elapsed: 26.747s\n",
            "\t \u001b[32mtrain_loss: 0.2814\u001b[0m\n"
          ]
        },
        {
          "name": "stderr",
          "output_type": "stream",
          "text": [
            "eval_pointwise: 100%|██████████| 18/18 [00:00<00:00, 457.04it/s]\n",
            "eval_listwise: 100%|██████████| 2401/2401 [00:00<00:00, 5333.79it/s]\n"
          ]
        },
        {
          "name": "stdout",
          "output_type": "stream",
          "text": [
            "\t eval log_loss: 0.2831\n",
            "\t eval roc_auc: 0.6837\n",
            "\t eval precision@10: 0.0172\n",
            "\t eval recall@10: 0.0381\n",
            "\t eval ndcg@10: 0.0768\n",
            "==============================\n"
          ]
        },
        {
          "name": "stderr",
          "output_type": "stream",
          "text": [
            "train: 100%|██████████| 4593/4593 [00:26<00:00, 170.73it/s]\n"
          ]
        },
        {
          "name": "stdout",
          "output_type": "stream",
          "text": [
            "Epoch 7 elapsed: 26.905s\n",
            "\t \u001b[32mtrain_loss: 0.2803\u001b[0m\n"
          ]
        },
        {
          "name": "stderr",
          "output_type": "stream",
          "text": [
            "eval_pointwise: 100%|██████████| 18/18 [00:00<00:00, 659.10it/s]\n",
            "eval_listwise: 100%|██████████| 2401/2401 [00:00<00:00, 5636.47it/s]\n"
          ]
        },
        {
          "name": "stdout",
          "output_type": "stream",
          "text": [
            "\t eval log_loss: 0.2824\n",
            "\t eval roc_auc: 0.6879\n",
            "\t eval precision@10: 0.0170\n",
            "\t eval recall@10: 0.0370\n",
            "\t eval ndcg@10: 0.0742\n",
            "==============================\n"
          ]
        },
        {
          "name": "stderr",
          "output_type": "stream",
          "text": [
            "train: 100%|██████████| 4593/4593 [00:26<00:00, 172.02it/s]\n"
          ]
        },
        {
          "name": "stdout",
          "output_type": "stream",
          "text": [
            "Epoch 8 elapsed: 26.702s\n",
            "\t \u001b[32mtrain_loss: 0.2793\u001b[0m\n"
          ]
        },
        {
          "name": "stderr",
          "output_type": "stream",
          "text": [
            "eval_pointwise: 100%|██████████| 18/18 [00:00<00:00, 619.56it/s]\n",
            "eval_listwise: 100%|██████████| 2401/2401 [00:00<00:00, 2592.58it/s]\n"
          ]
        },
        {
          "name": "stdout",
          "output_type": "stream",
          "text": [
            "\t eval log_loss: 0.2817\n",
            "\t eval roc_auc: 0.6906\n",
            "\t eval precision@10: 0.0168\n",
            "\t eval recall@10: 0.0351\n",
            "\t eval ndcg@10: 0.0748\n",
            "==============================\n"
          ]
        },
        {
          "name": "stderr",
          "output_type": "stream",
          "text": [
            "train: 100%|██████████| 4593/4593 [00:26<00:00, 173.08it/s]\n"
          ]
        },
        {
          "name": "stdout",
          "output_type": "stream",
          "text": [
            "Epoch 9 elapsed: 26.537s\n",
            "\t \u001b[32mtrain_loss: 0.2785\u001b[0m\n"
          ]
        },
        {
          "name": "stderr",
          "output_type": "stream",
          "text": [
            "eval_pointwise: 100%|██████████| 18/18 [00:00<00:00, 610.38it/s]\n",
            "eval_listwise: 100%|██████████| 2401/2401 [00:00<00:00, 5541.17it/s]\n"
          ]
        },
        {
          "name": "stdout",
          "output_type": "stream",
          "text": [
            "\t eval log_loss: 0.2814\n",
            "\t eval roc_auc: 0.6922\n",
            "\t eval precision@10: 0.0167\n",
            "\t eval recall@10: 0.0356\n",
            "\t eval ndcg@10: 0.0762\n",
            "==============================\n"
          ]
        },
        {
          "name": "stderr",
          "output_type": "stream",
          "text": [
            "train: 100%|██████████| 4593/4593 [00:26<00:00, 172.30it/s]\n"
          ]
        },
        {
          "name": "stdout",
          "output_type": "stream",
          "text": [
            "Epoch 10 elapsed: 26.661s\n",
            "\t \u001b[32mtrain_loss: 0.2783\u001b[0m\n"
          ]
        },
        {
          "name": "stderr",
          "output_type": "stream",
          "text": [
            "eval_pointwise: 100%|██████████| 18/18 [00:00<00:00, 637.96it/s]\n",
            "eval_listwise: 100%|██████████| 2401/2401 [00:00<00:00, 5210.42it/s]\n"
          ]
        },
        {
          "name": "stdout",
          "output_type": "stream",
          "text": [
            "\t eval log_loss: 0.2811\n",
            "\t eval roc_auc: 0.6935\n",
            "\t eval precision@10: 0.0180\n",
            "\t eval recall@10: 0.0373\n",
            "\t eval ndcg@10: 0.0765\n",
            "==============================\n"
          ]
        },
        {
          "name": "stderr",
          "output_type": "stream",
          "text": [
            "eval_pointwise: 100%|██████████| 18/18 [00:00<00:00, 376.34it/s]\n",
            "eval_listwise: 100%|██████████| 2379/2379 [00:00<00:00, 2590.20it/s]\n"
          ]
        },
        {
          "name": "stdout",
          "output_type": "stream",
          "text": [
            "-------- Started training: ALS --------\n",
            "Finale Daten: 131535 Interaktionen \n",
            "CSV erfolgreich geladen:\n",
            "                                   user  label    item\n",
            "0  8ba9549e-2542-49a6-8517-586e3926f939    1.0  415374\n",
            "1  8ba9549e-2542-49a6-8517-586e3926f939    1.0  352281\n",
            "2  8ba9549e-2542-49a6-8517-586e3926f939    1.0  198802\n",
            "3  8ba9549e-2542-49a6-8517-586e3926f939    1.0   38852\n",
            "4  8ba9549e-2542-49a6-8517-586e3926f939    1.0   51836\n",
            "500 neue Bewertungen hinzugefügt.\n",
            "n_users: 2511, n_items: 4525, data density: 0.9296 %\n",
            "Training start time: \u001b[35m2025-04-02 16:06:34\u001b[0m\n",
            "Epoch 1 elapsed: 0.047s\n"
          ]
        },
        {
          "name": "stderr",
          "output_type": "stream",
          "text": [
            "eval_pointwise: 100%|██████████| 4/4 [00:00<00:00, 924.87it/s]\n",
            "eval_listwise: 100%|██████████| 2401/2401 [00:02<00:00, 801.20it/s] \n"
          ]
        },
        {
          "name": "stdout",
          "output_type": "stream",
          "text": [
            "\t eval log_loss: 0.6911\n",
            "\t eval roc_auc: 0.5404\n",
            "\t eval precision@10: 0.0065\n",
            "\t eval recall@10: 0.0127\n",
            "\t eval ndcg@10: 0.0299\n",
            "==============================\n",
            "Epoch 2 elapsed: 0.063s\n"
          ]
        },
        {
          "name": "stderr",
          "output_type": "stream",
          "text": [
            "eval_pointwise: 100%|██████████| 4/4 [00:00<00:00, 597.91it/s]\n",
            "eval_listwise: 100%|██████████| 2401/2401 [00:00<00:00, 5430.47it/s]\n"
          ]
        },
        {
          "name": "stdout",
          "output_type": "stream",
          "text": [
            "\t eval log_loss: 0.6801\n",
            "\t eval roc_auc: 0.6160\n",
            "\t eval precision@10: 0.0100\n",
            "\t eval recall@10: 0.0223\n",
            "\t eval ndcg@10: 0.0468\n",
            "==============================\n",
            "Epoch 3 elapsed: 0.069s\n"
          ]
        },
        {
          "name": "stderr",
          "output_type": "stream",
          "text": [
            "eval_pointwise: 100%|██████████| 4/4 [00:00<00:00, 528.18it/s]\n",
            "eval_listwise: 100%|██████████| 2401/2401 [00:00<00:00, 4190.14it/s]\n"
          ]
        },
        {
          "name": "stdout",
          "output_type": "stream",
          "text": [
            "\t eval log_loss: 0.6763\n",
            "\t eval roc_auc: 0.6368\n",
            "\t eval precision@10: 0.0117\n",
            "\t eval recall@10: 0.0257\n",
            "\t eval ndcg@10: 0.0545\n",
            "==============================\n",
            "Epoch 4 elapsed: 0.044s\n"
          ]
        },
        {
          "name": "stderr",
          "output_type": "stream",
          "text": [
            "eval_pointwise: 100%|██████████| 4/4 [00:00<00:00, 426.02it/s]\n",
            "eval_listwise: 100%|██████████| 2401/2401 [00:00<00:00, 5825.02it/s]\n"
          ]
        },
        {
          "name": "stdout",
          "output_type": "stream",
          "text": [
            "\t eval log_loss: 0.6744\n",
            "\t eval roc_auc: 0.6462\n",
            "\t eval precision@10: 0.0126\n",
            "\t eval recall@10: 0.0272\n",
            "\t eval ndcg@10: 0.0588\n",
            "==============================\n",
            "Epoch 5 elapsed: 0.058s\n"
          ]
        },
        {
          "name": "stderr",
          "output_type": "stream",
          "text": [
            "eval_pointwise: 100%|██████████| 4/4 [00:00<00:00, 451.32it/s]\n",
            "eval_listwise: 100%|██████████| 2401/2401 [00:00<00:00, 4991.72it/s]\n"
          ]
        },
        {
          "name": "stdout",
          "output_type": "stream",
          "text": [
            "\t eval log_loss: 0.6734\n",
            "\t eval roc_auc: 0.6510\n",
            "\t eval precision@10: 0.0130\n",
            "\t eval recall@10: 0.0290\n",
            "\t eval ndcg@10: 0.0595\n",
            "==============================\n",
            "Epoch 6 elapsed: 0.078s\n"
          ]
        },
        {
          "name": "stderr",
          "output_type": "stream",
          "text": [
            "eval_pointwise: 100%|██████████| 4/4 [00:00<00:00, 408.76it/s]\n",
            "eval_listwise: 100%|██████████| 2401/2401 [00:00<00:00, 4771.98it/s]\n"
          ]
        },
        {
          "name": "stdout",
          "output_type": "stream",
          "text": [
            "\t eval log_loss: 0.6728\n",
            "\t eval roc_auc: 0.6537\n",
            "\t eval precision@10: 0.0131\n",
            "\t eval recall@10: 0.0290\n",
            "\t eval ndcg@10: 0.0608\n",
            "==============================\n",
            "Epoch 7 elapsed: 0.080s\n"
          ]
        },
        {
          "name": "stderr",
          "output_type": "stream",
          "text": [
            "eval_pointwise: 100%|██████████| 4/4 [00:00<00:00, 495.41it/s]\n",
            "eval_listwise: 100%|██████████| 2401/2401 [00:01<00:00, 1953.83it/s]\n"
          ]
        },
        {
          "name": "stdout",
          "output_type": "stream",
          "text": [
            "\t eval log_loss: 0.6725\n",
            "\t eval roc_auc: 0.6554\n",
            "\t eval precision@10: 0.0137\n",
            "\t eval recall@10: 0.0301\n",
            "\t eval ndcg@10: 0.0630\n",
            "==============================\n",
            "Epoch 8 elapsed: 0.065s\n"
          ]
        },
        {
          "name": "stderr",
          "output_type": "stream",
          "text": [
            "eval_pointwise: 100%|██████████| 4/4 [00:00<00:00, 1194.02it/s]\n",
            "eval_listwise: 100%|██████████| 2401/2401 [00:01<00:00, 1577.19it/s]\n"
          ]
        },
        {
          "name": "stdout",
          "output_type": "stream",
          "text": [
            "\t eval log_loss: 0.6722\n",
            "\t eval roc_auc: 0.6565\n",
            "\t eval precision@10: 0.0138\n",
            "\t eval recall@10: 0.0306\n",
            "\t eval ndcg@10: 0.0644\n",
            "==============================\n",
            "Epoch 9 elapsed: 0.052s\n"
          ]
        },
        {
          "name": "stderr",
          "output_type": "stream",
          "text": [
            "eval_pointwise: 100%|██████████| 4/4 [00:00<00:00, 333.53it/s]\n",
            "eval_listwise: 100%|██████████| 2401/2401 [00:00<00:00, 5230.25it/s]\n"
          ]
        },
        {
          "name": "stdout",
          "output_type": "stream",
          "text": [
            "\t eval log_loss: 0.6721\n",
            "\t eval roc_auc: 0.6573\n",
            "\t eval precision@10: 0.0135\n",
            "\t eval recall@10: 0.0288\n",
            "\t eval ndcg@10: 0.0630\n",
            "==============================\n",
            "Epoch 10 elapsed: 0.050s\n"
          ]
        },
        {
          "name": "stderr",
          "output_type": "stream",
          "text": [
            "eval_pointwise: 100%|██████████| 4/4 [00:00<00:00, 749.79it/s]\n",
            "eval_listwise: 100%|██████████| 2401/2401 [00:00<00:00, 5345.23it/s]\n"
          ]
        },
        {
          "name": "stdout",
          "output_type": "stream",
          "text": [
            "\t eval log_loss: 0.6719\n",
            "\t eval roc_auc: 0.6579\n",
            "\t eval precision@10: 0.0138\n",
            "\t eval recall@10: 0.0296\n",
            "\t eval ndcg@10: 0.0635\n",
            "==============================\n",
            "Epoch 11 elapsed: 0.045s\n"
          ]
        },
        {
          "name": "stderr",
          "output_type": "stream",
          "text": [
            "eval_pointwise: 100%|██████████| 4/4 [00:00<00:00, 727.17it/s]\n",
            "eval_listwise: 100%|██████████| 2401/2401 [00:00<00:00, 5267.13it/s]\n"
          ]
        },
        {
          "name": "stdout",
          "output_type": "stream",
          "text": [
            "\t eval log_loss: 0.6718\n",
            "\t eval roc_auc: 0.6583\n",
            "\t eval precision@10: 0.0137\n",
            "\t eval recall@10: 0.0284\n",
            "\t eval ndcg@10: 0.0635\n",
            "==============================\n",
            "Epoch 12 elapsed: 0.060s\n"
          ]
        },
        {
          "name": "stderr",
          "output_type": "stream",
          "text": [
            "eval_pointwise: 100%|██████████| 4/4 [00:00<00:00, 768.93it/s]\n",
            "eval_listwise: 100%|██████████| 2401/2401 [00:00<00:00, 6237.87it/s]\n"
          ]
        },
        {
          "name": "stdout",
          "output_type": "stream",
          "text": [
            "\t eval log_loss: 0.6717\n",
            "\t eval roc_auc: 0.6587\n",
            "\t eval precision@10: 0.0139\n",
            "\t eval recall@10: 0.0287\n",
            "\t eval ndcg@10: 0.0641\n",
            "==============================\n",
            "Epoch 13 elapsed: 0.071s\n"
          ]
        },
        {
          "name": "stderr",
          "output_type": "stream",
          "text": [
            "eval_pointwise: 100%|██████████| 4/4 [00:00<00:00, 218.56it/s]\n",
            "eval_listwise: 100%|██████████| 2401/2401 [00:00<00:00, 5095.34it/s]\n"
          ]
        },
        {
          "name": "stdout",
          "output_type": "stream",
          "text": [
            "\t eval log_loss: 0.6716\n",
            "\t eval roc_auc: 0.6591\n",
            "\t eval precision@10: 0.0139\n",
            "\t eval recall@10: 0.0291\n",
            "\t eval ndcg@10: 0.0636\n",
            "==============================\n",
            "Epoch 14 elapsed: 0.053s\n"
          ]
        },
        {
          "name": "stderr",
          "output_type": "stream",
          "text": [
            "eval_pointwise: 100%|██████████| 4/4 [00:00<00:00, 428.78it/s]\n",
            "eval_listwise: 100%|██████████| 2401/2401 [00:00<00:00, 5603.80it/s]\n"
          ]
        },
        {
          "name": "stdout",
          "output_type": "stream",
          "text": [
            "\t eval log_loss: 0.6715\n",
            "\t eval roc_auc: 0.6593\n",
            "\t eval precision@10: 0.0141\n",
            "\t eval recall@10: 0.0297\n",
            "\t eval ndcg@10: 0.0635\n",
            "==============================\n",
            "Epoch 15 elapsed: 0.062s\n"
          ]
        },
        {
          "name": "stderr",
          "output_type": "stream",
          "text": [
            "eval_pointwise: 100%|██████████| 4/4 [00:00<00:00, 380.55it/s]\n",
            "eval_listwise: 100%|██████████| 2401/2401 [00:00<00:00, 4897.13it/s]\n"
          ]
        },
        {
          "name": "stdout",
          "output_type": "stream",
          "text": [
            "\t eval log_loss: 0.6714\n",
            "\t eval roc_auc: 0.6595\n",
            "\t eval precision@10: 0.0140\n",
            "\t eval recall@10: 0.0302\n",
            "\t eval ndcg@10: 0.0627\n",
            "==============================\n"
          ]
        },
        {
          "name": "stderr",
          "output_type": "stream",
          "text": [
            "eval_pointwise: 100%|██████████| 4/4 [00:00<00:00, 1341.86it/s]\n",
            "eval_listwise: 100%|██████████| 2379/2379 [00:00<00:00, 5336.64it/s]\n"
          ]
        },
        {
          "name": "stdout",
          "output_type": "stream",
          "text": [
            "-------- Started training: UserCF --------\n",
            "Finale Daten: 131535 Interaktionen \n",
            "CSV erfolgreich geladen:\n",
            "                                   user  label    item\n",
            "0  8ba9549e-2542-49a6-8517-586e3926f939    1.0  415374\n",
            "1  8ba9549e-2542-49a6-8517-586e3926f939    1.0  352281\n",
            "2  8ba9549e-2542-49a6-8517-586e3926f939    1.0  198802\n",
            "3  8ba9549e-2542-49a6-8517-586e3926f939    1.0   38852\n",
            "4  8ba9549e-2542-49a6-8517-586e3926f939    1.0   51836\n",
            "500 neue Bewertungen hinzugefügt.\n",
            "n_users: 2511, n_items: 4525, data density: 0.9296 %\n",
            "Training start time: \u001b[35m2025-04-02 16:06:53\u001b[0m\n",
            "Final block size and num: (2511, 1)\n",
            "sim_matrix elapsed: 0.017s\n",
            "sim_matrix, shape: (2511, 2511), num_elements: 139844, density: 2.2179 %\n"
          ]
        },
        {
          "name": "stderr",
          "output_type": "stream",
          "text": [
            "top_k: 100%|██████████| 2511/2511 [00:00<00:00, 126844.48it/s]\n",
            "eval_pointwise:   0%|          | 0/4 [00:00<?, ?it/s]"
          ]
        },
        {
          "name": "stdout",
          "output_type": "stream",
          "text": [
            "\u001b[31mNo common interaction or similar neighbor for user 1718 and item 113, proceed with default prediction\u001b[0m\n",
            "\u001b[31mNo common interaction or similar neighbor for user 804 and item 721, proceed with default prediction\u001b[0m\n",
            "\u001b[31mNo common interaction or similar neighbor for user 1057 and item 3332, proceed with default prediction\u001b[0m\n",
            "\u001b[31mNo common interaction or similar neighbor for user 752 and item 1909, proceed with default prediction\u001b[0m\n",
            "\u001b[31mNo common interaction or similar neighbor for user 1795 and item 4197, proceed with default prediction\u001b[0m\n",
            "\u001b[31mNo common interaction or similar neighbor for user 1795 and item 134, proceed with default prediction\u001b[0m\n"
          ]
        },
        {
          "name": "stderr",
          "output_type": "stream",
          "text": [
            "eval_pointwise: 100%|██████████| 4/4 [00:00<00:00, 10.85it/s]\n",
            "eval_listwise: 100%|██████████| 2401/2401 [00:11<00:00, 208.10it/s]\n"
          ]
        },
        {
          "name": "stdout",
          "output_type": "stream",
          "text": [
            "\t eval log_loss: 5.3241\n",
            "\t eval roc_auc: 0.5909\n",
            "\t eval precision@10: 0.0142\n",
            "\t eval recall@10: 0.0264\n",
            "\t eval ndcg@10: 0.0621\n",
            "==============================\n"
          ]
        },
        {
          "name": "stderr",
          "output_type": "stream",
          "text": [
            "eval_pointwise: 100%|██████████| 4/4 [00:00<00:00, 10.98it/s]\n",
            "eval_listwise: 100%|██████████| 2379/2379 [00:11<00:00, 206.23it/s]\n"
          ]
        }
      ],
      "source": [
        "from recipeRecommender import RecipeRecommender\n",
        "import os\n",
        "os.chdir(\"/Users/florianzierer/Documents/GitHub/Hawai/\")\n",
        "from config import RATINGS_FILE,RECOMMENDATIONS_FILE\n",
        "\n",
        "algorithms = [\"ItemCF\", \"BPR\", \"SVD\", \"SVDpp\", \"ALS\", \"UserCF\"]\n",
        "\n",
        "for algorithm in algorithms:\n",
        "    print(\"-------- \"+\"Started training: \" + algorithm+\" --------\")\n",
        "    recommender = RecipeRecommender()\n",
        "    recommender.load_and_preprocess(min_interactions=20)\n",
        "    recommender.import_ratings_csv(\"./\"+RATINGS_FILE)\n",
        "    recommender.set_model(algorithm) # \"SVD\", \"SVDpp\", \"ALS\", \"BPR\", \"UserCF\", \"ItemCF\"\n",
        "    recommender.train()\n",
        "    recommender.evaluate()\n",
        "    recommendations = recommender.save_recommendations_as_csv(20,RECOMMENDATIONS_FILE+algorithm.lower()+\".csv\")"
      ]
    },
    {
      "cell_type": "markdown",
      "metadata": {},
      "source": [
        "## Testing Setup"
      ]
    },
    {
      "cell_type": "code",
      "execution_count": null,
      "metadata": {},
      "outputs": [],
      "source": [
        "from recommendationHelper import RHelper\n",
        "helper = RHelper(recommender)\n"
      ]
    },
    {
      "cell_type": "code",
      "execution_count": 12,
      "metadata": {},
      "outputs": [
        {
          "data": {
            "text/html": [
              "<div>\n",
              "<style scoped>\n",
              "    .dataframe tbody tr th:only-of-type {\n",
              "        vertical-align: middle;\n",
              "    }\n",
              "\n",
              "    .dataframe tbody tr th {\n",
              "        vertical-align: top;\n",
              "    }\n",
              "\n",
              "    .dataframe thead th {\n",
              "        text-align: right;\n",
              "    }\n",
              "</style>\n",
              "<table border=\"1\" class=\"dataframe\">\n",
              "  <thead>\n",
              "    <tr style=\"text-align: right;\">\n",
              "      <th></th>\n",
              "      <th>recipe_id</th>\n",
              "      <th>rating</th>\n",
              "      <th>recipe_name</th>\n",
              "    </tr>\n",
              "  </thead>\n",
              "  <tbody>\n",
              "    <tr>\n",
              "      <th>0</th>\n",
              "      <td>415374</td>\n",
              "      <td>0</td>\n",
              "      <td>garlic loaf</td>\n",
              "    </tr>\n",
              "    <tr>\n",
              "      <th>1</th>\n",
              "      <td>352281</td>\n",
              "      <td>0</td>\n",
              "      <td>chicken coconut curry soup   a k a  easy mulli...</td>\n",
              "    </tr>\n",
              "    <tr>\n",
              "      <th>2</th>\n",
              "      <td>198802</td>\n",
              "      <td>0</td>\n",
              "      <td>cherry almond butter cookies</td>\n",
              "    </tr>\n",
              "    <tr>\n",
              "      <th>3</th>\n",
              "      <td>38852</td>\n",
              "      <td>0</td>\n",
              "      <td>second only to my meatloaf  meatballs</td>\n",
              "    </tr>\n",
              "    <tr>\n",
              "      <th>4</th>\n",
              "      <td>51836</td>\n",
              "      <td>0</td>\n",
              "      <td>easy pasta lasagna</td>\n",
              "    </tr>\n",
              "    <tr>\n",
              "      <th>5</th>\n",
              "      <td>248074</td>\n",
              "      <td>0</td>\n",
              "      <td>garlic fries  light</td>\n",
              "    </tr>\n",
              "    <tr>\n",
              "      <th>6</th>\n",
              "      <td>86607</td>\n",
              "      <td>0</td>\n",
              "      <td>breakfast  pizza   somersize</td>\n",
              "    </tr>\n",
              "    <tr>\n",
              "      <th>7</th>\n",
              "      <td>220440</td>\n",
              "      <td>0</td>\n",
              "      <td>easter deviled eggs</td>\n",
              "    </tr>\n",
              "    <tr>\n",
              "      <th>8</th>\n",
              "      <td>336852</td>\n",
              "      <td>0</td>\n",
              "      <td>baked corn  like a corn casserole  but no chee...</td>\n",
              "    </tr>\n",
              "    <tr>\n",
              "      <th>9</th>\n",
              "      <td>418161</td>\n",
              "      <td>0</td>\n",
              "      <td>chicken oreganata with lime</td>\n",
              "    </tr>\n",
              "    <tr>\n",
              "      <th>10</th>\n",
              "      <td>134451</td>\n",
              "      <td>0</td>\n",
              "      <td>hazelnut chip scones</td>\n",
              "    </tr>\n",
              "    <tr>\n",
              "      <th>11</th>\n",
              "      <td>163427</td>\n",
              "      <td>0</td>\n",
              "      <td>baked tofu with mushroom gravy</td>\n",
              "    </tr>\n",
              "    <tr>\n",
              "      <th>12</th>\n",
              "      <td>8054</td>\n",
              "      <td>0</td>\n",
              "      <td>barbecue hamburger patties</td>\n",
              "    </tr>\n",
              "    <tr>\n",
              "      <th>13</th>\n",
              "      <td>384508</td>\n",
              "      <td>0</td>\n",
              "      <td>gravy peas</td>\n",
              "    </tr>\n",
              "    <tr>\n",
              "      <th>14</th>\n",
              "      <td>193998</td>\n",
              "      <td>0</td>\n",
              "      <td>abraham lincoln s   best cake i ever tasted   ...</td>\n",
              "    </tr>\n",
              "    <tr>\n",
              "      <th>15</th>\n",
              "      <td>148527</td>\n",
              "      <td>0</td>\n",
              "      <td>breaded steak  bistec empanizado</td>\n",
              "    </tr>\n",
              "    <tr>\n",
              "      <th>16</th>\n",
              "      <td>466724</td>\n",
              "      <td>0</td>\n",
              "      <td>creamy chicken  spinach and tortellini soup</td>\n",
              "    </tr>\n",
              "    <tr>\n",
              "      <th>17</th>\n",
              "      <td>81413</td>\n",
              "      <td>0</td>\n",
              "      <td>grandmas country soup 1965</td>\n",
              "    </tr>\n",
              "    <tr>\n",
              "      <th>18</th>\n",
              "      <td>116529</td>\n",
              "      <td>0</td>\n",
              "      <td>fudge filled chocolate chip thumbprints</td>\n",
              "    </tr>\n",
              "    <tr>\n",
              "      <th>19</th>\n",
              "      <td>172212</td>\n",
              "      <td>0</td>\n",
              "      <td>creamy mocha drink</td>\n",
              "    </tr>\n",
              "  </tbody>\n",
              "</table>\n",
              "</div>"
            ],
            "text/plain": [
              "    recipe_id  rating                                        recipe_name\n",
              "0      415374       0                                        garlic loaf\n",
              "1      352281       0  chicken coconut curry soup   a k a  easy mulli...\n",
              "2      198802       0                       cherry almond butter cookies\n",
              "3       38852       0              second only to my meatloaf  meatballs\n",
              "4       51836       0                                 easy pasta lasagna\n",
              "5      248074       0                                garlic fries  light\n",
              "6       86607       0                       breakfast  pizza   somersize\n",
              "7      220440       0                                easter deviled eggs\n",
              "8      336852       0  baked corn  like a corn casserole  but no chee...\n",
              "9      418161       0                        chicken oreganata with lime\n",
              "10     134451       0                               hazelnut chip scones\n",
              "11     163427       0                     baked tofu with mushroom gravy\n",
              "12       8054       0                         barbecue hamburger patties\n",
              "13     384508       0                                         gravy peas\n",
              "14     193998       0  abraham lincoln s   best cake i ever tasted   ...\n",
              "15     148527       0                   breaded steak  bistec empanizado\n",
              "16     466724       0        creamy chicken  spinach and tortellini soup\n",
              "17      81413       0                         grandmas country soup 1965\n",
              "18     116529       0            fudge filled chocolate chip thumbprints\n",
              "19     172212       0                                 creamy mocha drink"
            ]
          },
          "execution_count": 12,
          "metadata": {},
          "output_type": "execute_result"
        }
      ],
      "source": [
        "helper.get_user_interactions(\"8ba9549e-2542-49a6-8517-586e3926f939\")"
      ]
    },
    {
      "cell_type": "code",
      "execution_count": 13,
      "metadata": {},
      "outputs": [
        {
          "data": {
            "text/html": [
              "<div>\n",
              "<style scoped>\n",
              "    .dataframe tbody tr th:only-of-type {\n",
              "        vertical-align: middle;\n",
              "    }\n",
              "\n",
              "    .dataframe tbody tr th {\n",
              "        vertical-align: top;\n",
              "    }\n",
              "\n",
              "    .dataframe thead th {\n",
              "        text-align: right;\n",
              "    }\n",
              "</style>\n",
              "<table border=\"1\" class=\"dataframe\">\n",
              "  <thead>\n",
              "    <tr style=\"text-align: right;\">\n",
              "      <th></th>\n",
              "      <th>recipe_id</th>\n",
              "      <th>recipe_name</th>\n",
              "    </tr>\n",
              "  </thead>\n",
              "  <tbody>\n",
              "    <tr>\n",
              "      <th>0</th>\n",
              "      <td>75302</td>\n",
              "      <td>mrs  geraldine s ground beef casserole</td>\n",
              "    </tr>\n",
              "    <tr>\n",
              "      <th>1</th>\n",
              "      <td>77397</td>\n",
              "      <td>kittencal s 5 minute cinnamon flop brunch cake</td>\n",
              "    </tr>\n",
              "    <tr>\n",
              "      <th>2</th>\n",
              "      <td>133448</td>\n",
              "      <td>creamy ramen noodles</td>\n",
              "    </tr>\n",
              "    <tr>\n",
              "      <th>3</th>\n",
              "      <td>87782</td>\n",
              "      <td>greek potatoes  oven roasted and delicious</td>\n",
              "    </tr>\n",
              "    <tr>\n",
              "      <th>4</th>\n",
              "      <td>105726</td>\n",
              "      <td>kittencal s parmesan garlic bread or garlic toast</td>\n",
              "    </tr>\n",
              "    <tr>\n",
              "      <th>5</th>\n",
              "      <td>80118</td>\n",
              "      <td>kittencal s bakery buttercream  frosting icing</td>\n",
              "    </tr>\n",
              "    <tr>\n",
              "      <th>6</th>\n",
              "      <td>66241</td>\n",
              "      <td>buttermilk pancakes</td>\n",
              "    </tr>\n",
              "    <tr>\n",
              "      <th>7</th>\n",
              "      <td>121490</td>\n",
              "      <td>strawberries   cream bread  strawberry or blue...</td>\n",
              "    </tr>\n",
              "    <tr>\n",
              "      <th>8</th>\n",
              "      <td>216237</td>\n",
              "      <td>traditional english cheddar cauliflower cheese...</td>\n",
              "    </tr>\n",
              "    <tr>\n",
              "      <th>9</th>\n",
              "      <td>26370</td>\n",
              "      <td>the only chocolate cake recipe you ll ever nee...</td>\n",
              "    </tr>\n",
              "    <tr>\n",
              "      <th>10</th>\n",
              "      <td>34382</td>\n",
              "      <td>mashed red potatoes with garlic and parmesan</td>\n",
              "    </tr>\n",
              "    <tr>\n",
              "      <th>11</th>\n",
              "      <td>20689</td>\n",
              "      <td>chicken with muenster cheese</td>\n",
              "    </tr>\n",
              "    <tr>\n",
              "      <th>12</th>\n",
              "      <td>43023</td>\n",
              "      <td>creamy garlic penne pasta</td>\n",
              "    </tr>\n",
              "    <tr>\n",
              "      <th>13</th>\n",
              "      <td>88945</td>\n",
              "      <td>garlic roasted asparagus with parmesan</td>\n",
              "    </tr>\n",
              "    <tr>\n",
              "      <th>14</th>\n",
              "      <td>180465</td>\n",
              "      <td>fresh tomato  basil grilled cheese sandwich</td>\n",
              "    </tr>\n",
              "    <tr>\n",
              "      <th>15</th>\n",
              "      <td>34335</td>\n",
              "      <td>herbed pork tenderloin</td>\n",
              "    </tr>\n",
              "    <tr>\n",
              "      <th>16</th>\n",
              "      <td>33105</td>\n",
              "      <td>zesty low fat chicken breasts</td>\n",
              "    </tr>\n",
              "    <tr>\n",
              "      <th>17</th>\n",
              "      <td>60235</td>\n",
              "      <td>no bake granola bars</td>\n",
              "    </tr>\n",
              "    <tr>\n",
              "      <th>18</th>\n",
              "      <td>17394</td>\n",
              "      <td>meatloaf barbecue style</td>\n",
              "    </tr>\n",
              "    <tr>\n",
              "      <th>19</th>\n",
              "      <td>48365</td>\n",
              "      <td>buttermilk chocolate bread</td>\n",
              "    </tr>\n",
              "  </tbody>\n",
              "</table>\n",
              "</div>"
            ],
            "text/plain": [
              "    recipe_id                                        recipe_name\n",
              "0       75302             mrs  geraldine s ground beef casserole\n",
              "1       77397     kittencal s 5 minute cinnamon flop brunch cake\n",
              "2      133448                               creamy ramen noodles\n",
              "3       87782         greek potatoes  oven roasted and delicious\n",
              "4      105726  kittencal s parmesan garlic bread or garlic toast\n",
              "5       80118     kittencal s bakery buttercream  frosting icing\n",
              "6       66241                                buttermilk pancakes\n",
              "7      121490  strawberries   cream bread  strawberry or blue...\n",
              "8      216237  traditional english cheddar cauliflower cheese...\n",
              "9       26370  the only chocolate cake recipe you ll ever nee...\n",
              "10      34382       mashed red potatoes with garlic and parmesan\n",
              "11      20689                       chicken with muenster cheese\n",
              "12      43023                          creamy garlic penne pasta\n",
              "13      88945             garlic roasted asparagus with parmesan\n",
              "14     180465        fresh tomato  basil grilled cheese sandwich\n",
              "15      34335                             herbed pork tenderloin\n",
              "16      33105                      zesty low fat chicken breasts\n",
              "17      60235                               no bake granola bars\n",
              "18      17394                            meatloaf barbecue style\n",
              "19      48365                         buttermilk chocolate bread"
            ]
          },
          "execution_count": 13,
          "metadata": {},
          "output_type": "execute_result"
        }
      ],
      "source": [
        "helper.get_formatted_recommendations(\"8ba9549e-2542-49a6-8517-586e3926f939\",20)"
      ]
    },
    {
      "cell_type": "code",
      "execution_count": 14,
      "metadata": {},
      "outputs": [
        {
          "data": {
            "text/plain": [
              "'garlic loaf'"
            ]
          },
          "execution_count": 14,
          "metadata": {},
          "output_type": "execute_result"
        }
      ],
      "source": [
        "helper.get_recipe_name(415374)"
      ]
    }
  ],
  "metadata": {
    "colab": {
      "provenance": []
    },
    "kernelspec": {
      "display_name": "default",
      "language": "python",
      "name": "python3"
    },
    "language_info": {
      "codemirror_mode": {
        "name": "ipython",
        "version": 3
      },
      "file_extension": ".py",
      "mimetype": "text/x-python",
      "name": "python",
      "nbconvert_exporter": "python",
      "pygments_lexer": "ipython3",
      "version": "3.11.11"
    }
  },
  "nbformat": 4,
  "nbformat_minor": 0
}
