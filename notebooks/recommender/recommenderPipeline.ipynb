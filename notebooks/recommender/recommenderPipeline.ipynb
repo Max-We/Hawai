{
  "cells": [
    {
      "cell_type": "code",
      "execution_count": null,
      "metadata": {},
      "outputs": [],
      "source": [
        "#%pip install tensorflow==2.15 keras==2.15"
      ]
    },
    {
      "cell_type": "code",
      "execution_count": 1,
      "metadata": {
        "colab": {
          "base_uri": "https://localhost:8080/"
        },
        "id": "Ou5fJq46b9og",
        "outputId": "c30efb5f-fa85-4a1c-98e1-8de66e5f43a6"
      },
      "outputs": [
        {
          "name": "stdout",
          "output_type": "stream",
          "text": [
            "WARNING:tensorflow:From /Users/florianzierer/anaconda3/envs/default/lib/python3.11/site-packages/tensorflow/python/compat/v2_compat.py:108: disable_resource_variables (from tensorflow.python.ops.variable_scope) is deprecated and will be removed in a future version.\n",
            "Instructions for updating:\n",
            "non-resource variables are not supported in the long term\n"
          ]
        },
        {
          "name": "stderr",
          "output_type": "stream",
          "text": [
            "/Users/florianzierer/anaconda3/envs/default/lib/python3.11/site-packages/tqdm/auto.py:21: TqdmWarning: IProgress not found. Please update jupyter and ipywidgets. See https://ipywidgets.readthedocs.io/en/stable/user_install.html\n",
            "  from .autonotebook import tqdm as notebook_tqdm\n"
          ]
        },
        {
          "name": "stdout",
          "output_type": "stream",
          "text": [
            "Wie viele interactions gibt es?131535\n"
          ]
        }
      ],
      "source": [
        "from recipeRecommender import RecipeRecommender\n",
        "\n",
        "# Beispielaufruf\n",
        "recommender = RecipeRecommender()\n",
        "recommender.load_and_preprocess(min_interactions=20)\n"
      ]
    },
    {
      "cell_type": "code",
      "execution_count": 2,
      "metadata": {},
      "outputs": [
        {
          "name": "stderr",
          "output_type": "stream",
          "text": [
            "2025-03-31 20:25:58.329909: I tensorflow/compiler/mlir/mlir_graph_optimization_pass.cc:388] MLIR V1 optimization pass is not enabled\n"
          ]
        },
        {
          "name": "stdout",
          "output_type": "stream",
          "text": [
            "Training start time: \u001b[35m2025-03-31 20:25:58\u001b[0m\n"
          ]
        },
        {
          "name": "stderr",
          "output_type": "stream",
          "text": [
            "train: 100%|██████████| 2064/2064 [00:03<00:00, 640.65it/s]\n"
          ]
        },
        {
          "name": "stdout",
          "output_type": "stream",
          "text": [
            "Epoch 1 elapsed: 3.243s\n",
            "\t \u001b[32mtrain_loss: 0.6912\u001b[0m\n"
          ]
        },
        {
          "name": "stderr",
          "output_type": "stream",
          "text": [
            "eval_pointwise: 100%|██████████| 34/34 [00:00<00:00, 660.24it/s]\n",
            "eval_listwise: 100%|██████████| 2387/2387 [00:00<00:00, 3537.69it/s]\n"
          ]
        },
        {
          "name": "stdout",
          "output_type": "stream",
          "text": [
            "\t eval log_loss: 0.6911\n",
            "\t eval roc_auc: 0.5986\n",
            "\t eval precision@10: 0.0133\n",
            "\t eval recall@10: 0.0311\n",
            "\t eval ndcg@10: 0.0593\n",
            "==============================\n"
          ]
        },
        {
          "name": "stderr",
          "output_type": "stream",
          "text": [
            "train: 100%|██████████| 2064/2064 [00:02<00:00, 735.48it/s]\n"
          ]
        },
        {
          "name": "stdout",
          "output_type": "stream",
          "text": [
            "Epoch 2 elapsed: 2.810s\n",
            "\t \u001b[32mtrain_loss: 0.6877\u001b[0m\n"
          ]
        },
        {
          "name": "stderr",
          "output_type": "stream",
          "text": [
            "eval_pointwise: 100%|██████████| 34/34 [00:00<00:00, 639.23it/s]\n",
            "eval_listwise: 100%|██████████| 2387/2387 [00:00<00:00, 2738.24it/s]\n"
          ]
        },
        {
          "name": "stdout",
          "output_type": "stream",
          "text": [
            "\t eval log_loss: 0.6897\n",
            "\t eval roc_auc: 0.6372\n",
            "\t eval precision@10: 0.0166\n",
            "\t eval recall@10: 0.0383\n",
            "\t eval ndcg@10: 0.0727\n",
            "==============================\n"
          ]
        },
        {
          "name": "stderr",
          "output_type": "stream",
          "text": [
            "train: 100%|██████████| 2064/2064 [00:02<00:00, 753.61it/s]\n"
          ]
        },
        {
          "name": "stdout",
          "output_type": "stream",
          "text": [
            "Epoch 3 elapsed: 2.744s\n",
            "\t \u001b[32mtrain_loss: 0.6843\u001b[0m\n"
          ]
        },
        {
          "name": "stderr",
          "output_type": "stream",
          "text": [
            "eval_pointwise: 100%|██████████| 34/34 [00:00<00:00, 703.75it/s]\n",
            "eval_listwise: 100%|██████████| 2387/2387 [00:00<00:00, 3895.25it/s]\n"
          ]
        },
        {
          "name": "stdout",
          "output_type": "stream",
          "text": [
            "\t eval log_loss: 0.6884\n",
            "\t eval roc_auc: 0.6537\n",
            "\t eval precision@10: 0.0174\n",
            "\t eval recall@10: 0.0395\n",
            "\t eval ndcg@10: 0.0776\n",
            "==============================\n"
          ]
        },
        {
          "name": "stderr",
          "output_type": "stream",
          "text": [
            "train: 100%|██████████| 2064/2064 [00:02<00:00, 762.22it/s]\n"
          ]
        },
        {
          "name": "stdout",
          "output_type": "stream",
          "text": [
            "Epoch 4 elapsed: 2.710s\n",
            "\t \u001b[32mtrain_loss: 0.6809\u001b[0m\n"
          ]
        },
        {
          "name": "stderr",
          "output_type": "stream",
          "text": [
            "eval_pointwise: 100%|██████████| 34/34 [00:00<00:00, 719.96it/s]\n",
            "eval_listwise: 100%|██████████| 2387/2387 [00:00<00:00, 4642.88it/s]\n"
          ]
        },
        {
          "name": "stdout",
          "output_type": "stream",
          "text": [
            "\t eval log_loss: 0.6871\n",
            "\t eval roc_auc: 0.6615\n",
            "\t eval precision@10: 0.0178\n",
            "\t eval recall@10: 0.0393\n",
            "\t eval ndcg@10: 0.0805\n",
            "==============================\n"
          ]
        },
        {
          "name": "stderr",
          "output_type": "stream",
          "text": [
            "train: 100%|██████████| 2064/2064 [00:02<00:00, 777.11it/s]\n"
          ]
        },
        {
          "name": "stdout",
          "output_type": "stream",
          "text": [
            "Epoch 5 elapsed: 2.658s\n",
            "\t \u001b[32mtrain_loss: 0.6777\u001b[0m\n"
          ]
        },
        {
          "name": "stderr",
          "output_type": "stream",
          "text": [
            "eval_pointwise: 100%|██████████| 34/34 [00:00<00:00, 721.40it/s]\n",
            "eval_listwise: 100%|██████████| 2387/2387 [00:00<00:00, 3922.26it/s]\n"
          ]
        },
        {
          "name": "stdout",
          "output_type": "stream",
          "text": [
            "\t eval log_loss: 0.6858\n",
            "\t eval roc_auc: 0.6659\n",
            "\t eval precision@10: 0.0180\n",
            "\t eval recall@10: 0.0397\n",
            "\t eval ndcg@10: 0.0814\n",
            "==============================\n"
          ]
        },
        {
          "name": "stderr",
          "output_type": "stream",
          "text": [
            "train: 100%|██████████| 2064/2064 [00:02<00:00, 758.92it/s]\n"
          ]
        },
        {
          "name": "stdout",
          "output_type": "stream",
          "text": [
            "Epoch 6 elapsed: 2.721s\n",
            "\t \u001b[32mtrain_loss: 0.6744\u001b[0m\n"
          ]
        },
        {
          "name": "stderr",
          "output_type": "stream",
          "text": [
            "eval_pointwise: 100%|██████████| 34/34 [00:00<00:00, 689.15it/s]\n",
            "eval_listwise: 100%|██████████| 2387/2387 [00:00<00:00, 4173.73it/s]\n"
          ]
        },
        {
          "name": "stdout",
          "output_type": "stream",
          "text": [
            "\t eval log_loss: 0.6845\n",
            "\t eval roc_auc: 0.6687\n",
            "\t eval precision@10: 0.0181\n",
            "\t eval recall@10: 0.0398\n",
            "\t eval ndcg@10: 0.0810\n",
            "==============================\n"
          ]
        },
        {
          "name": "stderr",
          "output_type": "stream",
          "text": [
            "train: 100%|██████████| 2064/2064 [00:02<00:00, 771.96it/s]\n"
          ]
        },
        {
          "name": "stdout",
          "output_type": "stream",
          "text": [
            "Epoch 7 elapsed: 2.676s\n",
            "\t \u001b[32mtrain_loss: 0.6712\u001b[0m\n"
          ]
        },
        {
          "name": "stderr",
          "output_type": "stream",
          "text": [
            "eval_pointwise: 100%|██████████| 34/34 [00:00<00:00, 706.70it/s]\n",
            "eval_listwise: 100%|██████████| 2387/2387 [00:00<00:00, 3967.21it/s]\n"
          ]
        },
        {
          "name": "stdout",
          "output_type": "stream",
          "text": [
            "\t eval log_loss: 0.6833\n",
            "\t eval roc_auc: 0.6707\n",
            "\t eval precision@10: 0.0183\n",
            "\t eval recall@10: 0.0401\n",
            "\t eval ndcg@10: 0.0823\n",
            "==============================\n"
          ]
        },
        {
          "name": "stderr",
          "output_type": "stream",
          "text": [
            "train: 100%|██████████| 2064/2064 [00:02<00:00, 750.42it/s]\n"
          ]
        },
        {
          "name": "stdout",
          "output_type": "stream",
          "text": [
            "Epoch 8 elapsed: 2.753s\n",
            "\t \u001b[32mtrain_loss: 0.6678\u001b[0m\n"
          ]
        },
        {
          "name": "stderr",
          "output_type": "stream",
          "text": [
            "eval_pointwise: 100%|██████████| 34/34 [00:00<00:00, 706.36it/s]\n",
            "eval_listwise: 100%|██████████| 2387/2387 [00:00<00:00, 3403.15it/s]\n"
          ]
        },
        {
          "name": "stdout",
          "output_type": "stream",
          "text": [
            "\t eval log_loss: 0.6821\n",
            "\t eval roc_auc: 0.6723\n",
            "\t eval precision@10: 0.0183\n",
            "\t eval recall@10: 0.0406\n",
            "\t eval ndcg@10: 0.0826\n",
            "==============================\n"
          ]
        },
        {
          "name": "stderr",
          "output_type": "stream",
          "text": [
            "eval_pointwise: 100%|██████████| 34/34 [00:00<00:00, 398.88it/s]\n",
            "eval_listwise: 100%|██████████| 2396/2396 [00:00<00:00, 3801.40it/s]\n"
          ]
        },
        {
          "data": {
            "text/plain": [
              "{'loss': 0.6820835756928294,\n",
              " 'roc_auc': 0.6698074616548355,\n",
              " 'precision': 0.017153589315525877,\n",
              " 'recall': 0.03637992345112625,\n",
              " 'ndcg': 0.07642221427659006}"
            ]
          },
          "execution_count": 2,
          "metadata": {},
          "output_type": "execute_result"
        }
      ],
      "source": [
        "# Neue Nutzer per CSV importieren\n",
        "#recommender.import_ratings_csv(\"/content/sample_data/ratings.csv\")\n",
        "recommender.set_model(\"BPR\") # \"SVD\", \"SVDpp\", \"ALS\", \"BPR\", \"UserCF\", \"ItemCF\"\n",
        "recommender.train()\n",
        "recommender.evaluate()"
      ]
    },
    {
      "cell_type": "code",
      "execution_count": 3,
      "metadata": {},
      "outputs": [
        {
          "data": {
            "text/html": [
              "<div>\n",
              "<style scoped>\n",
              "    .dataframe tbody tr th:only-of-type {\n",
              "        vertical-align: middle;\n",
              "    }\n",
              "\n",
              "    .dataframe tbody tr th {\n",
              "        vertical-align: top;\n",
              "    }\n",
              "\n",
              "    .dataframe thead th {\n",
              "        text-align: right;\n",
              "    }\n",
              "</style>\n",
              "<table border=\"1\" class=\"dataframe\">\n",
              "  <thead>\n",
              "    <tr style=\"text-align: right;\">\n",
              "      <th></th>\n",
              "      <th>user</th>\n",
              "      <th>item</th>\n",
              "      <th>label</th>\n",
              "    </tr>\n",
              "  </thead>\n",
              "  <tbody>\n",
              "    <tr>\n",
              "      <th>35</th>\n",
              "      <td>2312</td>\n",
              "      <td>2886</td>\n",
              "      <td>5.0</td>\n",
              "    </tr>\n",
              "    <tr>\n",
              "      <th>46</th>\n",
              "      <td>7802</td>\n",
              "      <td>8782</td>\n",
              "      <td>4.0</td>\n",
              "    </tr>\n",
              "    <tr>\n",
              "      <th>65</th>\n",
              "      <td>6836</td>\n",
              "      <td>9058</td>\n",
              "      <td>4.0</td>\n",
              "    </tr>\n",
              "    <tr>\n",
              "      <th>128</th>\n",
              "      <td>7802</td>\n",
              "      <td>9058</td>\n",
              "      <td>5.0</td>\n",
              "    </tr>\n",
              "    <tr>\n",
              "      <th>156</th>\n",
              "      <td>4740</td>\n",
              "      <td>9842</td>\n",
              "      <td>5.0</td>\n",
              "    </tr>\n",
              "    <tr>\n",
              "      <th>...</th>\n",
              "      <td>...</td>\n",
              "      <td>...</td>\n",
              "      <td>...</td>\n",
              "    </tr>\n",
              "    <tr>\n",
              "      <th>698869</th>\n",
              "      <td>395981</td>\n",
              "      <td>54351</td>\n",
              "      <td>5.0</td>\n",
              "    </tr>\n",
              "    <tr>\n",
              "      <th>698872</th>\n",
              "      <td>198154</td>\n",
              "      <td>67930</td>\n",
              "      <td>3.0</td>\n",
              "    </tr>\n",
              "    <tr>\n",
              "      <th>698880</th>\n",
              "      <td>218535</td>\n",
              "      <td>242547</td>\n",
              "      <td>5.0</td>\n",
              "    </tr>\n",
              "    <tr>\n",
              "      <th>698885</th>\n",
              "      <td>218535</td>\n",
              "      <td>14814</td>\n",
              "      <td>5.0</td>\n",
              "    </tr>\n",
              "    <tr>\n",
              "      <th>698895</th>\n",
              "      <td>454804</td>\n",
              "      <td>20713</td>\n",
              "      <td>0.0</td>\n",
              "    </tr>\n",
              "  </tbody>\n",
              "</table>\n",
              "<p>131535 rows × 3 columns</p>\n",
              "</div>"
            ],
            "text/plain": [
              "          user    item  label\n",
              "35        2312    2886    5.0\n",
              "46        7802    8782    4.0\n",
              "65        6836    9058    4.0\n",
              "128       7802    9058    5.0\n",
              "156       4740    9842    5.0\n",
              "...        ...     ...    ...\n",
              "698869  395981   54351    5.0\n",
              "698872  198154   67930    3.0\n",
              "698880  218535  242547    5.0\n",
              "698885  218535   14814    5.0\n",
              "698895  454804   20713    0.0\n",
              "\n",
              "[131535 rows x 3 columns]"
            ]
          },
          "execution_count": 3,
          "metadata": {},
          "output_type": "execute_result"
        }
      ],
      "source": [
        "data = recommender.get_data()\n",
        "data"
      ]
    },
    {
      "cell_type": "code",
      "execution_count": 4,
      "metadata": {},
      "outputs": [
        {
          "data": {
            "text/plain": [
              "[('thick  soft  and chewy chocolate chip cookies', 2.0),\n",
              " ('carne guisada  mexican beef stew', 4.0),\n",
              " ('quick cube steaks', 3.0),\n",
              " ('irish rosie s irish soda bread', 4.0),\n",
              " ('weight watchers chicken pot pie', 5.0),\n",
              " ('ww skinny chimichangas', 5.0),\n",
              " ('weight watchers shepherd s pie', 5.0),\n",
              " ('ellie s catfish', 2.0),\n",
              " ('finger lickin good bbq sauce', 5.0),\n",
              " ('corned beef in beer  crock pot', 5.0),\n",
              " ('creamy swiss chard pasta', 5.0),\n",
              " ('garlic beef enchiladas', 5.0),\n",
              " ('baked french toast casserole with maple syrup', 4.0),\n",
              " ('pasta fazool   pasta and beans with sausage', 3.0),\n",
              " ('pork chops yum yum', 5.0),\n",
              " ('simply awesome baked pork chops', 1.0),\n",
              " ('easy black beans and rice', 5.0),\n",
              " ('homemade rice a roni', 5.0),\n",
              " ('kittencal s buttermilk poultry brine  for chicken or turkey', 5.0),\n",
              " ('kittencal s alfredo sauce', 5.0),\n",
              " ('danish meatballs with creamy dill sauce', 3.0),\n",
              " ('bananas  n cream bundt cake', 3.0),\n",
              " ('alton brown s baked brown rice', 5.0),\n",
              " ('fabulous chicken marinade for bbq', 5.0),\n",
              " ('sweet potato  yam  casserole with marshmallows', 5.0),\n",
              " ('snickerdoodle blondies', 0.0),\n",
              " ('buttery shrimp and pasta', 1.0),\n",
              " ('bow ties alfredo with ham and peas  or broccoli', 4.0),\n",
              " ('yummy baked potato skins', 5.0),\n",
              " ('linda s apple brownies', 5.0),\n",
              " ('split pea soup   ham', 5.0),\n",
              " ('olive garden style chicken and gnocchi soup', 5.0),\n",
              " ('failproof french bread  bread machine', 5.0),\n",
              " ('kittencal s best chinese fried rice with egg', 5.0),\n",
              " ('homemade cheeseburger macaroni hamburger helper', 2.0),\n",
              " ('chocolate dipped krispies peanut butter balls', 5.0),\n",
              " ('glazed cinnamon rolls   bread machine', 5.0),\n",
              " ('zucchini chocolate cake', 3.0),\n",
              " ('best oatmeal cookies', 5.0)]"
            ]
          },
          "execution_count": 4,
          "metadata": {},
          "output_type": "execute_result"
        }
      ],
      "source": [
        "from recommendationHelper import RHelper\n",
        "item_info = RHelper.load_items_information()\n",
        "name_df = RHelper.get_name_df(item_info)\n",
        "\n",
        "list = RHelper.get_user_interactions(395981,data)\n",
        "name_ratings = []\n",
        "for tuple in list:\n",
        "    name_ratings.append((RHelper.get_recipe_name(tuple[0],name_df),tuple[1]))\n",
        "    \n",
        "name_ratings"
      ]
    },
    {
      "cell_type": "code",
      "execution_count": 8,
      "metadata": {
        "id": "eiHjxJ_E57X3"
      },
      "outputs": [
        {
          "name": "stdout",
          "output_type": "stream",
          "text": [
            "to die for crock pot roast\n",
            "crock pot chicken with black beans   cream cheese\n",
            "creamy cajun chicken pasta\n",
            "japanese mum s chicken\n",
            "oven fried chicken chimichangas\n",
            "yes  virginia there is a great meatloaf\n",
            "kittencal s italian melt in your mouth meatballs\n",
            "whatever floats your boat  brownies\n",
            "greek potatoes  oven roasted and delicious\n",
            "kittencal s 5 minute cinnamon flop brunch cake\n",
            "kittencal s moist cheddar garlic oven fried chicken breast\n",
            "banana banana bread\n",
            "creamy burrito casserole\n",
            "jo mama s world famous spaghetti\n",
            "mama s supper club tilapia parmesan\n",
            "panera s cream cheese potato soup\n",
            "my family s favorite sloppy joes  pizza joes\n",
            "crumb topped banana muffins\n",
            "crock pot whole chicken\n",
            "best ever banana cake with cream cheese frosting\n"
          ]
        }
      ],
      "source": [
        "def get_recommenation_names(userid,n_rec):\n",
        "    recommendations = recommender.get_recommendation(userid,n_rec)\n",
        "    recs = recommendations[userid]\n",
        "    for rec in recs:\n",
        "        print(RHelper.get_recipe_name(rec,name_df))\n",
        "\n",
        "get_recommenation_names(395981,20)"
      ]
    },
    {
      "cell_type": "code",
      "execution_count": 9,
      "metadata": {},
      "outputs": [
        {
          "name": "stdout",
          "output_type": "stream",
          "text": [
            "to die for crock pot roast\n",
            "crock pot chicken with black beans   cream cheese\n",
            "creamy cajun chicken pasta\n",
            "japanese mum s chicken\n",
            "oven fried chicken chimichangas\n",
            "kittencal s italian melt in your mouth meatballs\n",
            "whatever floats your boat  brownies\n",
            "greek potatoes  oven roasted and delicious\n",
            "yes  virginia there is a great meatloaf\n",
            "kittencal s 5 minute cinnamon flop brunch cake\n",
            "pork chops yum yum\n",
            "creamy burrito casserole\n",
            "jo mama s world famous spaghetti\n",
            "kittencal s moist cheddar garlic oven fried chicken breast\n",
            "banana banana bread\n",
            "my family s favorite sloppy joes  pizza joes\n",
            "panera s cream cheese potato soup\n",
            "crumb topped banana muffins\n",
            "crock pot whole chicken\n",
            "mama s supper club tilapia parmesan\n"
          ]
        }
      ],
      "source": [
        "get_recommenation_names(2312,20)"
      ]
    },
    {
      "cell_type": "code",
      "execution_count": null,
      "metadata": {
        "id": "GjK7xMVO6c2s"
      },
      "outputs": [
        {
          "ename": "ModuleNotFoundError",
          "evalue": "No module named 'config'",
          "output_type": "error",
          "traceback": [
            "\u001b[31m---------------------------------------------------------------------------\u001b[39m",
            "\u001b[31mModuleNotFoundError\u001b[39m                       Traceback (most recent call last)",
            "\u001b[36mCell\u001b[39m\u001b[36m \u001b[39m\u001b[32mIn[2]\u001b[39m\u001b[32m, line 2\u001b[39m\n\u001b[32m      1\u001b[39m \u001b[38;5;28;01mimport\u001b[39;00m\u001b[38;5;250m \u001b[39m\u001b[34;01mcontextlib\u001b[39;00m\n\u001b[32m----> \u001b[39m\u001b[32m2\u001b[39m \u001b[38;5;28;01mfrom\u001b[39;00m\u001b[38;5;250m \u001b[39m\u001b[34;01mconfig\u001b[39;00m\u001b[38;5;250m \u001b[39m\u001b[38;5;28;01mimport\u001b[39;00m RATINGS_FILE\n\u001b[32m      3\u001b[39m \u001b[38;5;28;01mfrom\u001b[39;00m\u001b[38;5;250m \u001b[39m\u001b[34;01mconfig\u001b[39;00m\u001b[38;5;250m \u001b[39m\u001b[38;5;28;01mimport\u001b[39;00m RECOMMENDATIONS_FILE\n\u001b[32m      4\u001b[39m \u001b[38;5;28;01mimport\u001b[39;00m\u001b[38;5;250m \u001b[39m\u001b[34;01mio\u001b[39;00m\n",
            "\u001b[31mModuleNotFoundError\u001b[39m: No module named 'config'"
          ]
        }
      ],
      "source": [
        "import contextlib\n",
        "from config import RATINGS_FILE\n",
        "from config import RECOMMENDATIONS_FILE\n",
        "import io\n",
        "\n",
        "tf.get_logger().setLevel('ERROR')\n",
        "\n",
        "RECOMMENDER_TYPES = [\"SVD\", \"SVDpp\", \"ALS\", \"BPR\", \"UserCF\", \"ItemCF\"]\n",
        "\n",
        "for RECOMMENDER_TYPE in RECOMMENDER_TYPES:\n",
        "    print(f\"Training {RECOMMENDER_TYPE}...\")\n",
        "\n",
        "    with contextlib.redirect_stdout(io.StringIO()): # suppresses print statements\n",
        "        recommender = RecipeRecommender()\n",
        "        recommender.load_and_preprocess(min_interactions=20)\n",
        "        # Neue Nutzer per CSV importieren\n",
        "        recommender.import_ratings_csv(\"../\"+RATINGS_FILE)\n",
        "        recommender.set_model(RECOMMENDER_TYPE)\n",
        "        recommender.train()\n",
        "        eval = recommender.evaluate()\n",
        "\n",
        "    print(eval)\n",
        "    recommendations = recommender.save_recommendations_as_csv(\n",
        "        items_information,\n",
        "        20,\n",
        "        \"../\"+RECOMMENDATIONS_FILE+RECOMMENDER_TYPE.lower()+\".csv\"\n",
        "    )\n",
        "\n",
        "    print(f\"Recommendations for {RECOMMENDER_TYPE} saved to {RECOMMENDATIONS_FILE+RECOMMENDER_TYPE.lower()+'.csv'}\")\n"
      ]
    }
  ],
  "metadata": {
    "colab": {
      "provenance": []
    },
    "kernelspec": {
      "display_name": "default",
      "language": "python",
      "name": "python3"
    },
    "language_info": {
      "codemirror_mode": {
        "name": "ipython",
        "version": 3
      },
      "file_extension": ".py",
      "mimetype": "text/x-python",
      "name": "python",
      "nbconvert_exporter": "python",
      "pygments_lexer": "ipython3",
      "version": "3.11.11"
    }
  },
  "nbformat": 4,
  "nbformat_minor": 0
}
