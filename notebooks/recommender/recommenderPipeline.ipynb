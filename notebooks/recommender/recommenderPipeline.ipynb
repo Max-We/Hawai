{
  "cells": [
    {
      "cell_type": "code",
      "execution_count": 7,
      "metadata": {},
      "outputs": [],
      "source": [
        "#%pip install tensorflow==2.15 keras==2.15"
      ]
    },
    {
      "cell_type": "code",
      "execution_count": null,
      "metadata": {},
      "outputs": [
        {
          "name": "stdout",
          "output_type": "stream",
          "text": [
            "WARNING:tensorflow:From /Users/florianzierer/anaconda3/envs/default/lib/python3.11/site-packages/tensorflow/python/compat/v2_compat.py:108: disable_resource_variables (from tensorflow.python.ops.variable_scope) is deprecated and will be removed in a future version.\n",
            "Instructions for updating:\n",
            "non-resource variables are not supported in the long term\n"
          ]
        },
        {
          "name": "stderr",
          "output_type": "stream",
          "text": [
            "/Users/florianzierer/anaconda3/envs/default/lib/python3.11/site-packages/tqdm/auto.py:21: TqdmWarning: IProgress not found. Please update jupyter and ipywidgets. See https://ipywidgets.readthedocs.io/en/stable/user_install.html\n",
            "  from .autonotebook import tqdm as notebook_tqdm\n"
          ]
        },
        {
          "name": "stdout",
          "output_type": "stream",
          "text": [
            "-------- Started training: ItemCF --------\n",
            "Finale Daten: 131535 Interaktionen \n",
            "CSV erfolgreich geladen:\n",
            "                                   user  label    item\n",
            "0  8ba9549e-2542-49a6-8517-586e3926f939    1.0  415374\n",
            "1  8ba9549e-2542-49a6-8517-586e3926f939    1.0  352281\n",
            "2  8ba9549e-2542-49a6-8517-586e3926f939    1.0  198802\n",
            "3  8ba9549e-2542-49a6-8517-586e3926f939    1.0   38852\n",
            "4  8ba9549e-2542-49a6-8517-586e3926f939    1.0   51836\n",
            "500 neue Bewertungen hinzugefügt.\n",
            "n_users: 2511, n_items: 4525, data density: 0.9296 %\n",
            "Training start time: \u001b[35m2025-04-02 17:23:08\u001b[0m\n",
            "Final block size and num: (4525, 1)\n",
            "sim_matrix elapsed: 0.062s\n",
            "sim_matrix, shape: (4525, 4525), num_elements: 139724, density: 0.6824 %\n"
          ]
        },
        {
          "name": "stderr",
          "output_type": "stream",
          "text": [
            "top_k: 100%|██████████| 4525/4525 [00:00<00:00, 191066.67it/s]\n",
            "eval_pointwise:  25%|██▌       | 1/4 [00:00<00:00,  9.98it/s]"
          ]
        },
        {
          "name": "stdout",
          "output_type": "stream",
          "text": [
            "\u001b[31mNo common interaction or similar neighbor for user 662 and item 2933, proceed with default prediction\u001b[0m\n",
            "\u001b[31mNo common interaction or similar neighbor for user 662 and item 2893, proceed with default prediction\u001b[0m\n",
            "\u001b[31mNo common interaction or similar neighbor for user 1718 and item 113, proceed with default prediction\u001b[0m\n",
            "\u001b[31mNo common interaction or similar neighbor for user 1110 and item 1244, proceed with default prediction\u001b[0m\n",
            "\u001b[31mNo common interaction or similar neighbor for user 1057 and item 2417, proceed with default prediction\u001b[0m\n",
            "\u001b[31mNo common interaction or similar neighbor for user 1195 and item 4037, proceed with default prediction\u001b[0m\n"
          ]
        },
        {
          "name": "stderr",
          "output_type": "stream",
          "text": [
            "eval_pointwise: 100%|██████████| 4/4 [00:00<00:00, 10.47it/s]\n",
            "eval_listwise: 100%|██████████| 2399/2399 [00:04<00:00, 588.69it/s]\n"
          ]
        },
        {
          "name": "stdout",
          "output_type": "stream",
          "text": [
            "\t eval log_loss: 8.2907\n",
            "\t eval roc_auc: 0.6387\n",
            "\t eval precision@10: 0.0167\n",
            "\t eval recall@10: 0.0338\n",
            "\t eval ndcg@10: 0.0752\n",
            "==============================\n"
          ]
        },
        {
          "name": "stderr",
          "output_type": "stream",
          "text": [
            "eval_pointwise: 100%|██████████| 4/4 [00:00<00:00, 11.88it/s]\n",
            "eval_listwise: 100%|██████████| 2378/2378 [00:03<00:00, 662.48it/s] \n"
          ]
        },
        {
          "name": "stdout",
          "output_type": "stream",
          "text": [
            "-------- Started training: BPR --------\n",
            "Finale Daten: 131535 Interaktionen \n",
            "CSV erfolgreich geladen:\n",
            "                                   user  label    item\n",
            "0  8ba9549e-2542-49a6-8517-586e3926f939    1.0  415374\n",
            "1  8ba9549e-2542-49a6-8517-586e3926f939    1.0  352281\n",
            "2  8ba9549e-2542-49a6-8517-586e3926f939    1.0  198802\n",
            "3  8ba9549e-2542-49a6-8517-586e3926f939    1.0   38852\n",
            "4  8ba9549e-2542-49a6-8517-586e3926f939    1.0   51836\n",
            "500 neue Bewertungen hinzugefügt.\n",
            "n_users: 2511, n_items: 4525, data density: 0.9296 %\n",
            "Training start time: \u001b[35m2025-04-02 17:23:22\u001b[0m\n"
          ]
        },
        {
          "name": "stderr",
          "output_type": "stream",
          "text": [
            "2025-04-02 17:23:22.183939: I tensorflow/compiler/mlir/mlir_graph_optimization_pass.cc:388] MLIR V1 optimization pass is not enabled\n"
          ]
        },
        {
          "name": "stdout",
          "output_type": "stream",
          "text": [
            "With lr_decay, epoch 1 learning rate: 0.0003000000142492354\n"
          ]
        },
        {
          "name": "stderr",
          "output_type": "stream",
          "text": [
            "train: 100%|██████████| 4226/4226 [00:04<00:00, 959.02it/s] \n"
          ]
        },
        {
          "name": "stdout",
          "output_type": "stream",
          "text": [
            "Epoch 1 elapsed: 4.408s\n",
            "\t \u001b[32mtrain_loss: 0.6804\u001b[0m\n"
          ]
        },
        {
          "name": "stderr",
          "output_type": "stream",
          "text": [
            "eval_pointwise: 100%|██████████| 18/18 [00:00<00:00, 459.41it/s]\n",
            "eval_listwise: 100%|██████████| 2399/2399 [00:01<00:00, 1979.60it/s]\n"
          ]
        },
        {
          "name": "stdout",
          "output_type": "stream",
          "text": [
            "\t eval log_loss: 0.6768\n",
            "\t eval roc_auc: 0.6669\n",
            "\t eval precision@10: 0.0165\n",
            "\t eval recall@10: 0.0357\n",
            "\t eval ndcg@10: 0.0748\n",
            "==============================\n",
            "With lr_decay, epoch 2 learning rate: 0.0002880000101868063\n"
          ]
        },
        {
          "name": "stderr",
          "output_type": "stream",
          "text": [
            "train: 100%|██████████| 4226/4226 [00:03<00:00, 1331.86it/s]\n"
          ]
        },
        {
          "name": "stdout",
          "output_type": "stream",
          "text": [
            "Epoch 2 elapsed: 3.175s\n",
            "\t \u001b[32mtrain_loss: 0.6492\u001b[0m\n"
          ]
        },
        {
          "name": "stderr",
          "output_type": "stream",
          "text": [
            "eval_pointwise: 100%|██████████| 18/18 [00:00<00:00, 743.16it/s]\n",
            "eval_listwise: 100%|██████████| 2399/2399 [00:01<00:00, 2101.84it/s]\n"
          ]
        },
        {
          "name": "stdout",
          "output_type": "stream",
          "text": [
            "\t eval log_loss: 0.6585\n",
            "\t eval roc_auc: 0.6803\n",
            "\t eval precision@10: 0.0165\n",
            "\t eval recall@10: 0.0357\n",
            "\t eval ndcg@10: 0.0749\n",
            "==============================\n",
            "With lr_decay, epoch 3 learning rate: 0.00027648001560010016\n"
          ]
        },
        {
          "name": "stderr",
          "output_type": "stream",
          "text": [
            "train: 100%|██████████| 4226/4226 [00:03<00:00, 1370.86it/s]\n"
          ]
        },
        {
          "name": "stdout",
          "output_type": "stream",
          "text": [
            "Epoch 3 elapsed: 3.084s\n",
            "\t \u001b[32mtrain_loss: 0.6033\u001b[0m\n"
          ]
        },
        {
          "name": "stderr",
          "output_type": "stream",
          "text": [
            "eval_pointwise: 100%|██████████| 18/18 [00:00<00:00, 706.02it/s]\n",
            "eval_listwise: 100%|██████████| 2399/2399 [00:01<00:00, 2392.10it/s]\n"
          ]
        },
        {
          "name": "stdout",
          "output_type": "stream",
          "text": [
            "\t eval log_loss: 0.6397\n",
            "\t eval roc_auc: 0.6893\n",
            "\t eval precision@10: 0.0171\n",
            "\t eval recall@10: 0.0363\n",
            "\t eval ndcg@10: 0.0762\n",
            "==============================\n",
            "With lr_decay, epoch 4 learning rate: 0.000265420792857185\n"
          ]
        },
        {
          "name": "stderr",
          "output_type": "stream",
          "text": [
            "train: 100%|██████████| 4226/4226 [00:03<00:00, 1352.45it/s]\n"
          ]
        },
        {
          "name": "stdout",
          "output_type": "stream",
          "text": [
            "Epoch 4 elapsed: 3.127s\n",
            "\t \u001b[32mtrain_loss: 0.5695\u001b[0m\n"
          ]
        },
        {
          "name": "stderr",
          "output_type": "stream",
          "text": [
            "eval_pointwise: 100%|██████████| 18/18 [00:00<00:00, 765.90it/s]\n",
            "eval_listwise: 100%|██████████| 2399/2399 [00:00<00:00, 2476.00it/s]\n"
          ]
        },
        {
          "name": "stdout",
          "output_type": "stream",
          "text": [
            "\t eval log_loss: 0.6307\n",
            "\t eval roc_auc: 0.6966\n",
            "\t eval precision@10: 0.0179\n",
            "\t eval recall@10: 0.0367\n",
            "\t eval ndcg@10: 0.0784\n",
            "==============================\n",
            "With lr_decay, epoch 5 learning rate: 0.0002548039483372122\n"
          ]
        },
        {
          "name": "stderr",
          "output_type": "stream",
          "text": [
            "train: 100%|██████████| 4226/4226 [00:03<00:00, 1383.72it/s]\n"
          ]
        },
        {
          "name": "stdout",
          "output_type": "stream",
          "text": [
            "Epoch 5 elapsed: 3.056s\n",
            "\t \u001b[32mtrain_loss: 0.5492\u001b[0m\n"
          ]
        },
        {
          "name": "stderr",
          "output_type": "stream",
          "text": [
            "eval_pointwise: 100%|██████████| 18/18 [00:00<00:00, 750.00it/s]\n",
            "eval_listwise: 100%|██████████| 2399/2399 [00:01<00:00, 2386.52it/s]\n"
          ]
        },
        {
          "name": "stdout",
          "output_type": "stream",
          "text": [
            "\t eval log_loss: 0.6258\n",
            "\t eval roc_auc: 0.7026\n",
            "\t eval precision@10: 0.0175\n",
            "\t eval recall@10: 0.0363\n",
            "\t eval ndcg@10: 0.0782\n",
            "==============================\n",
            "With lr_decay, epoch 6 learning rate: 0.00024461178691126406\n"
          ]
        },
        {
          "name": "stderr",
          "output_type": "stream",
          "text": [
            "train: 100%|██████████| 4226/4226 [00:02<00:00, 1434.19it/s]\n"
          ]
        },
        {
          "name": "stdout",
          "output_type": "stream",
          "text": [
            "Epoch 6 elapsed: 2.948s\n",
            "\t \u001b[32mtrain_loss: 0.5351\u001b[0m\n"
          ]
        },
        {
          "name": "stderr",
          "output_type": "stream",
          "text": [
            "eval_pointwise: 100%|██████████| 18/18 [00:00<00:00, 727.39it/s]\n",
            "eval_listwise: 100%|██████████| 2399/2399 [00:01<00:00, 2370.60it/s]\n"
          ]
        },
        {
          "name": "stdout",
          "output_type": "stream",
          "text": [
            "\t eval log_loss: 0.6225\n",
            "\t eval roc_auc: 0.7078\n",
            "\t eval precision@10: 0.0178\n",
            "\t eval recall@10: 0.0371\n",
            "\t eval ndcg@10: 0.0813\n",
            "==============================\n",
            "With lr_decay, epoch 7 learning rate: 0.00023482732649426907\n"
          ]
        },
        {
          "name": "stderr",
          "output_type": "stream",
          "text": [
            "train: 100%|██████████| 4226/4226 [00:03<00:00, 1367.06it/s]\n"
          ]
        },
        {
          "name": "stdout",
          "output_type": "stream",
          "text": [
            "Epoch 7 elapsed: 3.093s\n",
            "\t \u001b[32mtrain_loss: 0.5233\u001b[0m\n"
          ]
        },
        {
          "name": "stderr",
          "output_type": "stream",
          "text": [
            "eval_pointwise: 100%|██████████| 18/18 [00:00<00:00, 738.03it/s]\n",
            "eval_listwise: 100%|██████████| 2399/2399 [00:01<00:00, 2189.10it/s]\n"
          ]
        },
        {
          "name": "stdout",
          "output_type": "stream",
          "text": [
            "\t eval log_loss: 0.6203\n",
            "\t eval roc_auc: 0.7112\n",
            "\t eval precision@10: 0.0183\n",
            "\t eval recall@10: 0.0376\n",
            "\t eval ndcg@10: 0.0815\n",
            "==============================\n",
            "With lr_decay, epoch 8 learning rate: 0.00022543422528542578\n"
          ]
        },
        {
          "name": "stderr",
          "output_type": "stream",
          "text": [
            "train: 100%|██████████| 4226/4226 [00:03<00:00, 1376.22it/s]\n"
          ]
        },
        {
          "name": "stdout",
          "output_type": "stream",
          "text": [
            "Epoch 8 elapsed: 3.073s\n",
            "\t \u001b[32mtrain_loss: 0.5137\u001b[0m\n"
          ]
        },
        {
          "name": "stderr",
          "output_type": "stream",
          "text": [
            "eval_pointwise: 100%|██████████| 18/18 [00:00<00:00, 808.65it/s]\n",
            "eval_listwise: 100%|██████████| 2399/2399 [00:00<00:00, 2536.50it/s]\n"
          ]
        },
        {
          "name": "stdout",
          "output_type": "stream",
          "text": [
            "\t eval log_loss: 0.6185\n",
            "\t eval roc_auc: 0.7142\n",
            "\t eval precision@10: 0.0178\n",
            "\t eval recall@10: 0.0369\n",
            "\t eval ndcg@10: 0.0802\n",
            "==============================\n",
            "With lr_decay, epoch 9 learning rate: 0.00021641685452777892\n"
          ]
        },
        {
          "name": "stderr",
          "output_type": "stream",
          "text": [
            "train: 100%|██████████| 4226/4226 [00:03<00:00, 1380.73it/s]\n"
          ]
        },
        {
          "name": "stdout",
          "output_type": "stream",
          "text": [
            "Epoch 9 elapsed: 3.063s\n",
            "\t \u001b[32mtrain_loss: 0.5041\u001b[0m\n"
          ]
        },
        {
          "name": "stderr",
          "output_type": "stream",
          "text": [
            "eval_pointwise: 100%|██████████| 18/18 [00:00<00:00, 770.35it/s]\n",
            "eval_listwise: 100%|██████████| 2399/2399 [00:01<00:00, 2353.52it/s]\n"
          ]
        },
        {
          "name": "stdout",
          "output_type": "stream",
          "text": [
            "\t eval log_loss: 0.6171\n",
            "\t eval roc_auc: 0.7168\n",
            "\t eval precision@10: 0.0183\n",
            "\t eval recall@10: 0.0376\n",
            "\t eval ndcg@10: 0.0834\n",
            "==============================\n",
            "With lr_decay, epoch 10 learning rate: 0.00020776016754098237\n"
          ]
        },
        {
          "name": "stderr",
          "output_type": "stream",
          "text": [
            "train: 100%|██████████| 4226/4226 [00:03<00:00, 1376.75it/s]\n"
          ]
        },
        {
          "name": "stdout",
          "output_type": "stream",
          "text": [
            "Epoch 10 elapsed: 3.071s\n",
            "\t \u001b[32mtrain_loss: 0.4958\u001b[0m\n"
          ]
        },
        {
          "name": "stderr",
          "output_type": "stream",
          "text": [
            "eval_pointwise: 100%|██████████| 18/18 [00:00<00:00, 744.69it/s]\n",
            "eval_listwise: 100%|██████████| 2399/2399 [00:01<00:00, 2008.19it/s]\n"
          ]
        },
        {
          "name": "stdout",
          "output_type": "stream",
          "text": [
            "\t eval log_loss: 0.6160\n",
            "\t eval roc_auc: 0.7191\n",
            "\t eval precision@10: 0.0185\n",
            "\t eval recall@10: 0.0380\n",
            "\t eval ndcg@10: 0.0833\n",
            "==============================\n",
            "With lr_decay, epoch 11 learning rate: 0.00019944975792896003\n"
          ]
        },
        {
          "name": "stderr",
          "output_type": "stream",
          "text": [
            "train: 100%|██████████| 4226/4226 [00:03<00:00, 1364.07it/s]\n"
          ]
        },
        {
          "name": "stdout",
          "output_type": "stream",
          "text": [
            "Epoch 11 elapsed: 3.100s\n",
            "\t \u001b[32mtrain_loss: 0.4875\u001b[0m\n"
          ]
        },
        {
          "name": "stderr",
          "output_type": "stream",
          "text": [
            "eval_pointwise: 100%|██████████| 18/18 [00:00<00:00, 730.46it/s]\n",
            "eval_listwise: 100%|██████████| 2399/2399 [00:00<00:00, 2504.93it/s]\n"
          ]
        },
        {
          "name": "stdout",
          "output_type": "stream",
          "text": [
            "\t eval log_loss: 0.6152\n",
            "\t eval roc_auc: 0.7211\n",
            "\t eval precision@10: 0.0185\n",
            "\t eval recall@10: 0.0379\n",
            "\t eval ndcg@10: 0.0842\n",
            "==============================\n",
            "With lr_decay, epoch 12 learning rate: 0.00019147175771649927\n"
          ]
        },
        {
          "name": "stderr",
          "output_type": "stream",
          "text": [
            "train: 100%|██████████| 4226/4226 [00:03<00:00, 1384.70it/s]\n"
          ]
        },
        {
          "name": "stdout",
          "output_type": "stream",
          "text": [
            "Epoch 12 elapsed: 3.054s\n",
            "\t \u001b[32mtrain_loss: 0.4794\u001b[0m\n"
          ]
        },
        {
          "name": "stderr",
          "output_type": "stream",
          "text": [
            "eval_pointwise: 100%|██████████| 18/18 [00:00<00:00, 728.72it/s]\n",
            "eval_listwise: 100%|██████████| 2399/2399 [00:00<00:00, 2474.25it/s]\n"
          ]
        },
        {
          "name": "stdout",
          "output_type": "stream",
          "text": [
            "\t eval log_loss: 0.6145\n",
            "\t eval roc_auc: 0.7229\n",
            "\t eval precision@10: 0.0187\n",
            "\t eval recall@10: 0.0384\n",
            "\t eval ndcg@10: 0.0849\n",
            "==============================\n",
            "With lr_decay, epoch 13 learning rate: 0.0001838128810049966\n"
          ]
        },
        {
          "name": "stderr",
          "output_type": "stream",
          "text": [
            "train: 100%|██████████| 4226/4226 [00:03<00:00, 1324.18it/s]\n"
          ]
        },
        {
          "name": "stdout",
          "output_type": "stream",
          "text": [
            "Epoch 13 elapsed: 3.193s\n",
            "\t \u001b[32mtrain_loss: 0.4716\u001b[0m\n"
          ]
        },
        {
          "name": "stderr",
          "output_type": "stream",
          "text": [
            "eval_pointwise: 100%|██████████| 18/18 [00:00<00:00, 717.96it/s]\n",
            "eval_listwise: 100%|██████████| 2399/2399 [00:00<00:00, 2462.75it/s]\n"
          ]
        },
        {
          "name": "stdout",
          "output_type": "stream",
          "text": [
            "\t eval log_loss: 0.6141\n",
            "\t eval roc_auc: 0.7246\n",
            "\t eval precision@10: 0.0190\n",
            "\t eval recall@10: 0.0391\n",
            "\t eval ndcg@10: 0.0862\n",
            "==============================\n",
            "With lr_decay, epoch 14 learning rate: 0.00017646038031671196\n"
          ]
        },
        {
          "name": "stderr",
          "output_type": "stream",
          "text": [
            "train: 100%|██████████| 4226/4226 [00:03<00:00, 1360.32it/s]\n"
          ]
        },
        {
          "name": "stdout",
          "output_type": "stream",
          "text": [
            "Epoch 14 elapsed: 3.108s\n",
            "\t \u001b[32mtrain_loss: 0.4645\u001b[0m\n"
          ]
        },
        {
          "name": "stderr",
          "output_type": "stream",
          "text": [
            "eval_pointwise: 100%|██████████| 18/18 [00:00<00:00, 734.37it/s]\n",
            "eval_listwise: 100%|██████████| 2399/2399 [00:00<00:00, 2441.67it/s]\n"
          ]
        },
        {
          "name": "stdout",
          "output_type": "stream",
          "text": [
            "\t eval log_loss: 0.6138\n",
            "\t eval roc_auc: 0.7261\n",
            "\t eval precision@10: 0.0188\n",
            "\t eval recall@10: 0.0391\n",
            "\t eval ndcg@10: 0.0858\n",
            "==============================\n",
            "With lr_decay, epoch 15 learning rate: 0.00016940194473136216\n"
          ]
        },
        {
          "name": "stderr",
          "output_type": "stream",
          "text": [
            "train: 100%|██████████| 4226/4226 [00:03<00:00, 1390.81it/s]\n"
          ]
        },
        {
          "name": "stdout",
          "output_type": "stream",
          "text": [
            "Epoch 15 elapsed: 3.041s\n",
            "\t \u001b[32mtrain_loss: 0.4575\u001b[0m\n"
          ]
        },
        {
          "name": "stderr",
          "output_type": "stream",
          "text": [
            "eval_pointwise: 100%|██████████| 18/18 [00:00<00:00, 724.26it/s]\n",
            "eval_listwise: 100%|██████████| 2399/2399 [00:01<00:00, 1673.58it/s]\n"
          ]
        },
        {
          "name": "stdout",
          "output_type": "stream",
          "text": [
            "\t eval log_loss: 0.6137\n",
            "\t eval roc_auc: 0.7275\n",
            "\t eval precision@10: 0.0187\n",
            "\t eval recall@10: 0.0392\n",
            "\t eval ndcg@10: 0.0859\n",
            "==============================\n"
          ]
        },
        {
          "name": "stderr",
          "output_type": "stream",
          "text": [
            "eval_pointwise: 100%|██████████| 18/18 [00:00<00:00, 358.04it/s]\n",
            "eval_listwise: 100%|██████████| 2378/2378 [00:01<00:00, 1795.94it/s]\n"
          ]
        },
        {
          "name": "stdout",
          "output_type": "stream",
          "text": [
            "-------- Started training: SVD --------\n",
            "Finale Daten: 131535 Interaktionen \n",
            "CSV erfolgreich geladen:\n",
            "                                   user  label    item\n",
            "0  8ba9549e-2542-49a6-8517-586e3926f939    1.0  415374\n",
            "1  8ba9549e-2542-49a6-8517-586e3926f939    1.0  352281\n",
            "2  8ba9549e-2542-49a6-8517-586e3926f939    1.0  198802\n",
            "3  8ba9549e-2542-49a6-8517-586e3926f939    1.0   38852\n",
            "4  8ba9549e-2542-49a6-8517-586e3926f939    1.0   51836\n",
            "500 neue Bewertungen hinzugefügt.\n",
            "n_users: 2511, n_items: 4525, data density: 0.9296 %\n",
            "Training start time: \u001b[35m2025-04-02 17:24:34\u001b[0m\n",
            "With lr_decay, epoch 1 learning rate: 0.0010000000474974513\n"
          ]
        },
        {
          "name": "stderr",
          "output_type": "stream",
          "text": [
            "train: 100%|██████████| 2515/2515 [00:03<00:00, 741.15it/s]\n"
          ]
        },
        {
          "name": "stdout",
          "output_type": "stream",
          "text": [
            "Epoch 1 elapsed: 3.395s\n",
            "\t \u001b[32mtrain_loss: 0.5201\u001b[0m\n"
          ]
        },
        {
          "name": "stderr",
          "output_type": "stream",
          "text": [
            "eval_pointwise: 100%|██████████| 10/10 [00:00<00:00, 412.11it/s]\n",
            "eval_listwise: 100%|██████████| 2399/2399 [00:01<00:00, 1513.62it/s]\n"
          ]
        },
        {
          "name": "stdout",
          "output_type": "stream",
          "text": [
            "\t eval log_loss: 0.4385\n",
            "\t eval roc_auc: 0.6401\n",
            "\t eval precision@10: 0.0160\n",
            "\t eval recall@10: 0.0326\n",
            "\t eval ndcg@10: 0.0720\n",
            "==============================\n",
            "With lr_decay, epoch 2 learning rate: 0.0009600000339560211\n"
          ]
        },
        {
          "name": "stderr",
          "output_type": "stream",
          "text": [
            "train: 100%|██████████| 2515/2515 [00:03<00:00, 638.94it/s]\n"
          ]
        },
        {
          "name": "stdout",
          "output_type": "stream",
          "text": [
            "Epoch 2 elapsed: 3.938s\n",
            "\t \u001b[32mtrain_loss: 0.4333\u001b[0m\n"
          ]
        },
        {
          "name": "stderr",
          "output_type": "stream",
          "text": [
            "eval_pointwise: 100%|██████████| 10/10 [00:00<00:00, 322.43it/s]\n",
            "eval_listwise: 100%|██████████| 2399/2399 [00:02<00:00, 938.76it/s] \n"
          ]
        },
        {
          "name": "stdout",
          "output_type": "stream",
          "text": [
            "\t eval log_loss: 0.4296\n",
            "\t eval roc_auc: 0.6572\n",
            "\t eval precision@10: 0.0168\n",
            "\t eval recall@10: 0.0369\n",
            "\t eval ndcg@10: 0.0748\n",
            "==============================\n",
            "With lr_decay, epoch 3 learning rate: 0.0009216000325977802\n"
          ]
        },
        {
          "name": "stderr",
          "output_type": "stream",
          "text": [
            "train: 100%|██████████| 2515/2515 [00:03<00:00, 727.16it/s]\n"
          ]
        },
        {
          "name": "stdout",
          "output_type": "stream",
          "text": [
            "Epoch 3 elapsed: 3.461s\n",
            "\t \u001b[32mtrain_loss: 0.4244\u001b[0m\n"
          ]
        },
        {
          "name": "stderr",
          "output_type": "stream",
          "text": [
            "eval_pointwise: 100%|██████████| 10/10 [00:00<00:00, 373.65it/s]\n",
            "eval_listwise: 100%|██████████| 2399/2399 [00:00<00:00, 4290.42it/s]\n"
          ]
        },
        {
          "name": "stdout",
          "output_type": "stream",
          "text": [
            "\t eval log_loss: 0.4240\n",
            "\t eval roc_auc: 0.6715\n",
            "\t eval precision@10: 0.0169\n",
            "\t eval recall@10: 0.0341\n",
            "\t eval ndcg@10: 0.0704\n",
            "==============================\n",
            "With lr_decay, epoch 4 learning rate: 0.000884735956788063\n"
          ]
        },
        {
          "name": "stderr",
          "output_type": "stream",
          "text": [
            "train: 100%|██████████| 2515/2515 [00:03<00:00, 709.80it/s]\n"
          ]
        },
        {
          "name": "stdout",
          "output_type": "stream",
          "text": [
            "Epoch 4 elapsed: 3.545s\n",
            "\t \u001b[32mtrain_loss: 0.4185\u001b[0m\n"
          ]
        },
        {
          "name": "stderr",
          "output_type": "stream",
          "text": [
            "eval_pointwise: 100%|██████████| 10/10 [00:00<00:00, 446.01it/s]\n",
            "eval_listwise: 100%|██████████| 2399/2399 [00:00<00:00, 4557.81it/s]\n"
          ]
        },
        {
          "name": "stdout",
          "output_type": "stream",
          "text": [
            "\t eval log_loss: 0.4200\n",
            "\t eval roc_auc: 0.6834\n",
            "\t eval precision@10: 0.0173\n",
            "\t eval recall@10: 0.0364\n",
            "\t eval ndcg@10: 0.0773\n",
            "==============================\n",
            "With lr_decay, epoch 5 learning rate: 0.0008493465138599277\n"
          ]
        },
        {
          "name": "stderr",
          "output_type": "stream",
          "text": [
            "train: 100%|██████████| 2515/2515 [00:03<00:00, 715.50it/s]\n"
          ]
        },
        {
          "name": "stdout",
          "output_type": "stream",
          "text": [
            "Epoch 5 elapsed: 3.518s\n",
            "\t \u001b[32mtrain_loss: 0.4148\u001b[0m\n"
          ]
        },
        {
          "name": "stderr",
          "output_type": "stream",
          "text": [
            "eval_pointwise: 100%|██████████| 10/10 [00:00<00:00, 444.80it/s]\n",
            "eval_listwise: 100%|██████████| 2399/2399 [00:00<00:00, 4879.44it/s]\n"
          ]
        },
        {
          "name": "stdout",
          "output_type": "stream",
          "text": [
            "\t eval log_loss: 0.4174\n",
            "\t eval roc_auc: 0.6922\n",
            "\t eval precision@10: 0.0170\n",
            "\t eval recall@10: 0.0356\n",
            "\t eval ndcg@10: 0.0754\n",
            "==============================\n",
            "With lr_decay, epoch 6 learning rate: 0.0008153726230375469\n"
          ]
        },
        {
          "name": "stderr",
          "output_type": "stream",
          "text": [
            "train: 100%|██████████| 2515/2515 [00:03<00:00, 705.34it/s]\n"
          ]
        },
        {
          "name": "stdout",
          "output_type": "stream",
          "text": [
            "Epoch 6 elapsed: 3.567s\n",
            "\t \u001b[32mtrain_loss: 0.4124\u001b[0m\n"
          ]
        },
        {
          "name": "stderr",
          "output_type": "stream",
          "text": [
            "eval_pointwise: 100%|██████████| 10/10 [00:00<00:00, 411.46it/s]\n",
            "eval_listwise: 100%|██████████| 2399/2399 [00:00<00:00, 4433.37it/s]\n"
          ]
        },
        {
          "name": "stdout",
          "output_type": "stream",
          "text": [
            "\t eval log_loss: 0.4155\n",
            "\t eval roc_auc: 0.6972\n",
            "\t eval precision@10: 0.0174\n",
            "\t eval recall@10: 0.0370\n",
            "\t eval ndcg@10: 0.0817\n",
            "==============================\n",
            "With lr_decay, epoch 7 learning rate: 0.0007827577646821737\n"
          ]
        },
        {
          "name": "stderr",
          "output_type": "stream",
          "text": [
            "train: 100%|██████████| 2515/2515 [00:03<00:00, 698.03it/s]\n"
          ]
        },
        {
          "name": "stdout",
          "output_type": "stream",
          "text": [
            "Epoch 7 elapsed: 3.606s\n",
            "\t \u001b[32mtrain_loss: 0.4104\u001b[0m\n"
          ]
        },
        {
          "name": "stderr",
          "output_type": "stream",
          "text": [
            "eval_pointwise: 100%|██████████| 10/10 [00:00<00:00, 416.10it/s]\n",
            "eval_listwise: 100%|██████████| 2399/2399 [00:00<00:00, 4555.66it/s]\n"
          ]
        },
        {
          "name": "stdout",
          "output_type": "stream",
          "text": [
            "\t eval log_loss: 0.4148\n",
            "\t eval roc_auc: 0.6999\n",
            "\t eval precision@10: 0.0176\n",
            "\t eval recall@10: 0.0363\n",
            "\t eval ndcg@10: 0.0808\n",
            "==============================\n",
            "With lr_decay, epoch 8 learning rate: 0.0007514473982155323\n"
          ]
        },
        {
          "name": "stderr",
          "output_type": "stream",
          "text": [
            "train: 100%|██████████| 2515/2515 [00:03<00:00, 707.19it/s]\n"
          ]
        },
        {
          "name": "stdout",
          "output_type": "stream",
          "text": [
            "Epoch 8 elapsed: 3.559s\n",
            "\t \u001b[32mtrain_loss: 0.4093\u001b[0m\n"
          ]
        },
        {
          "name": "stderr",
          "output_type": "stream",
          "text": [
            "eval_pointwise: 100%|██████████| 10/10 [00:00<00:00, 405.40it/s]\n",
            "eval_listwise: 100%|██████████| 2399/2399 [00:00<00:00, 4844.52it/s]\n"
          ]
        },
        {
          "name": "stdout",
          "output_type": "stream",
          "text": [
            "\t eval log_loss: 0.4140\n",
            "\t eval roc_auc: 0.7025\n",
            "\t eval precision@10: 0.0175\n",
            "\t eval recall@10: 0.0365\n",
            "\t eval ndcg@10: 0.0780\n",
            "==============================\n",
            "With lr_decay, epoch 9 learning rate: 0.000721389485988766\n"
          ]
        },
        {
          "name": "stderr",
          "output_type": "stream",
          "text": [
            "train: 100%|██████████| 2515/2515 [00:03<00:00, 711.72it/s]\n"
          ]
        },
        {
          "name": "stdout",
          "output_type": "stream",
          "text": [
            "Epoch 9 elapsed: 3.536s\n",
            "\t \u001b[32mtrain_loss: 0.4078\u001b[0m\n"
          ]
        },
        {
          "name": "stderr",
          "output_type": "stream",
          "text": [
            "eval_pointwise: 100%|██████████| 10/10 [00:00<00:00, 405.81it/s]\n",
            "eval_listwise: 100%|██████████| 2399/2399 [00:00<00:00, 4872.31it/s]\n"
          ]
        },
        {
          "name": "stdout",
          "output_type": "stream",
          "text": [
            "\t eval log_loss: 0.4132\n",
            "\t eval roc_auc: 0.7048\n",
            "\t eval precision@10: 0.0178\n",
            "\t eval recall@10: 0.0367\n",
            "\t eval ndcg@10: 0.0800\n",
            "==============================\n",
            "With lr_decay, epoch 10 learning rate: 0.0006925339112058282\n"
          ]
        },
        {
          "name": "stderr",
          "output_type": "stream",
          "text": [
            "train: 100%|██████████| 2515/2515 [00:03<00:00, 691.95it/s]\n"
          ]
        },
        {
          "name": "stdout",
          "output_type": "stream",
          "text": [
            "Epoch 10 elapsed: 3.636s\n",
            "\t \u001b[32mtrain_loss: 0.407\u001b[0m\n"
          ]
        },
        {
          "name": "stderr",
          "output_type": "stream",
          "text": [
            "eval_pointwise: 100%|██████████| 10/10 [00:00<00:00, 448.09it/s]\n",
            "eval_listwise: 100%|██████████| 2399/2399 [00:00<00:00, 4569.78it/s]\n"
          ]
        },
        {
          "name": "stdout",
          "output_type": "stream",
          "text": [
            "\t eval log_loss: 0.4125\n",
            "\t eval roc_auc: 0.7081\n",
            "\t eval precision@10: 0.0176\n",
            "\t eval recall@10: 0.0366\n",
            "\t eval ndcg@10: 0.0784\n",
            "==============================\n"
          ]
        },
        {
          "name": "stderr",
          "output_type": "stream",
          "text": [
            "eval_pointwise: 100%|██████████| 10/10 [00:00<00:00, 286.90it/s]\n",
            "eval_listwise: 100%|██████████| 2378/2378 [00:00<00:00, 4536.92it/s]\n"
          ]
        },
        {
          "name": "stdout",
          "output_type": "stream",
          "text": [
            "-------- Started training: SVDpp --------\n",
            "Finale Daten: 131535 Interaktionen \n",
            "CSV erfolgreich geladen:\n",
            "                                   user  label    item\n",
            "0  8ba9549e-2542-49a6-8517-586e3926f939    1.0  415374\n",
            "1  8ba9549e-2542-49a6-8517-586e3926f939    1.0  352281\n",
            "2  8ba9549e-2542-49a6-8517-586e3926f939    1.0  198802\n",
            "3  8ba9549e-2542-49a6-8517-586e3926f939    1.0   38852\n",
            "4  8ba9549e-2542-49a6-8517-586e3926f939    1.0   51836\n",
            "500 neue Bewertungen hinzugefügt.\n",
            "n_users: 2511, n_items: 4525, data density: 0.9296 %\n",
            "Training start time: \u001b[35m2025-04-02 17:25:24\u001b[0m\n"
          ]
        },
        {
          "name": "stderr",
          "output_type": "stream",
          "text": [
            "train: 100%|██████████| 4593/4593 [00:25<00:00, 177.05it/s]\n"
          ]
        },
        {
          "name": "stdout",
          "output_type": "stream",
          "text": [
            "Epoch 1 elapsed: 25.942s\n",
            "\t \u001b[32mtrain_loss: 0.3874\u001b[0m\n"
          ]
        },
        {
          "name": "stderr",
          "output_type": "stream",
          "text": [
            "eval_pointwise: 100%|██████████| 18/18 [00:00<00:00, 701.13it/s]\n",
            "eval_listwise: 100%|██████████| 2399/2399 [00:00<00:00, 4988.05it/s]\n"
          ]
        },
        {
          "name": "stdout",
          "output_type": "stream",
          "text": [
            "\t eval log_loss: 0.2890\n",
            "\t eval roc_auc: 0.6623\n",
            "\t eval precision@10: 0.0153\n",
            "\t eval recall@10: 0.0324\n",
            "\t eval ndcg@10: 0.0677\n",
            "==============================\n"
          ]
        },
        {
          "name": "stderr",
          "output_type": "stream",
          "text": [
            "train: 100%|██████████| 4593/4593 [00:25<00:00, 177.69it/s]\n"
          ]
        },
        {
          "name": "stdout",
          "output_type": "stream",
          "text": [
            "Epoch 2 elapsed: 25.850s\n",
            "\t \u001b[32mtrain_loss: 0.2862\u001b[0m\n"
          ]
        },
        {
          "name": "stderr",
          "output_type": "stream",
          "text": [
            "eval_pointwise: 100%|██████████| 18/18 [00:00<00:00, 711.50it/s]\n",
            "eval_listwise: 100%|██████████| 2399/2399 [00:00<00:00, 5241.84it/s]\n"
          ]
        },
        {
          "name": "stdout",
          "output_type": "stream",
          "text": [
            "\t eval log_loss: 0.2872\n",
            "\t eval roc_auc: 0.6684\n",
            "\t eval precision@10: 0.0158\n",
            "\t eval recall@10: 0.0335\n",
            "\t eval ndcg@10: 0.0721\n",
            "==============================\n"
          ]
        },
        {
          "name": "stderr",
          "output_type": "stream",
          "text": [
            "train: 100%|██████████| 4593/4593 [00:25<00:00, 177.81it/s]\n"
          ]
        },
        {
          "name": "stdout",
          "output_type": "stream",
          "text": [
            "Epoch 3 elapsed: 25.833s\n",
            "\t \u001b[32mtrain_loss: 0.2849\u001b[0m\n"
          ]
        },
        {
          "name": "stderr",
          "output_type": "stream",
          "text": [
            "eval_pointwise: 100%|██████████| 18/18 [00:00<00:00, 691.82it/s]\n",
            "eval_listwise: 100%|██████████| 2399/2399 [00:00<00:00, 5064.35it/s]\n"
          ]
        },
        {
          "name": "stdout",
          "output_type": "stream",
          "text": [
            "\t eval log_loss: 0.2863\n",
            "\t eval roc_auc: 0.6706\n",
            "\t eval precision@10: 0.0158\n",
            "\t eval recall@10: 0.0349\n",
            "\t eval ndcg@10: 0.0728\n",
            "==============================\n"
          ]
        },
        {
          "name": "stderr",
          "output_type": "stream",
          "text": [
            "train: 100%|██████████| 4593/4593 [00:25<00:00, 178.71it/s]\n"
          ]
        },
        {
          "name": "stdout",
          "output_type": "stream",
          "text": [
            "Epoch 4 elapsed: 25.702s\n",
            "\t \u001b[32mtrain_loss: 0.2839\u001b[0m\n"
          ]
        },
        {
          "name": "stderr",
          "output_type": "stream",
          "text": [
            "eval_pointwise: 100%|██████████| 18/18 [00:00<00:00, 635.80it/s]\n",
            "eval_listwise: 100%|██████████| 2399/2399 [00:00<00:00, 4897.19it/s]\n"
          ]
        },
        {
          "name": "stdout",
          "output_type": "stream",
          "text": [
            "\t eval log_loss: 0.2853\n",
            "\t eval roc_auc: 0.6743\n",
            "\t eval precision@10: 0.0164\n",
            "\t eval recall@10: 0.0347\n",
            "\t eval ndcg@10: 0.0701\n",
            "==============================\n"
          ]
        },
        {
          "name": "stderr",
          "output_type": "stream",
          "text": [
            "train: 100%|██████████| 4593/4593 [00:25<00:00, 177.53it/s]\n"
          ]
        },
        {
          "name": "stdout",
          "output_type": "stream",
          "text": [
            "Epoch 5 elapsed: 25.875s\n",
            "\t \u001b[32mtrain_loss: 0.2827\u001b[0m\n"
          ]
        },
        {
          "name": "stderr",
          "output_type": "stream",
          "text": [
            "eval_pointwise: 100%|██████████| 18/18 [00:00<00:00, 732.87it/s]\n",
            "eval_listwise: 100%|██████████| 2399/2399 [00:00<00:00, 5615.06it/s]\n"
          ]
        },
        {
          "name": "stdout",
          "output_type": "stream",
          "text": [
            "\t eval log_loss: 0.2842\n",
            "\t eval roc_auc: 0.6791\n",
            "\t eval precision@10: 0.0163\n",
            "\t eval recall@10: 0.0339\n",
            "\t eval ndcg@10: 0.0715\n",
            "==============================\n"
          ]
        },
        {
          "name": "stderr",
          "output_type": "stream",
          "text": [
            "train: 100%|██████████| 4593/4593 [00:25<00:00, 179.41it/s]\n"
          ]
        },
        {
          "name": "stdout",
          "output_type": "stream",
          "text": [
            "Epoch 6 elapsed: 25.602s\n",
            "\t \u001b[32mtrain_loss: 0.2815\u001b[0m\n"
          ]
        },
        {
          "name": "stderr",
          "output_type": "stream",
          "text": [
            "eval_pointwise: 100%|██████████| 18/18 [00:00<00:00, 761.52it/s]\n",
            "eval_listwise: 100%|██████████| 2399/2399 [00:00<00:00, 5086.74it/s]\n"
          ]
        },
        {
          "name": "stdout",
          "output_type": "stream",
          "text": [
            "\t eval log_loss: 0.2832\n",
            "\t eval roc_auc: 0.6835\n",
            "\t eval precision@10: 0.0171\n",
            "\t eval recall@10: 0.0373\n",
            "\t eval ndcg@10: 0.0762\n",
            "==============================\n"
          ]
        },
        {
          "name": "stderr",
          "output_type": "stream",
          "text": [
            "train: 100%|██████████| 4593/4593 [00:25<00:00, 177.99it/s]\n"
          ]
        },
        {
          "name": "stdout",
          "output_type": "stream",
          "text": [
            "Epoch 7 elapsed: 25.807s\n",
            "\t \u001b[32mtrain_loss: 0.2803\u001b[0m\n"
          ]
        },
        {
          "name": "stderr",
          "output_type": "stream",
          "text": [
            "eval_pointwise: 100%|██████████| 18/18 [00:00<00:00, 704.97it/s]\n",
            "eval_listwise: 100%|██████████| 2399/2399 [00:00<00:00, 2568.47it/s]\n"
          ]
        },
        {
          "name": "stdout",
          "output_type": "stream",
          "text": [
            "\t eval log_loss: 0.2825\n",
            "\t eval roc_auc: 0.6878\n",
            "\t eval precision@10: 0.0172\n",
            "\t eval recall@10: 0.0365\n",
            "\t eval ndcg@10: 0.0736\n",
            "==============================\n"
          ]
        },
        {
          "name": "stderr",
          "output_type": "stream",
          "text": [
            "train: 100%|██████████| 4593/4593 [00:27<00:00, 168.68it/s]\n"
          ]
        },
        {
          "name": "stdout",
          "output_type": "stream",
          "text": [
            "Epoch 8 elapsed: 27.231s\n",
            "\t \u001b[32mtrain_loss: 0.2793\u001b[0m\n"
          ]
        },
        {
          "name": "stderr",
          "output_type": "stream",
          "text": [
            "eval_pointwise: 100%|██████████| 18/18 [00:00<00:00, 501.94it/s]\n",
            "eval_listwise: 100%|██████████| 2399/2399 [00:02<00:00, 1196.71it/s]\n"
          ]
        },
        {
          "name": "stdout",
          "output_type": "stream",
          "text": [
            "\t eval log_loss: 0.2817\n",
            "\t eval roc_auc: 0.6905\n",
            "\t eval precision@10: 0.0168\n",
            "\t eval recall@10: 0.0345\n",
            "\t eval ndcg@10: 0.0741\n",
            "==============================\n"
          ]
        },
        {
          "name": "stderr",
          "output_type": "stream",
          "text": [
            "train: 100%|██████████| 4593/4593 [00:26<00:00, 173.11it/s]\n"
          ]
        },
        {
          "name": "stdout",
          "output_type": "stream",
          "text": [
            "Epoch 9 elapsed: 26.560s\n",
            "\t \u001b[32mtrain_loss: 0.2786\u001b[0m\n"
          ]
        },
        {
          "name": "stderr",
          "output_type": "stream",
          "text": [
            "eval_pointwise: 100%|██████████| 18/18 [00:00<00:00, 433.25it/s]\n",
            "eval_listwise: 100%|██████████| 2399/2399 [00:00<00:00, 2640.83it/s]\n"
          ]
        },
        {
          "name": "stdout",
          "output_type": "stream",
          "text": [
            "\t eval log_loss: 0.2814\n",
            "\t eval roc_auc: 0.6922\n",
            "\t eval precision@10: 0.0164\n",
            "\t eval recall@10: 0.0346\n",
            "\t eval ndcg@10: 0.0752\n",
            "==============================\n"
          ]
        },
        {
          "name": "stderr",
          "output_type": "stream",
          "text": [
            "train: 100%|██████████| 4593/4593 [00:26<00:00, 170.36it/s]\n"
          ]
        },
        {
          "name": "stdout",
          "output_type": "stream",
          "text": [
            "Epoch 10 elapsed: 26.962s\n",
            "\t \u001b[32mtrain_loss: 0.2783\u001b[0m\n"
          ]
        },
        {
          "name": "stderr",
          "output_type": "stream",
          "text": [
            "eval_pointwise: 100%|██████████| 18/18 [00:00<00:00, 518.75it/s]\n",
            "eval_listwise: 100%|██████████| 2399/2399 [00:00<00:00, 2784.19it/s]\n"
          ]
        },
        {
          "name": "stdout",
          "output_type": "stream",
          "text": [
            "\t eval log_loss: 0.2811\n",
            "\t eval roc_auc: 0.6936\n",
            "\t eval precision@10: 0.0180\n",
            "\t eval recall@10: 0.0365\n",
            "\t eval ndcg@10: 0.0759\n",
            "==============================\n"
          ]
        },
        {
          "name": "stderr",
          "output_type": "stream",
          "text": [
            "eval_pointwise: 100%|██████████| 18/18 [00:00<00:00, 544.42it/s]\n",
            "eval_listwise: 100%|██████████| 2378/2378 [00:00<00:00, 2619.72it/s]\n"
          ]
        },
        {
          "name": "stdout",
          "output_type": "stream",
          "text": [
            "-------- Started training: ALS --------\n",
            "Finale Daten: 131535 Interaktionen \n",
            "CSV erfolgreich geladen:\n",
            "                                   user  label    item\n",
            "0  8ba9549e-2542-49a6-8517-586e3926f939    1.0  415374\n",
            "1  8ba9549e-2542-49a6-8517-586e3926f939    1.0  352281\n",
            "2  8ba9549e-2542-49a6-8517-586e3926f939    1.0  198802\n",
            "3  8ba9549e-2542-49a6-8517-586e3926f939    1.0   38852\n",
            "4  8ba9549e-2542-49a6-8517-586e3926f939    1.0   51836\n",
            "500 neue Bewertungen hinzugefügt.\n",
            "n_users: 2511, n_items: 4525, data density: 0.9296 %\n",
            "Training start time: \u001b[35m2025-04-02 17:30:03\u001b[0m\n",
            "Epoch 1 elapsed: 0.045s\n"
          ]
        },
        {
          "name": "stderr",
          "output_type": "stream",
          "text": [
            "eval_pointwise: 100%|██████████| 4/4 [00:00<00:00, 892.50it/s]\n",
            "eval_listwise: 100%|██████████| 2399/2399 [00:00<00:00, 3731.53it/s]\n"
          ]
        },
        {
          "name": "stdout",
          "output_type": "stream",
          "text": [
            "\t eval log_loss: 0.6911\n",
            "\t eval roc_auc: 0.5404\n",
            "\t eval precision@10: 0.0065\n",
            "\t eval recall@10: 0.0127\n",
            "\t eval ndcg@10: 0.0299\n",
            "==============================\n",
            "Epoch 2 elapsed: 0.054s\n"
          ]
        },
        {
          "name": "stderr",
          "output_type": "stream",
          "text": [
            "eval_pointwise: 100%|██████████| 4/4 [00:00<00:00, 689.06it/s]\n",
            "eval_listwise: 100%|██████████| 2399/2399 [00:00<00:00, 3469.42it/s]\n"
          ]
        },
        {
          "name": "stdout",
          "output_type": "stream",
          "text": [
            "\t eval log_loss: 0.6801\n",
            "\t eval roc_auc: 0.6160\n",
            "\t eval precision@10: 0.0100\n",
            "\t eval recall@10: 0.0223\n",
            "\t eval ndcg@10: 0.0468\n",
            "==============================\n",
            "Epoch 3 elapsed: 0.064s\n"
          ]
        },
        {
          "name": "stderr",
          "output_type": "stream",
          "text": [
            "eval_pointwise: 100%|██████████| 4/4 [00:00<00:00, 1201.55it/s]\n",
            "eval_listwise: 100%|██████████| 2399/2399 [00:00<00:00, 3622.99it/s]\n"
          ]
        },
        {
          "name": "stdout",
          "output_type": "stream",
          "text": [
            "\t eval log_loss: 0.6763\n",
            "\t eval roc_auc: 0.6368\n",
            "\t eval precision@10: 0.0118\n",
            "\t eval recall@10: 0.0257\n",
            "\t eval ndcg@10: 0.0546\n",
            "==============================\n",
            "Epoch 4 elapsed: 0.058s\n"
          ]
        },
        {
          "name": "stderr",
          "output_type": "stream",
          "text": [
            "eval_pointwise: 100%|██████████| 4/4 [00:00<00:00, 721.26it/s]\n",
            "eval_listwise: 100%|██████████| 2399/2399 [00:00<00:00, 3341.12it/s]\n"
          ]
        },
        {
          "name": "stdout",
          "output_type": "stream",
          "text": [
            "\t eval log_loss: 0.6744\n",
            "\t eval roc_auc: 0.6462\n",
            "\t eval precision@10: 0.0126\n",
            "\t eval recall@10: 0.0272\n",
            "\t eval ndcg@10: 0.0588\n",
            "==============================\n",
            "Epoch 5 elapsed: 0.070s\n"
          ]
        },
        {
          "name": "stderr",
          "output_type": "stream",
          "text": [
            "eval_pointwise: 100%|██████████| 4/4 [00:00<00:00, 540.40it/s]\n",
            "eval_listwise: 100%|██████████| 2399/2399 [00:00<00:00, 3158.42it/s]\n"
          ]
        },
        {
          "name": "stdout",
          "output_type": "stream",
          "text": [
            "\t eval log_loss: 0.6734\n",
            "\t eval roc_auc: 0.6510\n",
            "\t eval precision@10: 0.0130\n",
            "\t eval recall@10: 0.0290\n",
            "\t eval ndcg@10: 0.0596\n",
            "==============================\n",
            "Epoch 6 elapsed: 0.048s\n"
          ]
        },
        {
          "name": "stderr",
          "output_type": "stream",
          "text": [
            "eval_pointwise: 100%|██████████| 4/4 [00:00<00:00, 1114.54it/s]\n",
            "eval_listwise: 100%|██████████| 2399/2399 [00:03<00:00, 727.03it/s]\n"
          ]
        },
        {
          "name": "stdout",
          "output_type": "stream",
          "text": [
            "\t eval log_loss: 0.6728\n",
            "\t eval roc_auc: 0.6537\n",
            "\t eval precision@10: 0.0131\n",
            "\t eval recall@10: 0.0291\n",
            "\t eval ndcg@10: 0.0608\n",
            "==============================\n",
            "Epoch 7 elapsed: 0.083s\n"
          ]
        },
        {
          "name": "stderr",
          "output_type": "stream",
          "text": [
            "eval_pointwise: 100%|██████████| 4/4 [00:00<00:00, 466.27it/s]\n",
            "eval_listwise: 100%|██████████| 2399/2399 [00:00<00:00, 4097.30it/s]\n"
          ]
        },
        {
          "name": "stdout",
          "output_type": "stream",
          "text": [
            "\t eval log_loss: 0.6725\n",
            "\t eval roc_auc: 0.6554\n",
            "\t eval precision@10: 0.0138\n",
            "\t eval recall@10: 0.0301\n",
            "\t eval ndcg@10: 0.0631\n",
            "==============================\n",
            "Epoch 8 elapsed: 0.058s\n"
          ]
        },
        {
          "name": "stderr",
          "output_type": "stream",
          "text": [
            "eval_pointwise: 100%|██████████| 4/4 [00:00<00:00, 723.34it/s]\n",
            "eval_listwise: 100%|██████████| 2399/2399 [00:00<00:00, 2956.87it/s]\n"
          ]
        },
        {
          "name": "stdout",
          "output_type": "stream",
          "text": [
            "\t eval log_loss: 0.6722\n",
            "\t eval roc_auc: 0.6565\n",
            "\t eval precision@10: 0.0138\n",
            "\t eval recall@10: 0.0306\n",
            "\t eval ndcg@10: 0.0644\n",
            "==============================\n",
            "Epoch 9 elapsed: 0.068s\n"
          ]
        },
        {
          "name": "stderr",
          "output_type": "stream",
          "text": [
            "eval_pointwise: 100%|██████████| 4/4 [00:00<00:00, 576.04it/s]\n",
            "eval_listwise: 100%|██████████| 2399/2399 [00:00<00:00, 3022.05it/s]\n"
          ]
        },
        {
          "name": "stdout",
          "output_type": "stream",
          "text": [
            "\t eval log_loss: 0.6721\n",
            "\t eval roc_auc: 0.6573\n",
            "\t eval precision@10: 0.0135\n",
            "\t eval recall@10: 0.0288\n",
            "\t eval ndcg@10: 0.0630\n",
            "==============================\n",
            "Epoch 10 elapsed: 0.073s\n"
          ]
        },
        {
          "name": "stderr",
          "output_type": "stream",
          "text": [
            "eval_pointwise: 100%|██████████| 4/4 [00:00<00:00, 483.73it/s]\n",
            "eval_listwise: 100%|██████████| 2399/2399 [00:00<00:00, 3572.18it/s]\n"
          ]
        },
        {
          "name": "stdout",
          "output_type": "stream",
          "text": [
            "\t eval log_loss: 0.6719\n",
            "\t eval roc_auc: 0.6579\n",
            "\t eval precision@10: 0.0138\n",
            "\t eval recall@10: 0.0296\n",
            "\t eval ndcg@10: 0.0636\n",
            "==============================\n",
            "Epoch 11 elapsed: 0.062s\n"
          ]
        },
        {
          "name": "stderr",
          "output_type": "stream",
          "text": [
            "eval_pointwise: 100%|██████████| 4/4 [00:00<00:00, 1394.15it/s]\n",
            "eval_listwise: 100%|██████████| 2399/2399 [00:00<00:00, 4027.49it/s]\n"
          ]
        },
        {
          "name": "stdout",
          "output_type": "stream",
          "text": [
            "\t eval log_loss: 0.6718\n",
            "\t eval roc_auc: 0.6583\n",
            "\t eval precision@10: 0.0137\n",
            "\t eval recall@10: 0.0285\n",
            "\t eval ndcg@10: 0.0635\n",
            "==============================\n",
            "Epoch 12 elapsed: 0.070s\n"
          ]
        },
        {
          "name": "stderr",
          "output_type": "stream",
          "text": [
            "eval_pointwise: 100%|██████████| 4/4 [00:00<00:00, 446.93it/s]\n",
            "eval_listwise: 100%|██████████| 2399/2399 [00:00<00:00, 3878.23it/s]\n"
          ]
        },
        {
          "name": "stdout",
          "output_type": "stream",
          "text": [
            "\t eval log_loss: 0.6717\n",
            "\t eval roc_auc: 0.6587\n",
            "\t eval precision@10: 0.0138\n",
            "\t eval recall@10: 0.0287\n",
            "\t eval ndcg@10: 0.0641\n",
            "==============================\n",
            "Epoch 13 elapsed: 0.066s\n"
          ]
        },
        {
          "name": "stderr",
          "output_type": "stream",
          "text": [
            "eval_pointwise: 100%|██████████| 4/4 [00:00<00:00, 502.37it/s]\n",
            "eval_listwise: 100%|██████████| 2399/2399 [00:00<00:00, 2988.69it/s]\n"
          ]
        },
        {
          "name": "stdout",
          "output_type": "stream",
          "text": [
            "\t eval log_loss: 0.6716\n",
            "\t eval roc_auc: 0.6591\n",
            "\t eval precision@10: 0.0139\n",
            "\t eval recall@10: 0.0291\n",
            "\t eval ndcg@10: 0.0637\n",
            "==============================\n",
            "Epoch 14 elapsed: 0.067s\n"
          ]
        },
        {
          "name": "stderr",
          "output_type": "stream",
          "text": [
            "eval_pointwise: 100%|██████████| 4/4 [00:00<00:00, 668.65it/s]\n",
            "eval_listwise: 100%|██████████| 2399/2399 [00:00<00:00, 3506.86it/s]\n"
          ]
        },
        {
          "name": "stdout",
          "output_type": "stream",
          "text": [
            "\t eval log_loss: 0.6715\n",
            "\t eval roc_auc: 0.6593\n",
            "\t eval precision@10: 0.0142\n",
            "\t eval recall@10: 0.0298\n",
            "\t eval ndcg@10: 0.0636\n",
            "==============================\n",
            "Epoch 15 elapsed: 0.071s\n"
          ]
        },
        {
          "name": "stderr",
          "output_type": "stream",
          "text": [
            "eval_pointwise: 100%|██████████| 4/4 [00:00<00:00, 600.52it/s]\n",
            "eval_listwise: 100%|██████████| 2399/2399 [00:02<00:00, 1008.62it/s]\n"
          ]
        },
        {
          "name": "stdout",
          "output_type": "stream",
          "text": [
            "\t eval log_loss: 0.6714\n",
            "\t eval roc_auc: 0.6595\n",
            "\t eval precision@10: 0.0140\n",
            "\t eval recall@10: 0.0303\n",
            "\t eval ndcg@10: 0.0628\n",
            "==============================\n"
          ]
        },
        {
          "name": "stderr",
          "output_type": "stream",
          "text": [
            "eval_pointwise: 100%|██████████| 4/4 [00:00<00:00, 507.29it/s]\n",
            "eval_listwise: 100%|██████████| 2378/2378 [00:00<00:00, 3605.92it/s]\n"
          ]
        },
        {
          "name": "stdout",
          "output_type": "stream",
          "text": [
            "-------- Started training: UserCF --------\n",
            "Finale Daten: 131535 Interaktionen \n",
            "CSV erfolgreich geladen:\n",
            "                                   user  label    item\n",
            "0  8ba9549e-2542-49a6-8517-586e3926f939    1.0  415374\n",
            "1  8ba9549e-2542-49a6-8517-586e3926f939    1.0  352281\n",
            "2  8ba9549e-2542-49a6-8517-586e3926f939    1.0  198802\n",
            "3  8ba9549e-2542-49a6-8517-586e3926f939    1.0   38852\n",
            "4  8ba9549e-2542-49a6-8517-586e3926f939    1.0   51836\n",
            "500 neue Bewertungen hinzugefügt.\n",
            "n_users: 2511, n_items: 4525, data density: 0.9296 %\n",
            "Training start time: \u001b[35m2025-04-02 17:30:25\u001b[0m\n",
            "Final block size and num: (2511, 1)\n",
            "sim_matrix elapsed: 0.018s\n",
            "sim_matrix, shape: (2511, 2511), num_elements: 139844, density: 2.2179 %\n"
          ]
        },
        {
          "name": "stderr",
          "output_type": "stream",
          "text": [
            "top_k: 100%|██████████| 2511/2511 [00:00<00:00, 113568.60it/s]\n",
            "eval_pointwise:   0%|          | 0/4 [00:00<?, ?it/s]"
          ]
        },
        {
          "name": "stdout",
          "output_type": "stream",
          "text": [
            "\u001b[31mNo common interaction or similar neighbor for user 1718 and item 113, proceed with default prediction\u001b[0m\n",
            "\u001b[31mNo common interaction or similar neighbor for user 804 and item 721, proceed with default prediction\u001b[0m\n",
            "\u001b[31mNo common interaction or similar neighbor for user 1057 and item 3332, proceed with default prediction\u001b[0m\n",
            "\u001b[31mNo common interaction or similar neighbor for user 752 and item 1909, proceed with default prediction\u001b[0m\n",
            "\u001b[31mNo common interaction or similar neighbor for user 1795 and item 4197, proceed with default prediction\u001b[0m\n",
            "\u001b[31mNo common interaction or similar neighbor for user 1795 and item 134, proceed with default prediction\u001b[0m\n"
          ]
        },
        {
          "name": "stderr",
          "output_type": "stream",
          "text": [
            "eval_pointwise: 100%|██████████| 4/4 [00:00<00:00, 10.40it/s]\n",
            "eval_listwise: 100%|██████████| 2399/2399 [00:12<00:00, 195.89it/s]\n"
          ]
        },
        {
          "name": "stdout",
          "output_type": "stream",
          "text": [
            "\t eval log_loss: 5.3240\n",
            "\t eval roc_auc: 0.5909\n",
            "\t eval precision@10: 0.0141\n",
            "\t eval recall@10: 0.0254\n",
            "\t eval ndcg@10: 0.0618\n",
            "==============================\n"
          ]
        },
        {
          "name": "stderr",
          "output_type": "stream",
          "text": [
            "eval_pointwise: 100%|██████████| 4/4 [00:00<00:00, 11.13it/s]\n",
            "eval_listwise: 100%|██████████| 2378/2378 [00:11<00:00, 208.43it/s]\n"
          ]
        }
      ],
      "source": [
        "from recipeRecommender import RecipeRecommender\n",
        "import os\n",
        "from config import RATINGS_FILE,RECOMMENDATIONS_FILE\n",
        "\n",
        "algorithms = [\"ItemCF\", \"BPR\", \"SVD\", \"SVDpp\", \"ALS\", \"UserCF\"]\n",
        "\n",
        "for algorithm in algorithms:\n",
        "    print(\"-------- \"+\"Started training: \" + algorithm+\" --------\")\n",
        "    recommender = RecipeRecommender()\n",
        "    recommender.load_and_preprocess(min_interactions=20)\n",
        "    recommender.import_ratings_csv(\"./\"+RATINGS_FILE)\n",
        "    recommender.set_model(algorithm) # \"SVD\", \"SVDpp\", \"ALS\", \"BPR\", \"UserCF\", \"ItemCF\"\n",
        "    recommender.train()\n",
        "    recommender.evaluate()\n",
        "    recommendations = recommender.save_recommendations_as_csv(20,RECOMMENDATIONS_FILE+algorithm.lower()+\".csv\")"
      ]
    },
    {
      "cell_type": "markdown",
      "metadata": {},
      "source": [
        "## Testing Setup"
      ]
    },
    {
      "cell_type": "code",
      "execution_count": null,
      "metadata": {},
      "outputs": [],
      "source": [
        "from recommendationHelper import RHelper\n",
        "helper = RHelper(recommender)\n"
      ]
    },
    {
      "cell_type": "code",
      "execution_count": 12,
      "metadata": {},
      "outputs": [
        {
          "data": {
            "text/html": [
              "<div>\n",
              "<style scoped>\n",
              "    .dataframe tbody tr th:only-of-type {\n",
              "        vertical-align: middle;\n",
              "    }\n",
              "\n",
              "    .dataframe tbody tr th {\n",
              "        vertical-align: top;\n",
              "    }\n",
              "\n",
              "    .dataframe thead th {\n",
              "        text-align: right;\n",
              "    }\n",
              "</style>\n",
              "<table border=\"1\" class=\"dataframe\">\n",
              "  <thead>\n",
              "    <tr style=\"text-align: right;\">\n",
              "      <th></th>\n",
              "      <th>recipe_id</th>\n",
              "      <th>rating</th>\n",
              "      <th>recipe_name</th>\n",
              "    </tr>\n",
              "  </thead>\n",
              "  <tbody>\n",
              "    <tr>\n",
              "      <th>0</th>\n",
              "      <td>415374</td>\n",
              "      <td>0</td>\n",
              "      <td>garlic loaf</td>\n",
              "    </tr>\n",
              "    <tr>\n",
              "      <th>1</th>\n",
              "      <td>352281</td>\n",
              "      <td>0</td>\n",
              "      <td>chicken coconut curry soup   a k a  easy mulli...</td>\n",
              "    </tr>\n",
              "    <tr>\n",
              "      <th>2</th>\n",
              "      <td>198802</td>\n",
              "      <td>0</td>\n",
              "      <td>cherry almond butter cookies</td>\n",
              "    </tr>\n",
              "    <tr>\n",
              "      <th>3</th>\n",
              "      <td>38852</td>\n",
              "      <td>0</td>\n",
              "      <td>second only to my meatloaf  meatballs</td>\n",
              "    </tr>\n",
              "    <tr>\n",
              "      <th>4</th>\n",
              "      <td>51836</td>\n",
              "      <td>0</td>\n",
              "      <td>easy pasta lasagna</td>\n",
              "    </tr>\n",
              "    <tr>\n",
              "      <th>5</th>\n",
              "      <td>248074</td>\n",
              "      <td>0</td>\n",
              "      <td>garlic fries  light</td>\n",
              "    </tr>\n",
              "    <tr>\n",
              "      <th>6</th>\n",
              "      <td>86607</td>\n",
              "      <td>0</td>\n",
              "      <td>breakfast  pizza   somersize</td>\n",
              "    </tr>\n",
              "    <tr>\n",
              "      <th>7</th>\n",
              "      <td>220440</td>\n",
              "      <td>0</td>\n",
              "      <td>easter deviled eggs</td>\n",
              "    </tr>\n",
              "    <tr>\n",
              "      <th>8</th>\n",
              "      <td>336852</td>\n",
              "      <td>0</td>\n",
              "      <td>baked corn  like a corn casserole  but no chee...</td>\n",
              "    </tr>\n",
              "    <tr>\n",
              "      <th>9</th>\n",
              "      <td>418161</td>\n",
              "      <td>0</td>\n",
              "      <td>chicken oreganata with lime</td>\n",
              "    </tr>\n",
              "    <tr>\n",
              "      <th>10</th>\n",
              "      <td>134451</td>\n",
              "      <td>0</td>\n",
              "      <td>hazelnut chip scones</td>\n",
              "    </tr>\n",
              "    <tr>\n",
              "      <th>11</th>\n",
              "      <td>163427</td>\n",
              "      <td>0</td>\n",
              "      <td>baked tofu with mushroom gravy</td>\n",
              "    </tr>\n",
              "    <tr>\n",
              "      <th>12</th>\n",
              "      <td>8054</td>\n",
              "      <td>0</td>\n",
              "      <td>barbecue hamburger patties</td>\n",
              "    </tr>\n",
              "    <tr>\n",
              "      <th>13</th>\n",
              "      <td>384508</td>\n",
              "      <td>0</td>\n",
              "      <td>gravy peas</td>\n",
              "    </tr>\n",
              "    <tr>\n",
              "      <th>14</th>\n",
              "      <td>193998</td>\n",
              "      <td>0</td>\n",
              "      <td>abraham lincoln s   best cake i ever tasted   ...</td>\n",
              "    </tr>\n",
              "    <tr>\n",
              "      <th>15</th>\n",
              "      <td>148527</td>\n",
              "      <td>0</td>\n",
              "      <td>breaded steak  bistec empanizado</td>\n",
              "    </tr>\n",
              "    <tr>\n",
              "      <th>16</th>\n",
              "      <td>466724</td>\n",
              "      <td>0</td>\n",
              "      <td>creamy chicken  spinach and tortellini soup</td>\n",
              "    </tr>\n",
              "    <tr>\n",
              "      <th>17</th>\n",
              "      <td>81413</td>\n",
              "      <td>0</td>\n",
              "      <td>grandmas country soup 1965</td>\n",
              "    </tr>\n",
              "    <tr>\n",
              "      <th>18</th>\n",
              "      <td>116529</td>\n",
              "      <td>0</td>\n",
              "      <td>fudge filled chocolate chip thumbprints</td>\n",
              "    </tr>\n",
              "    <tr>\n",
              "      <th>19</th>\n",
              "      <td>172212</td>\n",
              "      <td>0</td>\n",
              "      <td>creamy mocha drink</td>\n",
              "    </tr>\n",
              "  </tbody>\n",
              "</table>\n",
              "</div>"
            ],
            "text/plain": [
              "    recipe_id  rating                                        recipe_name\n",
              "0      415374       0                                        garlic loaf\n",
              "1      352281       0  chicken coconut curry soup   a k a  easy mulli...\n",
              "2      198802       0                       cherry almond butter cookies\n",
              "3       38852       0              second only to my meatloaf  meatballs\n",
              "4       51836       0                                 easy pasta lasagna\n",
              "5      248074       0                                garlic fries  light\n",
              "6       86607       0                       breakfast  pizza   somersize\n",
              "7      220440       0                                easter deviled eggs\n",
              "8      336852       0  baked corn  like a corn casserole  but no chee...\n",
              "9      418161       0                        chicken oreganata with lime\n",
              "10     134451       0                               hazelnut chip scones\n",
              "11     163427       0                     baked tofu with mushroom gravy\n",
              "12       8054       0                         barbecue hamburger patties\n",
              "13     384508       0                                         gravy peas\n",
              "14     193998       0  abraham lincoln s   best cake i ever tasted   ...\n",
              "15     148527       0                   breaded steak  bistec empanizado\n",
              "16     466724       0        creamy chicken  spinach and tortellini soup\n",
              "17      81413       0                         grandmas country soup 1965\n",
              "18     116529       0            fudge filled chocolate chip thumbprints\n",
              "19     172212       0                                 creamy mocha drink"
            ]
          },
          "execution_count": 12,
          "metadata": {},
          "output_type": "execute_result"
        }
      ],
      "source": [
        "helper.get_user_interactions(\"8ba9549e-2542-49a6-8517-586e3926f939\")"
      ]
    },
    {
      "cell_type": "code",
      "execution_count": 13,
      "metadata": {},
      "outputs": [
        {
          "data": {
            "text/html": [
              "<div>\n",
              "<style scoped>\n",
              "    .dataframe tbody tr th:only-of-type {\n",
              "        vertical-align: middle;\n",
              "    }\n",
              "\n",
              "    .dataframe tbody tr th {\n",
              "        vertical-align: top;\n",
              "    }\n",
              "\n",
              "    .dataframe thead th {\n",
              "        text-align: right;\n",
              "    }\n",
              "</style>\n",
              "<table border=\"1\" class=\"dataframe\">\n",
              "  <thead>\n",
              "    <tr style=\"text-align: right;\">\n",
              "      <th></th>\n",
              "      <th>recipe_id</th>\n",
              "      <th>recipe_name</th>\n",
              "    </tr>\n",
              "  </thead>\n",
              "  <tbody>\n",
              "    <tr>\n",
              "      <th>0</th>\n",
              "      <td>75302</td>\n",
              "      <td>mrs  geraldine s ground beef casserole</td>\n",
              "    </tr>\n",
              "    <tr>\n",
              "      <th>1</th>\n",
              "      <td>77397</td>\n",
              "      <td>kittencal s 5 minute cinnamon flop brunch cake</td>\n",
              "    </tr>\n",
              "    <tr>\n",
              "      <th>2</th>\n",
              "      <td>133448</td>\n",
              "      <td>creamy ramen noodles</td>\n",
              "    </tr>\n",
              "    <tr>\n",
              "      <th>3</th>\n",
              "      <td>87782</td>\n",
              "      <td>greek potatoes  oven roasted and delicious</td>\n",
              "    </tr>\n",
              "    <tr>\n",
              "      <th>4</th>\n",
              "      <td>105726</td>\n",
              "      <td>kittencal s parmesan garlic bread or garlic toast</td>\n",
              "    </tr>\n",
              "    <tr>\n",
              "      <th>5</th>\n",
              "      <td>80118</td>\n",
              "      <td>kittencal s bakery buttercream  frosting icing</td>\n",
              "    </tr>\n",
              "    <tr>\n",
              "      <th>6</th>\n",
              "      <td>66241</td>\n",
              "      <td>buttermilk pancakes</td>\n",
              "    </tr>\n",
              "    <tr>\n",
              "      <th>7</th>\n",
              "      <td>121490</td>\n",
              "      <td>strawberries   cream bread  strawberry or blue...</td>\n",
              "    </tr>\n",
              "    <tr>\n",
              "      <th>8</th>\n",
              "      <td>216237</td>\n",
              "      <td>traditional english cheddar cauliflower cheese...</td>\n",
              "    </tr>\n",
              "    <tr>\n",
              "      <th>9</th>\n",
              "      <td>26370</td>\n",
              "      <td>the only chocolate cake recipe you ll ever nee...</td>\n",
              "    </tr>\n",
              "    <tr>\n",
              "      <th>10</th>\n",
              "      <td>34382</td>\n",
              "      <td>mashed red potatoes with garlic and parmesan</td>\n",
              "    </tr>\n",
              "    <tr>\n",
              "      <th>11</th>\n",
              "      <td>20689</td>\n",
              "      <td>chicken with muenster cheese</td>\n",
              "    </tr>\n",
              "    <tr>\n",
              "      <th>12</th>\n",
              "      <td>43023</td>\n",
              "      <td>creamy garlic penne pasta</td>\n",
              "    </tr>\n",
              "    <tr>\n",
              "      <th>13</th>\n",
              "      <td>88945</td>\n",
              "      <td>garlic roasted asparagus with parmesan</td>\n",
              "    </tr>\n",
              "    <tr>\n",
              "      <th>14</th>\n",
              "      <td>180465</td>\n",
              "      <td>fresh tomato  basil grilled cheese sandwich</td>\n",
              "    </tr>\n",
              "    <tr>\n",
              "      <th>15</th>\n",
              "      <td>34335</td>\n",
              "      <td>herbed pork tenderloin</td>\n",
              "    </tr>\n",
              "    <tr>\n",
              "      <th>16</th>\n",
              "      <td>33105</td>\n",
              "      <td>zesty low fat chicken breasts</td>\n",
              "    </tr>\n",
              "    <tr>\n",
              "      <th>17</th>\n",
              "      <td>60235</td>\n",
              "      <td>no bake granola bars</td>\n",
              "    </tr>\n",
              "    <tr>\n",
              "      <th>18</th>\n",
              "      <td>17394</td>\n",
              "      <td>meatloaf barbecue style</td>\n",
              "    </tr>\n",
              "    <tr>\n",
              "      <th>19</th>\n",
              "      <td>48365</td>\n",
              "      <td>buttermilk chocolate bread</td>\n",
              "    </tr>\n",
              "  </tbody>\n",
              "</table>\n",
              "</div>"
            ],
            "text/plain": [
              "    recipe_id                                        recipe_name\n",
              "0       75302             mrs  geraldine s ground beef casserole\n",
              "1       77397     kittencal s 5 minute cinnamon flop brunch cake\n",
              "2      133448                               creamy ramen noodles\n",
              "3       87782         greek potatoes  oven roasted and delicious\n",
              "4      105726  kittencal s parmesan garlic bread or garlic toast\n",
              "5       80118     kittencal s bakery buttercream  frosting icing\n",
              "6       66241                                buttermilk pancakes\n",
              "7      121490  strawberries   cream bread  strawberry or blue...\n",
              "8      216237  traditional english cheddar cauliflower cheese...\n",
              "9       26370  the only chocolate cake recipe you ll ever nee...\n",
              "10      34382       mashed red potatoes with garlic and parmesan\n",
              "11      20689                       chicken with muenster cheese\n",
              "12      43023                          creamy garlic penne pasta\n",
              "13      88945             garlic roasted asparagus with parmesan\n",
              "14     180465        fresh tomato  basil grilled cheese sandwich\n",
              "15      34335                             herbed pork tenderloin\n",
              "16      33105                      zesty low fat chicken breasts\n",
              "17      60235                               no bake granola bars\n",
              "18      17394                            meatloaf barbecue style\n",
              "19      48365                         buttermilk chocolate bread"
            ]
          },
          "execution_count": 13,
          "metadata": {},
          "output_type": "execute_result"
        }
      ],
      "source": [
        "helper.get_formatted_recommendations(\"8ba9549e-2542-49a6-8517-586e3926f939\",20)"
      ]
    },
    {
      "cell_type": "code",
      "execution_count": 14,
      "metadata": {},
      "outputs": [
        {
          "data": {
            "text/plain": [
              "'garlic loaf'"
            ]
          },
          "execution_count": 14,
          "metadata": {},
          "output_type": "execute_result"
        }
      ],
      "source": [
        "helper.get_recipe_name(415374)"
      ]
    }
  ],
  "metadata": {
    "colab": {
      "provenance": []
    },
    "kernelspec": {
      "display_name": "default",
      "language": "python",
      "name": "python3"
    },
    "language_info": {
      "codemirror_mode": {
        "name": "ipython",
        "version": 3
      },
      "file_extension": ".py",
      "mimetype": "text/x-python",
      "name": "python",
      "nbconvert_exporter": "python",
      "pygments_lexer": "ipython3",
      "version": "3.11.11"
    }
  },
  "nbformat": 4,
  "nbformat_minor": 0
}
