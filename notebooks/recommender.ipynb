{
 "cells": [
  {
   "cell_type": "markdown",
   "metadata": {
    "id": "VjggFY2YTdOp"
   },
   "source": [
    "# Recommender Pipeline\n",
    "\n",
    "*   Synthetische User Profiles\n",
    "*   Ausfüllen von BioBank Datenstruktur (LLM)\n",
    "* Datenstruktur umwandeln (mit LLM) in User Item interaktionen\n",
    "* mithilfe von User Item interaktionen lebensmittel recommenden\n",
    "\n",
    "\n",
    "\n"
   ]
  },
  {
   "cell_type": "markdown",
   "metadata": {
    "id": "fyGdFMkfV7HI"
   },
   "source": []
  },
  {
   "cell_type": "markdown",
   "metadata": {
    "id": "cQZi7tRVVqMK"
   },
   "source": [
    "### About this Dataset\n",
    "This data was collected from https://www.allrecipes.com/.\n",
    "Features include:\n",
    "\n",
    "group: grouping by origin of recipes, consisting of 3 (or 2) groups, separated by dots.\n",
    "name: the name of recipe\n",
    "rating: rating of the recipe\n",
    "n_rater: number of participants rating the recipe\n",
    "n_reiviewer: number of participants reviewing the recipe\n",
    "summary: blurb about the recipe\n",
    "process: summary of the recipe process\n",
    "ingredient: ingredient of the recipe"
   ]
  },
  {
   "cell_type": "code",
   "metadata": {
    "id": "Sw4MU5rIneTm",
    "colab": {
     "base_uri": "https://localhost:8080/",
     "height": 1000
    },
    "outputId": "eb5ec592-7e70-480f-eefa-c48f9a9fbd3f",
    "ExecuteTime": {
     "end_time": "2025-03-10T16:49:43.781048Z",
     "start_time": "2025-03-10T16:49:43.776225Z"
    }
   },
   "source": [
    "# !pip install pandas\n",
    "# !pip install --upgrade kagglehub\n",
    "# !pip install -U LibRecommender\n",
    "# !pip install keras==2.12.0 tensorflow==2.12.0\n",
    "#\n",
    "# !pip show LibRecommender"
   ],
   "outputs": [],
   "execution_count": 1
  },
  {
   "cell_type": "code",
   "metadata": {
    "id": "ddDCdJA69EIp",
    "colab": {
     "base_uri": "https://localhost:8080/"
    },
    "outputId": "800ccfd7-0740-4176-bb4b-ff4c66ac1ad5",
    "ExecuteTime": {
     "end_time": "2025-03-10T16:49:48.152054Z",
     "start_time": "2025-03-10T16:49:43.883538Z"
    }
   },
   "source": [
    "import kagglehub\n",
    "import pandas as pd\n",
    "from zipfile import ZipFile\n",
    "import tensorflow as tf\n",
    "import os\n",
    "\n",
    "\n",
    "path = kagglehub.dataset_download(\"shuyangli94/food-com-recipes-and-user-interactions\")\n",
    "\n",
    "print(\"Path to dataset files:\", path)\n"
   ],
   "outputs": [
    {
     "name": "stderr",
     "output_type": "stream",
     "text": [
      "/home/mw/anaconda3/envs/repr-u1-10/lib/python3.10/site-packages/tqdm/auto.py:21: TqdmWarning: IProgress not found. Please update jupyter and ipywidgets. See https://ipywidgets.readthedocs.io/en/stable/user_install.html\n",
      "  from .autonotebook import tqdm as notebook_tqdm\n",
      "2025-03-10 17:49:44.713250: I tensorflow/core/util/port.cc:110] oneDNN custom operations are on. You may see slightly different numerical results due to floating-point round-off errors from different computation orders. To turn them off, set the environment variable `TF_ENABLE_ONEDNN_OPTS=0`.\n",
      "2025-03-10 17:49:44.716198: I tensorflow/tsl/cuda/cudart_stub.cc:28] Could not find cuda drivers on your machine, GPU will not be used.\n",
      "2025-03-10 17:49:44.797290: I tensorflow/tsl/cuda/cudart_stub.cc:28] Could not find cuda drivers on your machine, GPU will not be used.\n",
      "2025-03-10 17:49:44.798417: I tensorflow/core/platform/cpu_feature_guard.cc:182] This TensorFlow binary is optimized to use available CPU instructions in performance-critical operations.\n",
      "To enable the following instructions: AVX2 AVX_VNNI FMA, in other operations, rebuild TensorFlow with the appropriate compiler flags.\n",
      "2025-03-10 17:49:45.971656: W tensorflow/compiler/tf2tensorrt/utils/py_utils.cc:38] TF-TRT Warning: Could not find TensorRT\n"
     ]
    },
    {
     "name": "stdout",
     "output_type": "stream",
     "text": [
      "Path to dataset files: /home/mw/.cache/kagglehub/datasets/shuyangli94/food-com-recipes-and-user-interactions/versions/2\n"
     ]
    }
   ],
   "execution_count": 2
  },
  {
   "cell_type": "code",
   "metadata": {
    "id": "nLNadF8HHlqO",
    "ExecuteTime": {
     "end_time": "2025-03-10T16:49:48.289850Z",
     "start_time": "2025-03-10T16:49:48.286607Z"
    }
   },
   "source": [
    "def updateLabels(interactions_data):\n",
    "    interactions_data[\"label\"] = interactions_data[\"label\"].apply(lambda x: int(x))\n",
    "    return interactions_data\n"
   ],
   "outputs": [],
   "execution_count": 3
  },
  {
   "cell_type": "code",
   "metadata": {
    "id": "HWW6a57QPUBd",
    "ExecuteTime": {
     "end_time": "2025-03-10T16:49:48.351642Z",
     "start_time": "2025-03-10T16:49:48.346703Z"
    }
   },
   "source": [
    "def rename_and_drop_columns(interactions_data):\n",
    "  interactions_data.rename(\n",
    "      columns={\"user_id\": \"user\", \"recipe_id\": \"item\",\"rating\": \"label\"},\n",
    "      inplace=True\n",
    "  )\n",
    "  for column in interactions_data.columns:\n",
    "    if column != \"user\" and column != \"item\" and column != \"label\":\n",
    "      interactions_data.drop(columns=column, inplace=True)\n",
    "\n",
    "  updateLabels(interactions_data)\n",
    "\n",
    "  return interactions_data"
   ],
   "outputs": [],
   "execution_count": 4
  },
  {
   "cell_type": "code",
   "metadata": {
    "id": "UIc0kpQinETW",
    "ExecuteTime": {
     "end_time": "2025-03-10T16:49:49.284165Z",
     "start_time": "2025-03-10T16:49:48.435809Z"
    }
   },
   "source": [
    "# 2) Vorhandene Interactions-Dateien kombinieren, weil ansonsten ein out of bounds Fehler auftritt\n",
    "eval_data_path = os.path.join(path, \"interactions_validation.csv\")\n",
    "eval_data = pd.read_csv(eval_data_path)\n",
    "\n",
    "\n",
    "train_data_path = os.path.join(path, \"interactions_train.csv\")\n",
    "train_data = pd.read_csv(train_data_path)\n",
    "\n",
    "\n",
    "test_data_path = os.path.join(path, \"interactions_test.csv\")\n",
    "test_data = pd.read_csv(test_data_path)\n",
    "\n",
    "\n",
    "# Data muss zusammengefügt werden, damit sie gefiltert und im gleichen Verhältnis wieder aufgeteilt werden kann\n",
    "data = pd.concat([train_data, eval_data, test_data], ignore_index=True)\n",
    "data = rename_and_drop_columns(data)"
   ],
   "outputs": [],
   "execution_count": 5
  },
  {
   "cell_type": "code",
   "metadata": {
    "id": "9dpbC8IxGl1i",
    "colab": {
     "base_uri": "https://localhost:8080/"
    },
    "outputId": "31a04e49-a5b1-4731-c1e4-e0e47c7c7fd7",
    "ExecuteTime": {
     "end_time": "2025-03-10T16:49:49.311488Z",
     "start_time": "2025-03-10T16:49:49.298082Z"
    }
   },
   "source": [
    "all_unique_labels = data[\"label\"].unique()\n",
    "all_unique_labels"
   ],
   "outputs": [
    {
     "data": {
      "text/plain": [
       "array([5, 4, 3, 1, 0, 2])"
      ]
     },
     "execution_count": 6,
     "metadata": {},
     "output_type": "execute_result"
    }
   ],
   "execution_count": 6
  },
  {
   "cell_type": "code",
   "source": [
    "# Alle unterschiedlichen Inhalte in der Spalte \"label\" und deren Häufigkeit\n",
    "label_counts = data[\"label\"].value_counts()\n",
    "print(\"Unterschiedliche Inhalte in 'label' und deren Häufigkeit:\")\n",
    "print(label_counts)\n"
   ],
   "metadata": {
    "colab": {
     "base_uri": "https://localhost:8080/"
    },
    "id": "SjtQUNdWv5MM",
    "outputId": "bf318aa5-e868-4d77-a1a8-3304d5fc00b8",
    "ExecuteTime": {
     "end_time": "2025-03-10T16:49:49.408662Z",
     "start_time": "2025-03-10T16:49:49.402104Z"
    }
   },
   "outputs": [
    {
     "name": "stdout",
     "output_type": "stream",
     "text": [
      "Unterschiedliche Inhalte in 'label' und deren Häufigkeit:\n",
      "label\n",
      "5    530417\n",
      "4    131846\n",
      "3     27058\n",
      "0     18000\n",
      "2      7336\n",
      "1      3722\n",
      "Name: count, dtype: int64\n"
     ]
    }
   ],
   "execution_count": 7
  },
  {
   "cell_type": "code",
   "metadata": {
    "id": "-_QldDbUPibB",
    "colab": {
     "base_uri": "https://localhost:8080/"
    },
    "outputId": "5cebf133-8cad-4827-b2b4-4cb056945370",
    "ExecuteTime": {
     "end_time": "2025-03-10T16:49:49.513095Z",
     "start_time": "2025-03-10T16:49:49.508597Z"
    }
   },
   "source": [
    "data.columns"
   ],
   "outputs": [
    {
     "data": {
      "text/plain": [
       "Index(['user', 'item', 'label'], dtype='object')"
      ]
     },
     "execution_count": 8,
     "metadata": {},
     "output_type": "execute_result"
    }
   ],
   "execution_count": 8
  },
  {
   "cell_type": "code",
   "metadata": {
    "id": "6QhhdDW5FdrR",
    "colab": {
     "base_uri": "https://localhost:8080/",
     "height": 206
    },
    "outputId": "f27a0db6-998a-42e3-e0f0-0403279a9273",
    "ExecuteTime": {
     "end_time": "2025-03-10T16:49:49.602890Z",
     "start_time": "2025-03-10T16:49:49.593076Z"
    }
   },
   "source": [
    "data.head()"
   ],
   "outputs": [
    {
     "data": {
      "text/plain": [
       "   user  item  label\n",
       "0  2046  4684      5\n",
       "1  2046   517      5\n",
       "2  1773  7435      5\n",
       "3  1773   278      4\n",
       "4  2046  3431      5"
      ],
      "text/html": [
       "<div>\n",
       "<style scoped>\n",
       "    .dataframe tbody tr th:only-of-type {\n",
       "        vertical-align: middle;\n",
       "    }\n",
       "\n",
       "    .dataframe tbody tr th {\n",
       "        vertical-align: top;\n",
       "    }\n",
       "\n",
       "    .dataframe thead th {\n",
       "        text-align: right;\n",
       "    }\n",
       "</style>\n",
       "<table border=\"1\" class=\"dataframe\">\n",
       "  <thead>\n",
       "    <tr style=\"text-align: right;\">\n",
       "      <th></th>\n",
       "      <th>user</th>\n",
       "      <th>item</th>\n",
       "      <th>label</th>\n",
       "    </tr>\n",
       "  </thead>\n",
       "  <tbody>\n",
       "    <tr>\n",
       "      <th>0</th>\n",
       "      <td>2046</td>\n",
       "      <td>4684</td>\n",
       "      <td>5</td>\n",
       "    </tr>\n",
       "    <tr>\n",
       "      <th>1</th>\n",
       "      <td>2046</td>\n",
       "      <td>517</td>\n",
       "      <td>5</td>\n",
       "    </tr>\n",
       "    <tr>\n",
       "      <th>2</th>\n",
       "      <td>1773</td>\n",
       "      <td>7435</td>\n",
       "      <td>5</td>\n",
       "    </tr>\n",
       "    <tr>\n",
       "      <th>3</th>\n",
       "      <td>1773</td>\n",
       "      <td>278</td>\n",
       "      <td>4</td>\n",
       "    </tr>\n",
       "    <tr>\n",
       "      <th>4</th>\n",
       "      <td>2046</td>\n",
       "      <td>3431</td>\n",
       "      <td>5</td>\n",
       "    </tr>\n",
       "  </tbody>\n",
       "</table>\n",
       "</div>"
      ]
     },
     "execution_count": 9,
     "metadata": {},
     "output_type": "execute_result"
    }
   ],
   "execution_count": 9
  },
  {
   "cell_type": "code",
   "metadata": {
    "id": "S4GIoH_arD4V",
    "colab": {
     "base_uri": "https://localhost:8080/"
    },
    "outputId": "2b2a2be4-359a-44e7-a61b-8f9bb8a12f3f",
    "ExecuteTime": {
     "end_time": "2025-03-10T16:49:49.702098Z",
     "start_time": "2025-03-10T16:49:49.696499Z"
    }
   },
   "source": [
    "data['user'][0]"
   ],
   "outputs": [
    {
     "data": {
      "text/plain": [
       "2046"
      ]
     },
     "execution_count": 10,
     "metadata": {},
     "output_type": "execute_result"
    }
   ],
   "execution_count": 10
  },
  {
   "cell_type": "code",
   "metadata": {
    "id": "B-870QJ3rFpb",
    "colab": {
     "base_uri": "https://localhost:8080/"
    },
    "outputId": "29df6c70-e043-43ec-be1d-e4e333d5ec99",
    "ExecuteTime": {
     "end_time": "2025-03-10T16:49:49.829727Z",
     "start_time": "2025-03-10T16:49:49.823133Z"
    }
   },
   "source": [
    "data['item'][0]"
   ],
   "outputs": [
    {
     "data": {
      "text/plain": [
       "4684"
      ]
     },
     "execution_count": 11,
     "metadata": {},
     "output_type": "execute_result"
    }
   ],
   "execution_count": 11
  },
  {
   "cell_type": "code",
   "metadata": {
    "id": "2BXrm9RmrG9U",
    "colab": {
     "base_uri": "https://localhost:8080/"
    },
    "outputId": "d5b33a79-5e2a-4c57-c9a8-c5d9bfbda08c",
    "ExecuteTime": {
     "end_time": "2025-03-10T16:49:50.133321Z",
     "start_time": "2025-03-10T16:49:50.128616Z"
    }
   },
   "source": [
    "data['label'][0]"
   ],
   "outputs": [
    {
     "data": {
      "text/plain": [
       "5"
      ]
     },
     "execution_count": 12,
     "metadata": {},
     "output_type": "execute_result"
    }
   ],
   "execution_count": 12
  },
  {
   "cell_type": "code",
   "source": [
    "import pandas as pd\n",
    "\n",
    "threshold = 30\n",
    "\n",
    "# 1) Items filtern, die mindestens * Interaktionen haben:\n",
    "min_item_interactions = threshold\n",
    "item_counts = data[\"item\"].value_counts()\n",
    "items_to_keep = item_counts[item_counts >= min_item_interactions].index\n",
    "\n",
    "data_filtered = data[data[\"item\"].isin(items_to_keep)]\n",
    "\n",
    "# 2) User filtern, die mindestens * Interaktionen haben:\n",
    "min_user_interactions = threshold\n",
    "user_counts = data_filtered[\"user\"].value_counts()\n",
    "users_to_keep = user_counts[user_counts >= min_user_interactions].index\n",
    "\n",
    "data_filtered = data_filtered[data_filtered[\"user\"].isin(users_to_keep)]\n",
    "\n",
    "# Ergebnis prüfen\n",
    "print(\"Datensatz vor Filterung:\", data.shape)\n",
    "print(\"Datensatz nach Filterung:\", data_filtered.shape)\n",
    "print(data_filtered.head())\n"
   ],
   "metadata": {
    "colab": {
     "base_uri": "https://localhost:8080/"
    },
    "id": "RzInmwVkjjQa",
    "outputId": "d2683c7d-7770-454a-e28c-50faedfca052",
    "ExecuteTime": {
     "end_time": "2025-03-10T16:49:50.398119Z",
     "start_time": "2025-03-10T16:49:50.339918Z"
    }
   },
   "outputs": [
    {
     "name": "stdout",
     "output_type": "stream",
     "text": [
      "Datensatz vor Filterung: (718379, 3)\n",
      "Datensatz nach Filterung: (71370, 3)\n",
      "      user   item  label\n",
      "164  11297   5478      4\n",
      "245   4470    834      5\n",
      "300   6357  11365      5\n",
      "349   6357  11642      5\n",
      "365   9869   2886      5\n"
     ]
    }
   ],
   "execution_count": 13
  },
  {
   "cell_type": "code",
   "metadata": {
    "id": "g6eIxQBF13Xn",
    "colab": {
     "base_uri": "https://localhost:8080/"
    },
    "outputId": "b4a191fc-da92-4d73-e8fb-7a2353338f35",
    "ExecuteTime": {
     "end_time": "2025-03-10T16:49:51.198040Z",
     "start_time": "2025-03-10T16:49:50.495271Z"
    }
   },
   "source": [
    "from libreco.data import random_split, DatasetPure\n",
    "\n",
    "train_data, eval_data, test_data = random_split(data_filtered, multi_ratios=[0.8, 0.1, 0.1])\n",
    "\n",
    "train_data, data_info = DatasetPure.build_trainset(train_data)\n",
    "eval_data = DatasetPure.build_evalset(eval_data)\n",
    "test_data = DatasetPure.build_testset(test_data)\n",
    "print(data_info)"
   ],
   "outputs": [
    {
     "name": "stdout",
     "output_type": "stream",
     "text": [
      "n_users: 1136, n_items: 2455, data density: 2.0472 %\n"
     ]
    }
   ],
   "execution_count": 14
  },
  {
   "cell_type": "markdown",
   "source": [
    "Algorithmus genommen aufgrund von: https://arxiv.org/ftp/arxiv/papers/1205/1205.2618.pdf"
   ],
   "metadata": {
    "id": "LqdBu-yze93s"
   }
  },
  {
   "cell_type": "code",
   "metadata": {
    "colab": {
     "base_uri": "https://localhost:8080/"
    },
    "id": "MUY6yDPDpuis",
    "outputId": "13cb4ecd-4d50-4743-d2ce-fe11d13d8a49",
    "ExecuteTime": {
     "end_time": "2025-03-10T16:49:51.766824Z",
     "start_time": "2025-03-10T16:49:51.319477Z"
    }
   },
   "source": [
    "from libreco.algorithms import BPR\n",
    "\n",
    "tf.compat.v1.reset_default_graph()\n",
    "\n",
    "# Initialisierung des Modells\n",
    "model = BPR(\n",
    "    task=\"ranking\",\n",
    "    data_info=data_info,\n",
    "    loss_type=\"bpr\",\n",
    "    embed_size=256,\n",
    "    n_epochs=5,\n",
    "    lr=5e-5,  # Lernrate\n",
    "    batch_size=1024,\n",
    "    num_neg=5,  # Mehr negative Beispiele für besseres Ranking\n",
    "    reg=5e-6,  # Regularisierung\n",
    "    sampler=\"random\"  # Negative Sampling\n",
    ")\n",
    "\n",
    "# Training des Modells mit Monitoring der Metriken\n",
    "model.fit(\n",
    "    train_data,\n",
    "    neg_sampling=True,  # Negative Sampling aktivieren\n",
    "    shuffle=True,\n",
    "    verbose=2,  # Detaillierte Trainingsausgabe\n",
    "    eval_data=eval_data,  # Validierungsdaten\n",
    "    metrics=[\"loss\", \"roc_auc\", \"precision\", \"recall\", \"ndcg\"]  # Überwachung relevanter Metriken\n",
    ")"
   ],
   "outputs": [
    {
     "name": "stdout",
     "output_type": "stream",
     "text": [
      "WARNING:tensorflow:From /home/mw/anaconda3/envs/repr-u1-10/lib/python3.10/site-packages/tensorflow/python/compat/v2_compat.py:107: disable_resource_variables (from tensorflow.python.ops.variable_scope) is deprecated and will be removed in a future version.\n",
      "Instructions for updating:\n",
      "non-resource variables are not supported in the long term\n"
     ]
    },
    {
     "ename": "ModuleNotFoundError",
     "evalue": "No module named 'torch'",
     "output_type": "error",
     "traceback": [
      "\u001B[0;31m---------------------------------------------------------------------------\u001B[0m",
      "\u001B[0;31mModuleNotFoundError\u001B[0m                       Traceback (most recent call last)",
      "Cell \u001B[0;32mIn[15], line 1\u001B[0m\n\u001B[0;32m----> 1\u001B[0m \u001B[38;5;28;01mfrom\u001B[39;00m\u001B[38;5;250m \u001B[39m\u001B[38;5;21;01mlibreco\u001B[39;00m\u001B[38;5;21;01m.\u001B[39;00m\u001B[38;5;21;01malgorithms\u001B[39;00m\u001B[38;5;250m \u001B[39m\u001B[38;5;28;01mimport\u001B[39;00m BPR\n\u001B[1;32m      3\u001B[0m tf\u001B[38;5;241m.\u001B[39mcompat\u001B[38;5;241m.\u001B[39mv1\u001B[38;5;241m.\u001B[39mreset_default_graph()\n\u001B[1;32m      5\u001B[0m \u001B[38;5;66;03m# Initialisierung des Modells\u001B[39;00m\n",
      "File \u001B[0;32m~/anaconda3/envs/repr-u1-10/lib/python3.10/site-packages/libreco/algorithms/__init__.py:1\u001B[0m\n\u001B[0;32m----> 1\u001B[0m \u001B[38;5;28;01mfrom\u001B[39;00m\u001B[38;5;250m \u001B[39m\u001B[38;5;21;01m.\u001B[39;00m\u001B[38;5;21;01mals\u001B[39;00m\u001B[38;5;250m \u001B[39m\u001B[38;5;28;01mimport\u001B[39;00m ALS\n\u001B[1;32m      2\u001B[0m \u001B[38;5;28;01mfrom\u001B[39;00m\u001B[38;5;250m \u001B[39m\u001B[38;5;21;01m.\u001B[39;00m\u001B[38;5;21;01mautoint\u001B[39;00m\u001B[38;5;250m \u001B[39m\u001B[38;5;28;01mimport\u001B[39;00m AutoInt\n\u001B[1;32m      3\u001B[0m \u001B[38;5;28;01mfrom\u001B[39;00m\u001B[38;5;250m \u001B[39m\u001B[38;5;21;01m.\u001B[39;00m\u001B[38;5;21;01mbpr\u001B[39;00m\u001B[38;5;250m \u001B[39m\u001B[38;5;28;01mimport\u001B[39;00m BPR\n",
      "File \u001B[0;32m~/anaconda3/envs/repr-u1-10/lib/python3.10/site-packages/libreco/algorithms/als.py:8\u001B[0m\n\u001B[1;32m      4\u001B[0m \u001B[38;5;28;01mfrom\u001B[39;00m\u001B[38;5;250m \u001B[39m\u001B[38;5;21;01mfunctools\u001B[39;00m\u001B[38;5;250m \u001B[39m\u001B[38;5;28;01mimport\u001B[39;00m partial\n\u001B[1;32m      6\u001B[0m \u001B[38;5;28;01mimport\u001B[39;00m\u001B[38;5;250m \u001B[39m\u001B[38;5;21;01mnumpy\u001B[39;00m\u001B[38;5;250m \u001B[39m\u001B[38;5;28;01mas\u001B[39;00m\u001B[38;5;250m \u001B[39m\u001B[38;5;21;01mnp\u001B[39;00m\n\u001B[0;32m----> 8\u001B[0m \u001B[38;5;28;01mfrom\u001B[39;00m\u001B[38;5;250m \u001B[39m\u001B[38;5;21;01m.\u001B[39;00m\u001B[38;5;21;01m.\u001B[39;00m\u001B[38;5;21;01mbases\u001B[39;00m\u001B[38;5;250m \u001B[39m\u001B[38;5;28;01mimport\u001B[39;00m EmbedBase\n\u001B[1;32m      9\u001B[0m \u001B[38;5;28;01mfrom\u001B[39;00m\u001B[38;5;250m \u001B[39m\u001B[38;5;21;01m.\u001B[39;00m\u001B[38;5;21;01m.\u001B[39;00m\u001B[38;5;21;01mevaluation\u001B[39;00m\u001B[38;5;250m \u001B[39m\u001B[38;5;28;01mimport\u001B[39;00m print_metrics\n\u001B[1;32m     10\u001B[0m \u001B[38;5;28;01mfrom\u001B[39;00m\u001B[38;5;250m \u001B[39m\u001B[38;5;21;01m.\u001B[39;00m\u001B[38;5;21;01m.\u001B[39;00m\u001B[38;5;21;01mrecommendation\u001B[39;00m\u001B[38;5;250m \u001B[39m\u001B[38;5;28;01mimport\u001B[39;00m recommend_from_embedding\n",
      "File \u001B[0;32m~/anaconda3/envs/repr-u1-10/lib/python3.10/site-packages/libreco/bases/__init__.py:2\u001B[0m\n\u001B[1;32m      1\u001B[0m \u001B[38;5;28;01mfrom\u001B[39;00m\u001B[38;5;250m \u001B[39m\u001B[38;5;21;01m.\u001B[39;00m\u001B[38;5;21;01mbase\u001B[39;00m\u001B[38;5;250m \u001B[39m\u001B[38;5;28;01mimport\u001B[39;00m Base\n\u001B[0;32m----> 2\u001B[0m \u001B[38;5;28;01mfrom\u001B[39;00m\u001B[38;5;250m \u001B[39m\u001B[38;5;21;01m.\u001B[39;00m\u001B[38;5;21;01mcf_base\u001B[39;00m\u001B[38;5;250m \u001B[39m\u001B[38;5;28;01mimport\u001B[39;00m CfBase\n\u001B[1;32m      3\u001B[0m \u001B[38;5;28;01mfrom\u001B[39;00m\u001B[38;5;250m \u001B[39m\u001B[38;5;21;01m.\u001B[39;00m\u001B[38;5;21;01mcf_base_rs\u001B[39;00m\u001B[38;5;250m \u001B[39m\u001B[38;5;28;01mimport\u001B[39;00m RsCfBase\n\u001B[1;32m      4\u001B[0m \u001B[38;5;28;01mfrom\u001B[39;00m\u001B[38;5;250m \u001B[39m\u001B[38;5;21;01m.\u001B[39;00m\u001B[38;5;21;01mdyn_embed_base\u001B[39;00m\u001B[38;5;250m \u001B[39m\u001B[38;5;28;01mimport\u001B[39;00m DynEmbedBase\n",
      "File \u001B[0;32m~/anaconda3/envs/repr-u1-10/lib/python3.10/site-packages/libreco/bases/cf_base.py:16\u001B[0m\n\u001B[1;32m     13\u001B[0m \u001B[38;5;28;01mfrom\u001B[39;00m\u001B[38;5;250m \u001B[39m\u001B[38;5;21;01mtqdm\u001B[39;00m\u001B[38;5;250m \u001B[39m\u001B[38;5;28;01mimport\u001B[39;00m tqdm\n\u001B[1;32m     15\u001B[0m \u001B[38;5;28;01mfrom\u001B[39;00m\u001B[38;5;250m \u001B[39m\u001B[38;5;21;01m.\u001B[39;00m\u001B[38;5;21;01mbase\u001B[39;00m\u001B[38;5;250m \u001B[39m\u001B[38;5;28;01mimport\u001B[39;00m Base\n\u001B[0;32m---> 16\u001B[0m \u001B[38;5;28;01mfrom\u001B[39;00m\u001B[38;5;250m \u001B[39m\u001B[38;5;21;01m.\u001B[39;00m\u001B[38;5;21;01m.\u001B[39;00m\u001B[38;5;21;01mevaluation\u001B[39;00m\u001B[38;5;250m \u001B[39m\u001B[38;5;28;01mimport\u001B[39;00m print_metrics\n\u001B[1;32m     17\u001B[0m \u001B[38;5;28;01mfrom\u001B[39;00m\u001B[38;5;250m \u001B[39m\u001B[38;5;21;01m.\u001B[39;00m\u001B[38;5;21;01m.\u001B[39;00m\u001B[38;5;21;01mprediction\u001B[39;00m\u001B[38;5;21;01m.\u001B[39;00m\u001B[38;5;21;01mpreprocess\u001B[39;00m\u001B[38;5;250m \u001B[39m\u001B[38;5;28;01mimport\u001B[39;00m convert_id\n\u001B[1;32m     18\u001B[0m \u001B[38;5;28;01mfrom\u001B[39;00m\u001B[38;5;250m \u001B[39m\u001B[38;5;21;01m.\u001B[39;00m\u001B[38;5;21;01m.\u001B[39;00m\u001B[38;5;21;01mrecommendation\u001B[39;00m\u001B[38;5;250m \u001B[39m\u001B[38;5;28;01mimport\u001B[39;00m construct_rec, popular_recommendations\n",
      "File \u001B[0;32m~/anaconda3/envs/repr-u1-10/lib/python3.10/site-packages/libreco/evaluation/__init__.py:1\u001B[0m\n\u001B[0;32m----> 1\u001B[0m \u001B[38;5;28;01mfrom\u001B[39;00m\u001B[38;5;250m \u001B[39m\u001B[38;5;21;01m.\u001B[39;00m\u001B[38;5;21;01mevaluate\u001B[39;00m\u001B[38;5;250m \u001B[39m\u001B[38;5;28;01mimport\u001B[39;00m evaluate, print_metrics\n\u001B[1;32m      3\u001B[0m __all__ \u001B[38;5;241m=\u001B[39m [\u001B[38;5;124m\"\u001B[39m\u001B[38;5;124mevaluate\u001B[39m\u001B[38;5;124m\"\u001B[39m, \u001B[38;5;124m\"\u001B[39m\u001B[38;5;124mprint_metrics\u001B[39m\u001B[38;5;124m\"\u001B[39m]\n",
      "File \u001B[0;32m~/anaconda3/envs/repr-u1-10/lib/python3.10/site-packages/libreco/evaluation/evaluate.py:10\u001B[0m\n\u001B[1;32m      7\u001B[0m \u001B[38;5;28;01mimport\u001B[39;00m\u001B[38;5;250m \u001B[39m\u001B[38;5;21;01mpandas\u001B[39;00m\u001B[38;5;250m \u001B[39m\u001B[38;5;28;01mas\u001B[39;00m\u001B[38;5;250m \u001B[39m\u001B[38;5;21;01mpd\u001B[39;00m\n\u001B[1;32m      8\u001B[0m \u001B[38;5;28;01mfrom\u001B[39;00m\u001B[38;5;250m \u001B[39m\u001B[38;5;21;01msklearn\u001B[39;00m\u001B[38;5;21;01m.\u001B[39;00m\u001B[38;5;21;01mmetrics\u001B[39;00m\u001B[38;5;250m \u001B[39m\u001B[38;5;28;01mimport\u001B[39;00m log_loss, mean_absolute_error, r2_score, roc_auc_score\n\u001B[0;32m---> 10\u001B[0m \u001B[38;5;28;01mfrom\u001B[39;00m\u001B[38;5;250m \u001B[39m\u001B[38;5;21;01m.\u001B[39;00m\u001B[38;5;21;01mcomputation\u001B[39;00m\u001B[38;5;250m \u001B[39m\u001B[38;5;28;01mimport\u001B[39;00m (\n\u001B[1;32m     11\u001B[0m     build_eval_transformed_data,\n\u001B[1;32m     12\u001B[0m     compute_preds,\n\u001B[1;32m     13\u001B[0m     compute_probs,\n\u001B[1;32m     14\u001B[0m     compute_recommends,\n\u001B[1;32m     15\u001B[0m )\n\u001B[1;32m     16\u001B[0m \u001B[38;5;28;01mfrom\u001B[39;00m\u001B[38;5;250m \u001B[39m\u001B[38;5;21;01m.\u001B[39;00m\u001B[38;5;21;01mmetrics\u001B[39;00m\u001B[38;5;250m \u001B[39m\u001B[38;5;28;01mimport\u001B[39;00m (\n\u001B[1;32m     17\u001B[0m     LISTWISE_METRICS,\n\u001B[1;32m     18\u001B[0m     POINTWISE_METRICS,\n\u001B[0;32m   (...)\u001B[0m\n\u001B[1;32m     30\u001B[0m     roc_gauc_score,\n\u001B[1;32m     31\u001B[0m )\n\u001B[1;32m     32\u001B[0m \u001B[38;5;28;01mfrom\u001B[39;00m\u001B[38;5;250m \u001B[39m\u001B[38;5;21;01m.\u001B[39;00m\u001B[38;5;21;01m.\u001B[39;00m\u001B[38;5;21;01mdata\u001B[39;00m\u001B[38;5;250m \u001B[39m\u001B[38;5;28;01mimport\u001B[39;00m TransformedEvalSet\n",
      "File \u001B[0;32m~/anaconda3/envs/repr-u1-10/lib/python3.10/site-packages/libreco/evaluation/computation.py:6\u001B[0m\n\u001B[1;32m      3\u001B[0m \u001B[38;5;28;01mfrom\u001B[39;00m\u001B[38;5;250m \u001B[39m\u001B[38;5;21;01mtqdm\u001B[39;00m\u001B[38;5;250m \u001B[39m\u001B[38;5;28;01mimport\u001B[39;00m tqdm\n\u001B[1;32m      5\u001B[0m \u001B[38;5;28;01mfrom\u001B[39;00m\u001B[38;5;250m \u001B[39m\u001B[38;5;21;01m.\u001B[39;00m\u001B[38;5;21;01m.\u001B[39;00m\u001B[38;5;21;01mdata\u001B[39;00m\u001B[38;5;250m \u001B[39m\u001B[38;5;28;01mimport\u001B[39;00m TransformedEvalSet\n\u001B[0;32m----> 6\u001B[0m \u001B[38;5;28;01mfrom\u001B[39;00m\u001B[38;5;250m \u001B[39m\u001B[38;5;21;01m.\u001B[39;00m\u001B[38;5;21;01m.\u001B[39;00m\u001B[38;5;21;01mprediction\u001B[39;00m\u001B[38;5;21;01m.\u001B[39;00m\u001B[38;5;21;01mpreprocess\u001B[39;00m\u001B[38;5;250m \u001B[39m\u001B[38;5;28;01mimport\u001B[39;00m convert_id\n\u001B[1;32m      7\u001B[0m \u001B[38;5;28;01mfrom\u001B[39;00m\u001B[38;5;250m \u001B[39m\u001B[38;5;21;01m.\u001B[39;00m\u001B[38;5;21;01m.\u001B[39;00m\u001B[38;5;21;01mutils\u001B[39;00m\u001B[38;5;21;01m.\u001B[39;00m\u001B[38;5;21;01mvalidate\u001B[39;00m\u001B[38;5;250m \u001B[39m\u001B[38;5;28;01mimport\u001B[39;00m check_labels\n\u001B[1;32m     10\u001B[0m \u001B[38;5;28;01mdef\u001B[39;00m\u001B[38;5;250m \u001B[39m\u001B[38;5;21mbuild_eval_transformed_data\u001B[39m(model, data, neg_sampling, seed):\n",
      "File \u001B[0;32m~/anaconda3/envs/repr-u1-10/lib/python3.10/site-packages/libreco/prediction/__init__.py:1\u001B[0m\n\u001B[0;32m----> 1\u001B[0m \u001B[38;5;28;01mfrom\u001B[39;00m\u001B[38;5;250m \u001B[39m\u001B[38;5;21;01m.\u001B[39;00m\u001B[38;5;21;01mpredict\u001B[39;00m\u001B[38;5;250m \u001B[39m\u001B[38;5;28;01mimport\u001B[39;00m (\n\u001B[1;32m      2\u001B[0m     normalize_prediction,\n\u001B[1;32m      3\u001B[0m     predict_data_with_feats,\n\u001B[1;32m      4\u001B[0m     predict_from_embedding,\n\u001B[1;32m      5\u001B[0m     predict_tf_feat,\n\u001B[1;32m      6\u001B[0m )\n\u001B[1;32m      8\u001B[0m __all__ \u001B[38;5;241m=\u001B[39m [\n\u001B[1;32m      9\u001B[0m     \u001B[38;5;124m\"\u001B[39m\u001B[38;5;124mpredict_data_with_feats\u001B[39m\u001B[38;5;124m\"\u001B[39m,\n\u001B[1;32m     10\u001B[0m     \u001B[38;5;124m\"\u001B[39m\u001B[38;5;124mpredict_from_embedding\u001B[39m\u001B[38;5;124m\"\u001B[39m,\n\u001B[1;32m     11\u001B[0m     \u001B[38;5;124m\"\u001B[39m\u001B[38;5;124mpredict_tf_feat\u001B[39m\u001B[38;5;124m\"\u001B[39m,\n\u001B[1;32m     12\u001B[0m     \u001B[38;5;124m\"\u001B[39m\u001B[38;5;124mnormalize_prediction\u001B[39m\u001B[38;5;124m\"\u001B[39m,\n\u001B[1;32m     13\u001B[0m ]\n",
      "File \u001B[0;32m~/anaconda3/envs/repr-u1-10/lib/python3.10/site-packages/libreco/prediction/predict.py:14\u001B[0m\n\u001B[1;32m      4\u001B[0m \u001B[38;5;28;01mfrom\u001B[39;00m\u001B[38;5;250m \u001B[39m\u001B[38;5;21;01mtqdm\u001B[39;00m\u001B[38;5;250m \u001B[39m\u001B[38;5;28;01mimport\u001B[39;00m tqdm\n\u001B[1;32m      6\u001B[0m \u001B[38;5;28;01mfrom\u001B[39;00m\u001B[38;5;250m \u001B[39m\u001B[38;5;21;01m.\u001B[39;00m\u001B[38;5;21;01mpreprocess\u001B[39;00m\u001B[38;5;250m \u001B[39m\u001B[38;5;28;01mimport\u001B[39;00m (\n\u001B[1;32m      7\u001B[0m     convert_id,\n\u001B[1;32m      8\u001B[0m     features_from_batch,\n\u001B[0;32m   (...)\u001B[0m\n\u001B[1;32m     12\u001B[0m     set_temp_feats,\n\u001B[1;32m     13\u001B[0m )\n\u001B[0;32m---> 14\u001B[0m \u001B[38;5;28;01mfrom\u001B[39;00m\u001B[38;5;250m \u001B[39m\u001B[38;5;21;01m.\u001B[39;00m\u001B[38;5;21;01m.\u001B[39;00m\u001B[38;5;21;01mtfops\u001B[39;00m\u001B[38;5;21;01m.\u001B[39;00m\u001B[38;5;21;01mfeatures\u001B[39;00m\u001B[38;5;250m \u001B[39m\u001B[38;5;28;01mimport\u001B[39;00m get_dual_seq_feed_dict, get_feed_dict\n\u001B[1;32m     15\u001B[0m \u001B[38;5;28;01mfrom\u001B[39;00m\u001B[38;5;250m \u001B[39m\u001B[38;5;21;01m.\u001B[39;00m\u001B[38;5;21;01m.\u001B[39;00m\u001B[38;5;21;01mutils\u001B[39;00m\u001B[38;5;21;01m.\u001B[39;00m\u001B[38;5;21;01mvalidate\u001B[39;00m\u001B[38;5;250m \u001B[39m\u001B[38;5;28;01mimport\u001B[39;00m check_unknown\n\u001B[1;32m     18\u001B[0m \u001B[38;5;28;01mdef\u001B[39;00m\u001B[38;5;250m \u001B[39m\u001B[38;5;21mnormalize_prediction\u001B[39m(preds, model, cold_start, unknown_num, unknown_index):\n",
      "File \u001B[0;32m~/anaconda3/envs/repr-u1-10/lib/python3.10/site-packages/libreco/tfops/features.py:3\u001B[0m\n\u001B[1;32m      1\u001B[0m \u001B[38;5;28;01mfrom\u001B[39;00m\u001B[38;5;250m \u001B[39m\u001B[38;5;21;01m.\u001B[39;00m\u001B[38;5;21;01mvariables\u001B[39;00m\u001B[38;5;250m \u001B[39m\u001B[38;5;28;01mimport\u001B[39;00m get_variable_from_graph\n\u001B[1;32m      2\u001B[0m \u001B[38;5;28;01mfrom\u001B[39;00m\u001B[38;5;250m \u001B[39m\u001B[38;5;21;01m.\u001B[39;00m\u001B[38;5;21;01mversion\u001B[39;00m\u001B[38;5;250m \u001B[39m\u001B[38;5;28;01mimport\u001B[39;00m tf\n\u001B[0;32m----> 3\u001B[0m \u001B[38;5;28;01mfrom\u001B[39;00m\u001B[38;5;250m \u001B[39m\u001B[38;5;21;01m.\u001B[39;00m\u001B[38;5;21;01m.\u001B[39;00m\u001B[38;5;21;01mlayers\u001B[39;00m\u001B[38;5;250m \u001B[39m\u001B[38;5;28;01mimport\u001B[39;00m embedding_lookup, layer_normalization\n\u001B[1;32m      6\u001B[0m \u001B[38;5;28;01mdef\u001B[39;00m\u001B[38;5;250m \u001B[39m\u001B[38;5;21mcompute_sparse_feats\u001B[39m(\n\u001B[1;32m      7\u001B[0m     data_info,\n\u001B[1;32m      8\u001B[0m     multi_sparse_combiner,\n\u001B[0;32m   (...)\u001B[0m\n\u001B[1;32m     16\u001B[0m     flatten\u001B[38;5;241m=\u001B[39m\u001B[38;5;28;01mFalse\u001B[39;00m,\n\u001B[1;32m     17\u001B[0m ):\n\u001B[1;32m     18\u001B[0m     reuse \u001B[38;5;241m=\u001B[39m tf\u001B[38;5;241m.\u001B[39mAUTO_REUSE \u001B[38;5;28;01mif\u001B[39;00m reuse_layer \u001B[38;5;28;01melse\u001B[39;00m \u001B[38;5;28;01mNone\u001B[39;00m\n",
      "File \u001B[0;32m~/anaconda3/envs/repr-u1-10/lib/python3.10/site-packages/libreco/layers/__init__.py:11\u001B[0m\n\u001B[1;32m      9\u001B[0m \u001B[38;5;28;01mfrom\u001B[39;00m\u001B[38;5;250m \u001B[39m\u001B[38;5;21;01m.\u001B[39;00m\u001B[38;5;21;01mdense\u001B[39;00m\u001B[38;5;250m \u001B[39m\u001B[38;5;28;01mimport\u001B[39;00m dense_nn, shared_dense, tf_dense\n\u001B[1;32m     10\u001B[0m \u001B[38;5;28;01mfrom\u001B[39;00m\u001B[38;5;250m \u001B[39m\u001B[38;5;21;01m.\u001B[39;00m\u001B[38;5;21;01membedding\u001B[39;00m\u001B[38;5;250m \u001B[39m\u001B[38;5;28;01mimport\u001B[39;00m embedding_lookup, seq_embeds_pooling, sparse_embeds_pooling\n\u001B[0;32m---> 11\u001B[0m \u001B[38;5;28;01mfrom\u001B[39;00m\u001B[38;5;250m \u001B[39m\u001B[38;5;21;01m.\u001B[39;00m\u001B[38;5;21;01mnormalization\u001B[39;00m\u001B[38;5;250m \u001B[39m\u001B[38;5;28;01mimport\u001B[39;00m layer_normalization, normalize_embeds, rms_norm\n\u001B[1;32m     12\u001B[0m \u001B[38;5;28;01mfrom\u001B[39;00m\u001B[38;5;250m \u001B[39m\u001B[38;5;21;01m.\u001B[39;00m\u001B[38;5;21;01mrecurrent\u001B[39;00m\u001B[38;5;250m \u001B[39m\u001B[38;5;28;01mimport\u001B[39;00m tf_rnn\n\u001B[1;32m     14\u001B[0m __all__ \u001B[38;5;241m=\u001B[39m [\n\u001B[1;32m     15\u001B[0m     \u001B[38;5;124m\"\u001B[39m\u001B[38;5;124mcompute_causal_mask\u001B[39m\u001B[38;5;124m\"\u001B[39m,\n\u001B[1;32m     16\u001B[0m     \u001B[38;5;124m\"\u001B[39m\u001B[38;5;124mcompute_seq_mask\u001B[39m\u001B[38;5;124m\"\u001B[39m,\n\u001B[0;32m   (...)\u001B[0m\n\u001B[1;32m     31\u001B[0m     \u001B[38;5;124m\"\u001B[39m\u001B[38;5;124mtf_rnn\u001B[39m\u001B[38;5;124m\"\u001B[39m,\n\u001B[1;32m     32\u001B[0m ]\n",
      "File \u001B[0;32m~/anaconda3/envs/repr-u1-10/lib/python3.10/site-packages/libreco/layers/normalization.py:2\u001B[0m\n\u001B[1;32m      1\u001B[0m \u001B[38;5;28;01mimport\u001B[39;00m\u001B[38;5;250m \u001B[39m\u001B[38;5;21;01mnumpy\u001B[39;00m\u001B[38;5;250m \u001B[39m\u001B[38;5;28;01mas\u001B[39;00m\u001B[38;5;250m \u001B[39m\u001B[38;5;21;01mnp\u001B[39;00m\n\u001B[0;32m----> 2\u001B[0m \u001B[38;5;28;01mimport\u001B[39;00m\u001B[38;5;250m \u001B[39m\u001B[38;5;21;01mtorch\u001B[39;00m\u001B[38;5;21;01m.\u001B[39;00m\u001B[38;5;21;01mlinalg\u001B[39;00m\n\u001B[1;32m      4\u001B[0m \u001B[38;5;28;01mfrom\u001B[39;00m\u001B[38;5;250m \u001B[39m\u001B[38;5;21;01m.\u001B[39;00m\u001B[38;5;21;01m.\u001B[39;00m\u001B[38;5;21;01mtfops\u001B[39;00m\u001B[38;5;250m \u001B[39m\u001B[38;5;28;01mimport\u001B[39;00m tf\n\u001B[1;32m      7\u001B[0m \u001B[38;5;28;01mdef\u001B[39;00m\u001B[38;5;250m \u001B[39m\u001B[38;5;21mlayer_normalization\u001B[39m(inputs, reuse_layer\u001B[38;5;241m=\u001B[39m\u001B[38;5;28;01mFalse\u001B[39;00m, scope_name\u001B[38;5;241m=\u001B[39m\u001B[38;5;124m\"\u001B[39m\u001B[38;5;124mlayer_norm\u001B[39m\u001B[38;5;124m\"\u001B[39m):\n",
      "\u001B[0;31mModuleNotFoundError\u001B[0m: No module named 'torch'"
     ]
    }
   ],
   "execution_count": 15
  },
  {
   "cell_type": "code",
   "execution_count": 244,
   "metadata": {
    "id": "D8lcZ4PXpzou",
    "colab": {
     "base_uri": "https://localhost:8080/"
    },
    "outputId": "dffca328-5148-4884-a9c0-208e92f5fa53"
   },
   "outputs": [
    {
     "output_type": "stream",
     "name": "stderr",
     "text": [
      "eval_pointwise: 100%|██████████| 6/6 [00:00<00:00, 233.31it/s]\n",
      "eval_listwise: 100%|██████████| 373/373 [00:00<00:00, 714.22it/s]\n"
     ]
    },
    {
     "output_type": "execute_result",
     "data": {
      "text/plain": [
       "{'loss': 0.6742145023770763,\n",
       " 'roc_auc': 0.6560994023786628,\n",
       " 'precision': 0.024754244861483466,\n",
       " 'recall': 0.042958019919234744,\n",
       " 'ndcg': 0.10863608108029306}"
      ]
     },
     "metadata": {},
     "execution_count": 244
    }
   ],
   "source": [
    "from libreco.evaluation import evaluate\n",
    "\n",
    "evaluate(\n",
    "     model=model,\n",
    "     data=test_data,\n",
    "     neg_sampling=True,  # perform negative sampling on test data\n",
    "     metrics=[\"loss\", \"roc_auc\", \"precision\", \"recall\", \"ndcg\"],\n",
    " )"
   ]
  },
  {
   "cell_type": "code",
   "source": [
    "def drop_columns_not_name_and_id(name_df):\n",
    "  for column in name_df.columns:\n",
    "    if column != \"name\" and column != \"id\":\n",
    "      name_df.drop(columns=column, inplace=True)\n",
    "  return name_df\n",
    "\n",
    "# RAW_recipes.csv laden\n",
    "raw_recipes_csv_path = os.path.join(path, \"RAW_recipes.csv\")\n",
    "name_df = pd.read_csv(raw_recipes_csv_path)\n",
    "drop_columns_not_name_and_id(name_df)\n",
    "\n",
    "def getName(recipe_id):\n",
    "  name = name_df.loc[name_df['id'] == recipe_id, 'name']\n",
    "  return name.values[0]"
   ],
   "metadata": {
    "id": "xJcfGmhCZS4L"
   },
   "execution_count": 99,
   "outputs": []
  },
  {
   "cell_type": "code",
   "execution_count": 100,
   "metadata": {
    "id": "sDSMSWO4jwd7",
    "colab": {
     "base_uri": "https://localhost:8080/",
     "height": 206
    },
    "outputId": "564cd2e9-3db1-4486-f047-6705bef44222"
   },
   "outputs": [
    {
     "output_type": "execute_result",
     "data": {
      "text/plain": [
       "                                         name      id\n",
       "0  arriba   baked winter squash mexican style  137739\n",
       "1            a bit different  breakfast pizza   31490\n",
       "2                   all in the kitchen  chili  112140\n",
       "3                          alouette  potatoes   59389\n",
       "4          amish  tomato ketchup  for canning   44061"
      ],
      "text/html": [
       "\n",
       "  <div id=\"df-235a3149-0c70-4035-b7ff-32e4b8fc146e\" class=\"colab-df-container\">\n",
       "    <div>\n",
       "<style scoped>\n",
       "    .dataframe tbody tr th:only-of-type {\n",
       "        vertical-align: middle;\n",
       "    }\n",
       "\n",
       "    .dataframe tbody tr th {\n",
       "        vertical-align: top;\n",
       "    }\n",
       "\n",
       "    .dataframe thead th {\n",
       "        text-align: right;\n",
       "    }\n",
       "</style>\n",
       "<table border=\"1\" class=\"dataframe\">\n",
       "  <thead>\n",
       "    <tr style=\"text-align: right;\">\n",
       "      <th></th>\n",
       "      <th>name</th>\n",
       "      <th>id</th>\n",
       "    </tr>\n",
       "  </thead>\n",
       "  <tbody>\n",
       "    <tr>\n",
       "      <th>0</th>\n",
       "      <td>arriba   baked winter squash mexican style</td>\n",
       "      <td>137739</td>\n",
       "    </tr>\n",
       "    <tr>\n",
       "      <th>1</th>\n",
       "      <td>a bit different  breakfast pizza</td>\n",
       "      <td>31490</td>\n",
       "    </tr>\n",
       "    <tr>\n",
       "      <th>2</th>\n",
       "      <td>all in the kitchen  chili</td>\n",
       "      <td>112140</td>\n",
       "    </tr>\n",
       "    <tr>\n",
       "      <th>3</th>\n",
       "      <td>alouette  potatoes</td>\n",
       "      <td>59389</td>\n",
       "    </tr>\n",
       "    <tr>\n",
       "      <th>4</th>\n",
       "      <td>amish  tomato ketchup  for canning</td>\n",
       "      <td>44061</td>\n",
       "    </tr>\n",
       "  </tbody>\n",
       "</table>\n",
       "</div>\n",
       "    <div class=\"colab-df-buttons\">\n",
       "\n",
       "  <div class=\"colab-df-container\">\n",
       "    <button class=\"colab-df-convert\" onclick=\"convertToInteractive('df-235a3149-0c70-4035-b7ff-32e4b8fc146e')\"\n",
       "            title=\"Convert this dataframe to an interactive table.\"\n",
       "            style=\"display:none;\">\n",
       "\n",
       "  <svg xmlns=\"http://www.w3.org/2000/svg\" height=\"24px\" viewBox=\"0 -960 960 960\">\n",
       "    <path d=\"M120-120v-720h720v720H120Zm60-500h600v-160H180v160Zm220 220h160v-160H400v160Zm0 220h160v-160H400v160ZM180-400h160v-160H180v160Zm440 0h160v-160H620v160ZM180-180h160v-160H180v160Zm440 0h160v-160H620v160Z\"/>\n",
       "  </svg>\n",
       "    </button>\n",
       "\n",
       "  <style>\n",
       "    .colab-df-container {\n",
       "      display:flex;\n",
       "      gap: 12px;\n",
       "    }\n",
       "\n",
       "    .colab-df-convert {\n",
       "      background-color: #E8F0FE;\n",
       "      border: none;\n",
       "      border-radius: 50%;\n",
       "      cursor: pointer;\n",
       "      display: none;\n",
       "      fill: #1967D2;\n",
       "      height: 32px;\n",
       "      padding: 0 0 0 0;\n",
       "      width: 32px;\n",
       "    }\n",
       "\n",
       "    .colab-df-convert:hover {\n",
       "      background-color: #E2EBFA;\n",
       "      box-shadow: 0px 1px 2px rgba(60, 64, 67, 0.3), 0px 1px 3px 1px rgba(60, 64, 67, 0.15);\n",
       "      fill: #174EA6;\n",
       "    }\n",
       "\n",
       "    .colab-df-buttons div {\n",
       "      margin-bottom: 4px;\n",
       "    }\n",
       "\n",
       "    [theme=dark] .colab-df-convert {\n",
       "      background-color: #3B4455;\n",
       "      fill: #D2E3FC;\n",
       "    }\n",
       "\n",
       "    [theme=dark] .colab-df-convert:hover {\n",
       "      background-color: #434B5C;\n",
       "      box-shadow: 0px 1px 3px 1px rgba(0, 0, 0, 0.15);\n",
       "      filter: drop-shadow(0px 1px 2px rgba(0, 0, 0, 0.3));\n",
       "      fill: #FFFFFF;\n",
       "    }\n",
       "  </style>\n",
       "\n",
       "    <script>\n",
       "      const buttonEl =\n",
       "        document.querySelector('#df-235a3149-0c70-4035-b7ff-32e4b8fc146e button.colab-df-convert');\n",
       "      buttonEl.style.display =\n",
       "        google.colab.kernel.accessAllowed ? 'block' : 'none';\n",
       "\n",
       "      async function convertToInteractive(key) {\n",
       "        const element = document.querySelector('#df-235a3149-0c70-4035-b7ff-32e4b8fc146e');\n",
       "        const dataTable =\n",
       "          await google.colab.kernel.invokeFunction('convertToInteractive',\n",
       "                                                    [key], {});\n",
       "        if (!dataTable) return;\n",
       "\n",
       "        const docLinkHtml = 'Like what you see? Visit the ' +\n",
       "          '<a target=\"_blank\" href=https://colab.research.google.com/notebooks/data_table.ipynb>data table notebook</a>'\n",
       "          + ' to learn more about interactive tables.';\n",
       "        element.innerHTML = '';\n",
       "        dataTable['output_type'] = 'display_data';\n",
       "        await google.colab.output.renderOutput(dataTable, element);\n",
       "        const docLink = document.createElement('div');\n",
       "        docLink.innerHTML = docLinkHtml;\n",
       "        element.appendChild(docLink);\n",
       "      }\n",
       "    </script>\n",
       "  </div>\n",
       "\n",
       "\n",
       "<div id=\"df-53512bfa-8df3-4f96-be2b-2917192f6143\">\n",
       "  <button class=\"colab-df-quickchart\" onclick=\"quickchart('df-53512bfa-8df3-4f96-be2b-2917192f6143')\"\n",
       "            title=\"Suggest charts\"\n",
       "            style=\"display:none;\">\n",
       "\n",
       "<svg xmlns=\"http://www.w3.org/2000/svg\" height=\"24px\"viewBox=\"0 0 24 24\"\n",
       "     width=\"24px\">\n",
       "    <g>\n",
       "        <path d=\"M19 3H5c-1.1 0-2 .9-2 2v14c0 1.1.9 2 2 2h14c1.1 0 2-.9 2-2V5c0-1.1-.9-2-2-2zM9 17H7v-7h2v7zm4 0h-2V7h2v10zm4 0h-2v-4h2v4z\"/>\n",
       "    </g>\n",
       "</svg>\n",
       "  </button>\n",
       "\n",
       "<style>\n",
       "  .colab-df-quickchart {\n",
       "      --bg-color: #E8F0FE;\n",
       "      --fill-color: #1967D2;\n",
       "      --hover-bg-color: #E2EBFA;\n",
       "      --hover-fill-color: #174EA6;\n",
       "      --disabled-fill-color: #AAA;\n",
       "      --disabled-bg-color: #DDD;\n",
       "  }\n",
       "\n",
       "  [theme=dark] .colab-df-quickchart {\n",
       "      --bg-color: #3B4455;\n",
       "      --fill-color: #D2E3FC;\n",
       "      --hover-bg-color: #434B5C;\n",
       "      --hover-fill-color: #FFFFFF;\n",
       "      --disabled-bg-color: #3B4455;\n",
       "      --disabled-fill-color: #666;\n",
       "  }\n",
       "\n",
       "  .colab-df-quickchart {\n",
       "    background-color: var(--bg-color);\n",
       "    border: none;\n",
       "    border-radius: 50%;\n",
       "    cursor: pointer;\n",
       "    display: none;\n",
       "    fill: var(--fill-color);\n",
       "    height: 32px;\n",
       "    padding: 0;\n",
       "    width: 32px;\n",
       "  }\n",
       "\n",
       "  .colab-df-quickchart:hover {\n",
       "    background-color: var(--hover-bg-color);\n",
       "    box-shadow: 0 1px 2px rgba(60, 64, 67, 0.3), 0 1px 3px 1px rgba(60, 64, 67, 0.15);\n",
       "    fill: var(--button-hover-fill-color);\n",
       "  }\n",
       "\n",
       "  .colab-df-quickchart-complete:disabled,\n",
       "  .colab-df-quickchart-complete:disabled:hover {\n",
       "    background-color: var(--disabled-bg-color);\n",
       "    fill: var(--disabled-fill-color);\n",
       "    box-shadow: none;\n",
       "  }\n",
       "\n",
       "  .colab-df-spinner {\n",
       "    border: 2px solid var(--fill-color);\n",
       "    border-color: transparent;\n",
       "    border-bottom-color: var(--fill-color);\n",
       "    animation:\n",
       "      spin 1s steps(1) infinite;\n",
       "  }\n",
       "\n",
       "  @keyframes spin {\n",
       "    0% {\n",
       "      border-color: transparent;\n",
       "      border-bottom-color: var(--fill-color);\n",
       "      border-left-color: var(--fill-color);\n",
       "    }\n",
       "    20% {\n",
       "      border-color: transparent;\n",
       "      border-left-color: var(--fill-color);\n",
       "      border-top-color: var(--fill-color);\n",
       "    }\n",
       "    30% {\n",
       "      border-color: transparent;\n",
       "      border-left-color: var(--fill-color);\n",
       "      border-top-color: var(--fill-color);\n",
       "      border-right-color: var(--fill-color);\n",
       "    }\n",
       "    40% {\n",
       "      border-color: transparent;\n",
       "      border-right-color: var(--fill-color);\n",
       "      border-top-color: var(--fill-color);\n",
       "    }\n",
       "    60% {\n",
       "      border-color: transparent;\n",
       "      border-right-color: var(--fill-color);\n",
       "    }\n",
       "    80% {\n",
       "      border-color: transparent;\n",
       "      border-right-color: var(--fill-color);\n",
       "      border-bottom-color: var(--fill-color);\n",
       "    }\n",
       "    90% {\n",
       "      border-color: transparent;\n",
       "      border-bottom-color: var(--fill-color);\n",
       "    }\n",
       "  }\n",
       "</style>\n",
       "\n",
       "  <script>\n",
       "    async function quickchart(key) {\n",
       "      const quickchartButtonEl =\n",
       "        document.querySelector('#' + key + ' button');\n",
       "      quickchartButtonEl.disabled = true;  // To prevent multiple clicks.\n",
       "      quickchartButtonEl.classList.add('colab-df-spinner');\n",
       "      try {\n",
       "        const charts = await google.colab.kernel.invokeFunction(\n",
       "            'suggestCharts', [key], {});\n",
       "      } catch (error) {\n",
       "        console.error('Error during call to suggestCharts:', error);\n",
       "      }\n",
       "      quickchartButtonEl.classList.remove('colab-df-spinner');\n",
       "      quickchartButtonEl.classList.add('colab-df-quickchart-complete');\n",
       "    }\n",
       "    (() => {\n",
       "      let quickchartButtonEl =\n",
       "        document.querySelector('#df-53512bfa-8df3-4f96-be2b-2917192f6143 button');\n",
       "      quickchartButtonEl.style.display =\n",
       "        google.colab.kernel.accessAllowed ? 'block' : 'none';\n",
       "    })();\n",
       "  </script>\n",
       "</div>\n",
       "\n",
       "    </div>\n",
       "  </div>\n"
      ],
      "application/vnd.google.colaboratory.intrinsic+json": {
       "type": "dataframe",
       "variable_name": "name_df"
      }
     },
     "metadata": {},
     "execution_count": 100
    }
   ],
   "source": [
    "name_df.head()"
   ]
  },
  {
   "cell_type": "markdown",
   "source": [
    "User Beispeispiele: https://www.kaggle.com/datasets/shuyangli94/food-com-recipes-and-user-interactions?select=interactions_test.csv"
   ],
   "metadata": {
    "id": "YbDubz-ebEVn"
   }
  },
  {
   "cell_type": "code",
   "source": [
    "user_list = data_filtered[\"user\"].unique()\n",
    "len(user_list)"
   ],
   "metadata": {
    "colab": {
     "base_uri": "https://localhost:8080/"
    },
    "id": "xyqKdfOKpjtq",
    "outputId": "e3bc8f6b-15b8-43e6-e66c-5fd5cfb3b1f5"
   },
   "execution_count": 101,
   "outputs": [
    {
     "output_type": "execute_result",
     "data": {
      "text/plain": [
       "3851"
      ]
     },
     "metadata": {},
     "execution_count": 101
    }
   ]
  },
  {
   "cell_type": "code",
   "source": [
    "user_list"
   ],
   "metadata": {
    "colab": {
     "base_uri": "https://localhost:8080/"
    },
    "id": "OXb9ObaaqwHw",
    "outputId": "0acc9db4-6e8d-431f-db39-78eaf2e93972"
   },
   "execution_count": 102,
   "outputs": [
    {
     "output_type": "execute_result",
     "data": {
      "text/plain": [
       "array([      2312,       7802,       6836, ..., 2001330613, 2001453193,\n",
       "       2001102678])"
      ]
     },
     "metadata": {},
     "execution_count": 102
    }
   ]
  },
  {
   "cell_type": "code",
   "source": [
    "def get_recommendation(user):\n",
    "    recommendations_dict = model.recommend_user(user=user,filter_consumed=True, n_rec=7) #,random_rec=True\n",
    "    print(recommendations_dict)\n",
    "\n",
    "    # The result is something like {4460: [id1, id2, ..., id7]}\n",
    "    recommended_ids = recommendations_dict[user]\n",
    "\n",
    "    for recipe_id in recommended_ids:\n",
    "        print(getName(recipe_id))\n",
    "\n",
    "get_recommendation(4470)"
   ],
   "metadata": {
    "colab": {
     "base_uri": "https://localhost:8080/"
    },
    "id": "7J8mB6cXVleV",
    "outputId": "a98ad695-820b-40e9-d855-42092dffef34"
   },
   "execution_count": 273,
   "outputs": [
    {
     "output_type": "stream",
     "name": "stdout",
     "text": [
      "{4470: array([ 54257, 150863,  95569,  27208,  22176,  69173,  57130])}\n",
      "yes  virginia there is a great meatloaf\n",
      "panera s cream cheese potato soup\n",
      "easy and tasty barbecue chicken sandwiches in the crock pot\n",
      "to die for crock pot roast\n",
      "classic baked ziti\n",
      "kittencal s italian melt in your mouth meatballs\n",
      "awesome slow cooker pot roast\n"
     ]
    }
   ]
  },
  {
   "cell_type": "code",
   "source": [
    "get_recommendation(6357)"
   ],
   "metadata": {
    "colab": {
     "base_uri": "https://localhost:8080/"
    },
    "id": "P8LyKxATbwHc",
    "outputId": "b11034ad-9957-471c-e8fe-485374a2938a"
   },
   "execution_count": 274,
   "outputs": [
    {
     "output_type": "stream",
     "name": "stdout",
     "text": [
      "{6357: array([ 27208,  43023,   8701, 150863,  63689, 152441,  30951])}\n",
      "to die for crock pot roast\n",
      "creamy garlic penne pasta\n",
      "should be illegal oven bbq ribs\n",
      "panera s cream cheese potato soup\n",
      "my family s favorite sloppy joes  pizza joes\n",
      "24k carrots\n",
      "green beans with cherry tomatoes\n"
     ]
    }
   ]
  },
  {
   "cell_type": "code",
   "source": [
    "get_recommendation(2000431901)"
   ],
   "metadata": {
    "colab": {
     "base_uri": "https://localhost:8080/"
    },
    "id": "Q78_k1THrAh_",
    "outputId": "567c8a3b-3b8a-4f30-8db4-b9d5787160d2"
   },
   "execution_count": 275,
   "outputs": [
    {
     "output_type": "stream",
     "name": "stdout",
     "text": [
      "{2000431901: array([152441,  68955, 106251,  48760, 150863,  33671,  57130])}\n",
      "24k carrots\n",
      "japanese mum s chicken\n",
      "roasted cauliflower   16 roasted cloves of garlic\n",
      "szechuan noodles with spicy beef sauce\n",
      "panera s cream cheese potato soup\n",
      "crock pot whole chicken\n",
      "awesome slow cooker pot roast\n"
     ]
    }
   ]
  },
  {
   "cell_type": "code",
   "source": [
    "get_recommendation(2001362355)"
   ],
   "metadata": {
    "id": "qW5ahOwq6Zc3",
    "colab": {
     "base_uri": "https://localhost:8080/"
    },
    "outputId": "e9391e79-27ea-4870-f72a-d6f26c34a596"
   },
   "execution_count": 277,
   "outputs": [
    {
     "output_type": "stream",
     "name": "stdout",
     "text": [
      "{2001362355: array([ 54257,  43023, 108105,  87782, 125399,  54715,  25885])}\n",
      "yes  virginia there is a great meatloaf\n",
      "creamy garlic penne pasta\n",
      "thai chicken breasts\n",
      "greek potatoes  oven roasted and delicious\n",
      "french toast sticks   oamc\n",
      "sticky pork chops\n",
      "banana banana bread\n"
     ]
    }
   ]
  }
 ],
 "metadata": {
  "colab": {
   "provenance": [],
   "gpuType": "T4"
  },
  "kernelspec": {
   "display_name": "Python 3 (ipykernel)",
   "name": "python3",
   "language": "python"
  },
  "language_info": {
   "name": "python"
  },
  "accelerator": "GPU"
 },
 "nbformat": 4,
 "nbformat_minor": 0
}
