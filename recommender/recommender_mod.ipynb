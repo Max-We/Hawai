{
 "cells": [
  {
   "cell_type": "markdown",
   "metadata": {
    "id": "VjggFY2YTdOp"
   },
   "source": [
    "# Recommender Pipeline\n",
    "\n",
    "*   Synthetische User Profiles\n",
    "*   Ausfüllen von BioBank Datenstruktur (LLM)\n",
    "* Datenstruktur umwandeln (mit LLM) in User Item interaktionen\n",
    "* mithilfe von User Item interaktionen lebensmittel recommenden\n",
    "\n",
    "\n",
    "\n"
   ]
  },
  {
   "cell_type": "markdown",
   "metadata": {
    "id": "fyGdFMkfV7HI"
   },
   "source": []
  },
  {
   "cell_type": "markdown",
   "metadata": {
    "id": "cQZi7tRVVqMK"
   },
   "source": [
    "### About this Dataset\n",
    "This data was collected from https://www.allrecipes.com/.\n",
    "Features include:\n",
    "\n",
    "group: grouping by origin of recipes, consisting of 3 (or 2) groups, separated by dots.\n",
    "name: the name of recipe\n",
    "rating: rating of the recipe\n",
    "n_rater: number of participants rating the recipe\n",
    "n_reiviewer: number of participants reviewing the recipe\n",
    "summary: blurb about the recipe\n",
    "process: summary of the recipe process\n",
    "ingredient: ingredient of the recipe"
   ]
  },
  {
   "cell_type": "code",
   "metadata": {
    "id": "Sw4MU5rIneTm",
    "colab": {
     "base_uri": "https://localhost:8080/",
     "height": 1000
    },
    "outputId": "eb5ec592-7e70-480f-eefa-c48f9a9fbd3f",
    "ExecuteTime": {
     "end_time": "2025-03-13T11:29:58.539280Z",
     "start_time": "2025-03-13T11:29:58.535977Z"
    }
   },
   "source": [
    "# !pip install pandas\n",
    "# !pip install --upgrade kagglehub\n",
    "# !pip install -U LibRecommender\n",
    "# !pip install keras==2.12.0 tensorflow==2.12.0\n",
    "#\n",
    "# !pip show LibRecommender"
   ],
   "outputs": [],
   "execution_count": 1
  },
  {
   "cell_type": "code",
   "metadata": {
    "id": "ddDCdJA69EIp",
    "colab": {
     "base_uri": "https://localhost:8080/"
    },
    "outputId": "800ccfd7-0740-4176-bb4b-ff4c66ac1ad5",
    "ExecuteTime": {
     "end_time": "2025-03-13T11:30:01.233364Z",
     "start_time": "2025-03-13T11:29:58.566839Z"
    }
   },
   "source": [
    "import kagglehub\n",
    "import pandas as pd\n",
    "from zipfile import ZipFile\n",
    "import tensorflow as tf\n",
    "import os\n",
    "\n",
    "\n",
    "path = kagglehub.dataset_download(\"shuyangli94/food-com-recipes-and-user-interactions\")\n",
    "\n",
    "print(\"Path to dataset files:\", path)\n"
   ],
   "outputs": [
    {
     "name": "stderr",
     "output_type": "stream",
     "text": [
      "/home/mw/anaconda3/envs/repr-u1-10/lib/python3.10/site-packages/tqdm/auto.py:21: TqdmWarning: IProgress not found. Please update jupyter and ipywidgets. See https://ipywidgets.readthedocs.io/en/stable/user_install.html\n",
      "  from .autonotebook import tqdm as notebook_tqdm\n",
      "2025-03-13 12:29:58.829261: I tensorflow/core/util/port.cc:110] oneDNN custom operations are on. You may see slightly different numerical results due to floating-point round-off errors from different computation orders. To turn them off, set the environment variable `TF_ENABLE_ONEDNN_OPTS=0`.\n",
      "2025-03-13 12:29:58.903058: I tensorflow/tsl/cuda/cudart_stub.cc:28] Could not find cuda drivers on your machine, GPU will not be used.\n",
      "2025-03-13 12:29:59.041690: I tensorflow/tsl/cuda/cudart_stub.cc:28] Could not find cuda drivers on your machine, GPU will not be used.\n",
      "2025-03-13 12:29:59.042202: I tensorflow/core/platform/cpu_feature_guard.cc:182] This TensorFlow binary is optimized to use available CPU instructions in performance-critical operations.\n",
      "To enable the following instructions: AVX2 AVX_VNNI FMA, in other operations, rebuild TensorFlow with the appropriate compiler flags.\n",
      "2025-03-13 12:29:59.813479: W tensorflow/compiler/tf2tensorrt/utils/py_utils.cc:38] TF-TRT Warning: Could not find TensorRT\n"
     ]
    },
    {
     "name": "stdout",
     "output_type": "stream",
     "text": [
      "Path to dataset files: /home/mw/.cache/kagglehub/datasets/shuyangli94/food-com-recipes-and-user-interactions/versions/2\n"
     ]
    }
   ],
   "execution_count": 2
  },
  {
   "cell_type": "code",
   "metadata": {
    "id": "nLNadF8HHlqO",
    "ExecuteTime": {
     "end_time": "2025-03-13T11:30:01.317392Z",
     "start_time": "2025-03-13T11:30:01.314774Z"
    }
   },
   "source": [
    "def updateLabels(interactions_data):\n",
    "    interactions_data[\"label\"] = interactions_data[\"label\"].apply(lambda x: int(x))\n",
    "    return interactions_data\n"
   ],
   "outputs": [],
   "execution_count": 3
  },
  {
   "cell_type": "code",
   "metadata": {
    "id": "HWW6a57QPUBd",
    "ExecuteTime": {
     "end_time": "2025-03-13T11:30:01.363935Z",
     "start_time": "2025-03-13T11:30:01.360806Z"
    }
   },
   "source": [
    "def rename_and_drop_columns(interactions_data):\n",
    "  interactions_data.rename(\n",
    "      columns={\"user_id\": \"user\", \"recipe_id\": \"item\",\"rating\": \"label\"},\n",
    "      inplace=True\n",
    "  )\n",
    "  for column in interactions_data.columns:\n",
    "    if column != \"user\" and column != \"item\" and column != \"label\":\n",
    "      interactions_data.drop(columns=column, inplace=True)\n",
    "\n",
    "  updateLabels(interactions_data)\n",
    "\n",
    "  return interactions_data"
   ],
   "outputs": [],
   "execution_count": 4
  },
  {
   "cell_type": "code",
   "metadata": {
    "id": "UIc0kpQinETW",
    "ExecuteTime": {
     "end_time": "2025-03-13T11:30:01.842127Z",
     "start_time": "2025-03-13T11:30:01.419390Z"
    }
   },
   "source": [
    "# 2) Vorhandene Interactions-Dateien kombinieren, weil ansonsten ein out of bounds Fehler auftritt\n",
    "eval_data_path = os.path.join(path, \"interactions_validation.csv\")\n",
    "eval_data = pd.read_csv(eval_data_path)\n",
    "\n",
    "\n",
    "train_data_path = os.path.join(path, \"interactions_train.csv\")\n",
    "train_data = pd.read_csv(train_data_path)\n",
    "\n",
    "\n",
    "test_data_path = os.path.join(path, \"interactions_test.csv\")\n",
    "test_data = pd.read_csv(test_data_path)\n",
    "\n",
    "\n",
    "# Data muss zusammengefügt werden, damit sie gefiltert und im gleichen Verhältnis wieder aufgeteilt werden kann\n",
    "data = pd.concat([train_data, eval_data, test_data], ignore_index=True)\n",
    "data = rename_and_drop_columns(data)"
   ],
   "outputs": [],
   "execution_count": 5
  },
  {
   "cell_type": "code",
   "metadata": {
    "id": "9dpbC8IxGl1i",
    "colab": {
     "base_uri": "https://localhost:8080/"
    },
    "outputId": "31a04e49-a5b1-4731-c1e4-e0e47c7c7fd7",
    "ExecuteTime": {
     "end_time": "2025-03-13T11:30:01.856836Z",
     "start_time": "2025-03-13T11:30:01.850327Z"
    }
   },
   "source": [
    "all_unique_labels = data[\"label\"].unique()\n",
    "all_unique_labels"
   ],
   "outputs": [
    {
     "data": {
      "text/plain": [
       "array([5, 4, 3, 1, 0, 2])"
      ]
     },
     "execution_count": 6,
     "metadata": {},
     "output_type": "execute_result"
    }
   ],
   "execution_count": 6
  },
  {
   "cell_type": "code",
   "source": [
    "# Alle unterschiedlichen Inhalte in der Spalte \"label\" und deren Häufigkeit\n",
    "label_counts = data[\"label\"].value_counts()\n",
    "print(\"Unterschiedliche Inhalte in 'label' und deren Häufigkeit:\")\n",
    "print(label_counts)\n"
   ],
   "metadata": {
    "colab": {
     "base_uri": "https://localhost:8080/"
    },
    "id": "SjtQUNdWv5MM",
    "outputId": "bf318aa5-e868-4d77-a1a8-3304d5fc00b8",
    "ExecuteTime": {
     "end_time": "2025-03-13T11:30:01.914981Z",
     "start_time": "2025-03-13T11:30:01.907893Z"
    }
   },
   "outputs": [
    {
     "name": "stdout",
     "output_type": "stream",
     "text": [
      "Unterschiedliche Inhalte in 'label' und deren Häufigkeit:\n",
      "label\n",
      "5    530417\n",
      "4    131846\n",
      "3     27058\n",
      "0     18000\n",
      "2      7336\n",
      "1      3722\n",
      "Name: count, dtype: int64\n"
     ]
    }
   ],
   "execution_count": 7
  },
  {
   "cell_type": "code",
   "metadata": {
    "id": "-_QldDbUPibB",
    "colab": {
     "base_uri": "https://localhost:8080/"
    },
    "outputId": "5cebf133-8cad-4827-b2b4-4cb056945370",
    "ExecuteTime": {
     "end_time": "2025-03-13T11:30:01.983091Z",
     "start_time": "2025-03-13T11:30:01.978818Z"
    }
   },
   "source": [
    "data.columns"
   ],
   "outputs": [
    {
     "data": {
      "text/plain": [
       "Index(['user', 'item', 'label'], dtype='object')"
      ]
     },
     "execution_count": 8,
     "metadata": {},
     "output_type": "execute_result"
    }
   ],
   "execution_count": 8
  },
  {
   "cell_type": "code",
   "metadata": {
    "id": "6QhhdDW5FdrR",
    "colab": {
     "base_uri": "https://localhost:8080/",
     "height": 206
    },
    "outputId": "f27a0db6-998a-42e3-e0f0-0403279a9273",
    "ExecuteTime": {
     "end_time": "2025-03-13T11:30:02.042799Z",
     "start_time": "2025-03-13T11:30:02.033686Z"
    }
   },
   "source": [
    "data.head()"
   ],
   "outputs": [
    {
     "data": {
      "text/plain": [
       "   user  item  label\n",
       "0  2046  4684      5\n",
       "1  2046   517      5\n",
       "2  1773  7435      5\n",
       "3  1773   278      4\n",
       "4  2046  3431      5"
      ],
      "text/html": [
       "<div>\n",
       "<style scoped>\n",
       "    .dataframe tbody tr th:only-of-type {\n",
       "        vertical-align: middle;\n",
       "    }\n",
       "\n",
       "    .dataframe tbody tr th {\n",
       "        vertical-align: top;\n",
       "    }\n",
       "\n",
       "    .dataframe thead th {\n",
       "        text-align: right;\n",
       "    }\n",
       "</style>\n",
       "<table border=\"1\" class=\"dataframe\">\n",
       "  <thead>\n",
       "    <tr style=\"text-align: right;\">\n",
       "      <th></th>\n",
       "      <th>user</th>\n",
       "      <th>item</th>\n",
       "      <th>label</th>\n",
       "    </tr>\n",
       "  </thead>\n",
       "  <tbody>\n",
       "    <tr>\n",
       "      <th>0</th>\n",
       "      <td>2046</td>\n",
       "      <td>4684</td>\n",
       "      <td>5</td>\n",
       "    </tr>\n",
       "    <tr>\n",
       "      <th>1</th>\n",
       "      <td>2046</td>\n",
       "      <td>517</td>\n",
       "      <td>5</td>\n",
       "    </tr>\n",
       "    <tr>\n",
       "      <th>2</th>\n",
       "      <td>1773</td>\n",
       "      <td>7435</td>\n",
       "      <td>5</td>\n",
       "    </tr>\n",
       "    <tr>\n",
       "      <th>3</th>\n",
       "      <td>1773</td>\n",
       "      <td>278</td>\n",
       "      <td>4</td>\n",
       "    </tr>\n",
       "    <tr>\n",
       "      <th>4</th>\n",
       "      <td>2046</td>\n",
       "      <td>3431</td>\n",
       "      <td>5</td>\n",
       "    </tr>\n",
       "  </tbody>\n",
       "</table>\n",
       "</div>"
      ]
     },
     "execution_count": 9,
     "metadata": {},
     "output_type": "execute_result"
    }
   ],
   "execution_count": 9
  },
  {
   "cell_type": "code",
   "metadata": {
    "id": "S4GIoH_arD4V",
    "colab": {
     "base_uri": "https://localhost:8080/"
    },
    "outputId": "2b2a2be4-359a-44e7-a61b-8f9bb8a12f3f",
    "ExecuteTime": {
     "end_time": "2025-03-13T11:30:02.102129Z",
     "start_time": "2025-03-13T11:30:02.097500Z"
    }
   },
   "source": [
    "data['user'][0]"
   ],
   "outputs": [
    {
     "data": {
      "text/plain": [
       "2046"
      ]
     },
     "execution_count": 10,
     "metadata": {},
     "output_type": "execute_result"
    }
   ],
   "execution_count": 10
  },
  {
   "cell_type": "code",
   "metadata": {
    "id": "B-870QJ3rFpb",
    "colab": {
     "base_uri": "https://localhost:8080/"
    },
    "outputId": "29df6c70-e043-43ec-be1d-e4e333d5ec99",
    "ExecuteTime": {
     "end_time": "2025-03-13T11:30:02.172269Z",
     "start_time": "2025-03-13T11:30:02.168125Z"
    }
   },
   "source": [
    "data['item'][0]"
   ],
   "outputs": [
    {
     "data": {
      "text/plain": [
       "4684"
      ]
     },
     "execution_count": 11,
     "metadata": {},
     "output_type": "execute_result"
    }
   ],
   "execution_count": 11
  },
  {
   "cell_type": "code",
   "metadata": {
    "id": "2BXrm9RmrG9U",
    "colab": {
     "base_uri": "https://localhost:8080/"
    },
    "outputId": "d5b33a79-5e2a-4c57-c9a8-c5d9bfbda08c",
    "ExecuteTime": {
     "end_time": "2025-03-13T11:30:02.335730Z",
     "start_time": "2025-03-13T11:30:02.330889Z"
    }
   },
   "source": [
    "data['label'][0]"
   ],
   "outputs": [
    {
     "data": {
      "text/plain": [
       "5"
      ]
     },
     "execution_count": 12,
     "metadata": {},
     "output_type": "execute_result"
    }
   ],
   "execution_count": 12
  },
  {
   "cell_type": "code",
   "source": [
    "import pandas as pd\n",
    "\n",
    "threshold = 30\n",
    "\n",
    "# 1) Items filtern, die mindestens * Interaktionen haben:\n",
    "min_item_interactions = threshold\n",
    "item_counts = data[\"item\"].value_counts()\n",
    "items_to_keep = item_counts[item_counts >= min_item_interactions].index\n",
    "\n",
    "data_filtered = data[data[\"item\"].isin(items_to_keep)]\n",
    "\n",
    "# 2) User filtern, die mindestens * Interaktionen haben:\n",
    "min_user_interactions = threshold\n",
    "user_counts = data_filtered[\"user\"].value_counts()\n",
    "users_to_keep = user_counts[user_counts >= min_user_interactions].index\n",
    "\n",
    "data_filtered = data_filtered[data_filtered[\"user\"].isin(users_to_keep)]\n",
    "\n",
    "# Ergebnis prüfen\n",
    "print(\"Datensatz vor Filterung:\", data.shape)\n",
    "print(\"Datensatz nach Filterung:\", data_filtered.shape)\n",
    "print(data_filtered.head())\n"
   ],
   "metadata": {
    "colab": {
     "base_uri": "https://localhost:8080/"
    },
    "id": "RzInmwVkjjQa",
    "outputId": "d2683c7d-7770-454a-e28c-50faedfca052",
    "ExecuteTime": {
     "end_time": "2025-03-13T11:30:02.490980Z",
     "start_time": "2025-03-13T11:30:02.438365Z"
    }
   },
   "outputs": [
    {
     "name": "stdout",
     "output_type": "stream",
     "text": [
      "Datensatz vor Filterung: (718379, 3)\n",
      "Datensatz nach Filterung: (71370, 3)\n",
      "      user   item  label\n",
      "164  11297   5478      4\n",
      "245   4470    834      5\n",
      "300   6357  11365      5\n",
      "349   6357  11642      5\n",
      "365   9869   2886      5\n"
     ]
    }
   ],
   "execution_count": 13
  },
  {
   "cell_type": "code",
   "metadata": {
    "id": "g6eIxQBF13Xn",
    "colab": {
     "base_uri": "https://localhost:8080/"
    },
    "outputId": "b4a191fc-da92-4d73-e8fb-7a2353338f35",
    "ExecuteTime": {
     "end_time": "2025-03-13T11:30:02.676542Z",
     "start_time": "2025-03-13T11:30:02.511272Z"
    }
   },
   "source": [
    "from libreco.data import random_split, DatasetPure\n",
    "\n",
    "train_data, eval_data, test_data = random_split(data_filtered, multi_ratios=[0.8, 0.1, 0.1])\n",
    "\n",
    "train_data, data_info = DatasetPure.build_trainset(train_data)\n",
    "eval_data = DatasetPure.build_evalset(eval_data)\n",
    "test_data = DatasetPure.build_testset(test_data)\n",
    "print(data_info)"
   ],
   "outputs": [
    {
     "name": "stdout",
     "output_type": "stream",
     "text": [
      "n_users: 1136, n_items: 2455, data density: 2.0472 %\n"
     ]
    }
   ],
   "execution_count": 14
  },
  {
   "metadata": {
    "ExecuteTime": {
     "end_time": "2025-03-13T11:30:02.726731Z",
     "start_time": "2025-03-13T11:30:02.722420Z"
    }
   },
   "cell_type": "code",
   "source": "data_filtered.columns",
   "outputs": [
    {
     "data": {
      "text/plain": [
       "Index(['user', 'item', 'label'], dtype='object')"
      ]
     },
     "execution_count": 15,
     "metadata": {},
     "output_type": "execute_result"
    }
   ],
   "execution_count": 15
  },
  {
   "metadata": {
    "ExecuteTime": {
     "end_time": "2025-03-13T11:30:02.788262Z",
     "start_time": "2025-03-13T11:30:02.781880Z"
    }
   },
   "cell_type": "code",
   "source": "data_filtered.head()",
   "outputs": [
    {
     "data": {
      "text/plain": [
       "      user   item  label\n",
       "164  11297   5478      4\n",
       "245   4470    834      5\n",
       "300   6357  11365      5\n",
       "349   6357  11642      5\n",
       "365   9869   2886      5"
      ],
      "text/html": [
       "<div>\n",
       "<style scoped>\n",
       "    .dataframe tbody tr th:only-of-type {\n",
       "        vertical-align: middle;\n",
       "    }\n",
       "\n",
       "    .dataframe tbody tr th {\n",
       "        vertical-align: top;\n",
       "    }\n",
       "\n",
       "    .dataframe thead th {\n",
       "        text-align: right;\n",
       "    }\n",
       "</style>\n",
       "<table border=\"1\" class=\"dataframe\">\n",
       "  <thead>\n",
       "    <tr style=\"text-align: right;\">\n",
       "      <th></th>\n",
       "      <th>user</th>\n",
       "      <th>item</th>\n",
       "      <th>label</th>\n",
       "    </tr>\n",
       "  </thead>\n",
       "  <tbody>\n",
       "    <tr>\n",
       "      <th>164</th>\n",
       "      <td>11297</td>\n",
       "      <td>5478</td>\n",
       "      <td>4</td>\n",
       "    </tr>\n",
       "    <tr>\n",
       "      <th>245</th>\n",
       "      <td>4470</td>\n",
       "      <td>834</td>\n",
       "      <td>5</td>\n",
       "    </tr>\n",
       "    <tr>\n",
       "      <th>300</th>\n",
       "      <td>6357</td>\n",
       "      <td>11365</td>\n",
       "      <td>5</td>\n",
       "    </tr>\n",
       "    <tr>\n",
       "      <th>349</th>\n",
       "      <td>6357</td>\n",
       "      <td>11642</td>\n",
       "      <td>5</td>\n",
       "    </tr>\n",
       "    <tr>\n",
       "      <th>365</th>\n",
       "      <td>9869</td>\n",
       "      <td>2886</td>\n",
       "      <td>5</td>\n",
       "    </tr>\n",
       "  </tbody>\n",
       "</table>\n",
       "</div>"
      ]
     },
     "execution_count": 16,
     "metadata": {},
     "output_type": "execute_result"
    }
   ],
   "execution_count": 16
  },
  {
   "metadata": {
    "ExecuteTime": {
     "end_time": "2025-03-13T11:30:02.929048Z",
     "start_time": "2025-03-13T11:30:02.923814Z"
    }
   },
   "cell_type": "code",
   "source": [
    "# nr of unique users\n",
    "data_filtered['user'].nunique()"
   ],
   "outputs": [
    {
     "data": {
      "text/plain": [
       "1136"
      ]
     },
     "execution_count": 17,
     "metadata": {},
     "output_type": "execute_result"
    }
   ],
   "execution_count": 17
  },
  {
   "metadata": {
    "ExecuteTime": {
     "end_time": "2025-03-13T12:02:57.562236Z",
     "start_time": "2025-03-13T12:02:57.526149Z"
    }
   },
   "cell_type": "code",
   "source": [
    "def create_user_item_matrix(df):\n",
    "    # Create the pivot table: rows are users, columns are items, values are labels\n",
    "    user_item_matrix = df.pivot(index='user', columns='item', values='label')\n",
    "    return user_item_matrix.fillna(3).to_numpy()-3 # center around 0, replace NaN with 0\n",
    "\n",
    "user_item_matrix = create_user_item_matrix(data_filtered)\n",
    "user_item_matrix.shape"
   ],
   "outputs": [
    {
     "data": {
      "text/plain": [
       "(1136, 2455)"
      ]
     },
     "execution_count": 76,
     "metadata": {},
     "output_type": "execute_result"
    }
   ],
   "execution_count": 76
  },
  {
   "metadata": {},
   "cell_type": "markdown",
   "source": "### Uncertainty-sampling approach"
  },
  {
   "metadata": {
    "ExecuteTime": {
     "end_time": "2025-03-13T12:03:03.909063Z",
     "start_time": "2025-03-13T12:03:03.901998Z"
    }
   },
   "cell_type": "code",
   "source": [
    "import numpy as np\n",
    "from scipy.sparse.linalg import svds\n",
    "from sklearn.neighbors import NearestNeighbors\n",
    "import random\n",
    "\n",
    "def get_rating(item_id, default_value=None):\n",
    "    if default_value is not None:\n",
    "        return default_value\n",
    "\n",
    "    return random.randint(-2, 2)\n",
    "\n",
    "def active_learning_recommendation(user_item_matrix, n_iterations=10, n_factors=20, k_neighbors=5, latent_neighbor=True, default_rating=None):\n",
    "    n_users, n_items = user_item_matrix.shape\n",
    "\n",
    "    # SVD\n",
    "    U, sigma, Vt = svds(user_item_matrix, k=n_factors)\n",
    "\n",
    "    # KNN\n",
    "    if not latent_neighbor:\n",
    "        knn_model = NearestNeighbors(n_neighbors=k_neighbors, metric='cosine')\n",
    "        knn_model.fit(user_item_matrix)\n",
    "    else:\n",
    "        knn_model = NearestNeighbors(n_neighbors=k_neighbors, metric='cosine')\n",
    "        knn_model.fit(U)\n",
    "\n",
    "    # Iterative active learning process\n",
    "    summary = []\n",
    "    user_vector, user_latent = np.zeros(n_items), np.mean(U, axis=0)\n",
    "    for _ in range(n_iterations):\n",
    "        # Find similar users in original vector space\n",
    "        if not latent_neighbor:\n",
    "            _, similar_users_indices = knn_model.kneighbors([user_vector], n_neighbors=min(k_neighbors, len(user_item_matrix)))\n",
    "        else:\n",
    "            _, similar_users_indices = knn_model.kneighbors([user_latent], n_neighbors=min(k_neighbors, len(U)))\n",
    "\n",
    "        # Get the latent vectors for these similar users for prediction\n",
    "        similar_users_latents = U[similar_users_indices[0]]\n",
    "\n",
    "        # Active learning by uncertainty sampling\n",
    "        # 1. Calculate projected ratings\n",
    "        rating_projections = np.dot(similar_users_latents, np.dot(np.diag(sigma), Vt))\n",
    "        # 2. Calculate variance of ratings across selected users\n",
    "        rating_variances = np.var(rating_projections, axis=0) * (user_vector == 0)\n",
    "        # 3. Uncertainty sampling: select the item with the highest variance\n",
    "        selected_item = np.argmax(rating_variances)\n",
    "\n",
    "        # Ask oracle to rate the new item\n",
    "        rating = get_rating(selected_item, default_rating)\n",
    "        # Update user vector & latent representation\n",
    "        user_vector[selected_item] = rating\n",
    "        user_latent = np.dot(user_vector, np.dot(Vt.T, np.diag(1.0 / sigma)))\n",
    "        # Add to summary\n",
    "        summary.append((selected_item, rating))\n",
    "\n",
    "    return summary"
   ],
   "outputs": [],
   "execution_count": 77
  },
  {
   "metadata": {
    "ExecuteTime": {
     "end_time": "2025-03-13T12:03:05.047160Z",
     "start_time": "2025-03-13T12:03:04.043970Z"
    }
   },
   "cell_type": "code",
   "source": [
    "results = active_learning_recommendation(user_item_matrix, n_iterations=5, latent_neighbor=True, default_rating=2)\n",
    "print(results)\n",
    "results = active_learning_recommendation(user_item_matrix, n_iterations=5, latent_neighbor=True, default_rating=-2)\n",
    "print(results)"
   ],
   "outputs": [
    {
     "name": "stdout",
     "output_type": "stream",
     "text": [
      "[(1433, 2), (642, 2), (514, 2), (778, 2), (396, 2)]\n",
      "[(1433, -2), (1044, -2), (1506, -2), (396, -2), (778, -2)]\n"
     ]
    }
   ],
   "execution_count": 78
  },
  {
   "metadata": {
    "ExecuteTime": {
     "end_time": "2025-03-13T12:03:06.049076Z",
     "start_time": "2025-03-13T12:03:05.091823Z"
    }
   },
   "cell_type": "code",
   "source": [
    "results = active_learning_recommendation(user_item_matrix, n_iterations=5, latent_neighbor=False, default_rating=2)\n",
    "print(results)\n",
    "results = active_learning_recommendation(user_item_matrix, n_iterations=5, latent_neighbor=False, default_rating=-2)\n",
    "print(results)"
   ],
   "outputs": [
    {
     "name": "stdout",
     "output_type": "stream",
     "text": [
      "[(1260, 2), (778, 2), (514, 2), (396, 2), (1506, 2)]\n",
      "[(1260, -2), (1257, -2), (514, -2), (778, -2), (1433, -2)]\n"
     ]
    }
   ],
   "execution_count": 79
  },
  {
   "metadata": {
    "ExecuteTime": {
     "end_time": "2025-03-11T10:29:06.576726Z",
     "start_time": "2025-03-11T10:29:06.573887Z"
    }
   },
   "cell_type": "code",
   "source": "",
   "outputs": [],
   "execution_count": null
  }
 ],
 "metadata": {
  "colab": {
   "provenance": [],
   "gpuType": "T4"
  },
  "kernelspec": {
   "display_name": "Python 3 (ipykernel)",
   "name": "python3",
   "language": "python"
  },
  "language_info": {
   "name": "python"
  },
  "accelerator": "GPU"
 },
 "nbformat": 4,
 "nbformat_minor": 0
}
